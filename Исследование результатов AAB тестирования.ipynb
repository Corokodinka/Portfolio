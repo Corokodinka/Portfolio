{
 "cells": [
  {
   "cell_type": "markdown",
   "metadata": {},
   "source": [
    "# Исследование результатов A/A/B тестирования"
   ]
  },
  {
   "cell_type": "markdown",
   "metadata": {},
   "source": [
    "## Информация о проекте"
   ]
  },
  {
   "cell_type": "markdown",
   "metadata": {},
   "source": [
    "### Описание данных"
   ]
  },
  {
   "cell_type": "markdown",
   "metadata": {},
   "source": [
    "**/datasets/logs_exp.csv**\n",
    "\n",
    "- EventName — название события;\n",
    "- DeviceIDHash — уникальный идентификатор пользователя;\n",
    "- EventTimestamp — время события;\n",
    "- ExpId — номер эксперимента: 246 и 247 — контрольные группы, а 248 — экспериментальная.\n"
   ]
  },
  {
   "cell_type": "markdown",
   "metadata": {},
   "source": [
    "### План работы"
   ]
  },
  {
   "cell_type": "markdown",
   "metadata": {},
   "source": [
    "- [x] 1) Подготовить данные:\n",
    "      - Заменить названия столбцов;\n",
    "      - Добавить столбец даты и времени, а также отдельный столбец дат;\n",
    "      - Проверить пропуски и типы данных.\n",
    "- [x] 2) Изучить и проверьте данные:\n",
    "      - Узнать сколько всего событий в логе;\n",
    "      - Узнать сколько всего пользователей в логе;\n",
    "      - Узнать сколько в среднем событий приходится на пользователя;\n",
    "      - Найти максимальную и минимальную дату, а также построить столбчатую диаграмму, которая отобразит количество событий в зависимости от времени в разрезе групп;\n",
    "      - На основе предыдущего шага определить, с какого момента данные полные и отбросить более старые;\n",
    "      - Определить сколько событий и пользователей было утеряно в результате чистки данных;\n",
    "      - Проверить, что во всех 3 исследуемых группах сохранились пользователи.\n",
    "- [x] 3) Изучить воронку событий:\n",
    "      - Посмотреть, какие события есть в логах, как часто они встречаются и отсортировать события по частоте;\n",
    "      - Посчитать, сколько пользователей совершали каждое из этих событий. Отсортировать события по числу пользователей. Посчитать долю пользователей, которые хоть раз совершали событие;\n",
    "      - Предположить, в каком порядке происходят события (Все ли они выстраиваются в последовательную цепочку? Их не нужно учитывать при расчёте воронки);\n",
    "      - По воронке событий посчитайте, какая доля пользователей проходит на следующий шаг воронки;\n",
    "      - Узнать, на каком шаге теряется больше всего пользователей;\n",
    "      - Какая доля пользователей доходит от первого события до оплаты.\n",
    "- [x] 4) Изучить результаты эксперимента:\n",
    "      - Посчитать количество пользователей в каждой экспериментальной группе;\n",
    "      - Проверить, находят ли статистические критерии разницу между выборками 246 и 247;\n",
    "      - Выбрать самое популярное событие. Посчитать число пользователей, совершивших это событие в каждой из контрольных групп. Посчитать долю пользователей, совершивших это событие. Проверить, будет ли отличие между группами статистически достоверным. Сделать то же самое для всех других событий;\n",
    "      - Аналогично поступить с группой с изменённым шрифтом. Сравнить результаты с каждой из контрольных групп в отдельности по каждому событию. Сравнить результаты с объединённой контрольной группой. Сделать выводы;\n",
    "      - Посчитать, сколько проверок статистических гипотез было сделано. При уровне значимости 0.1 в 10% случаев можно ошибочно отклонить нулевую гипотезу при условии, что она верна. Определить какой уровень значимости стоит применить. В случа необходимости заменить урвоень значимости и заново проделать предыдущие пункты и проверить выводы.\n",
    "\n"
   ]
  },
  {
   "cell_type": "markdown",
   "metadata": {},
   "source": [
    "## Подготовка данных"
   ]
  },
  {
   "cell_type": "markdown",
   "metadata": {},
   "source": [
    "### Загрузка библиотек и файла"
   ]
  },
  {
   "cell_type": "code",
   "execution_count": 1,
   "metadata": {},
   "outputs": [],
   "source": [
    "# Импортируем библиотеки\n",
    "import pandas as pd\n",
    "import matplotlib.pyplot as plt\n",
    "import numpy as np\n",
    "import math as mth\n",
    "import datetime as dt\n",
    "from scipy import stats as st\n",
    "\n",
    "pd.options.mode.chained_assignment = None"
   ]
  },
  {
   "cell_type": "code",
   "execution_count": 2,
   "metadata": {},
   "outputs": [
    {
     "name": "stdout",
     "output_type": "stream",
     "text": [
      "<class 'pandas.core.frame.DataFrame'>\n",
      "RangeIndex: 244126 entries, 0 to 244125\n",
      "Data columns (total 4 columns):\n",
      " #   Column          Non-Null Count   Dtype \n",
      "---  ------          --------------   ----- \n",
      " 0   EventName       244126 non-null  object\n",
      " 1   DeviceIDHash    244126 non-null  int64 \n",
      " 2   EventTimestamp  244126 non-null  int64 \n",
      " 3   ExpId           244126 non-null  int64 \n",
      "dtypes: int64(3), object(1)\n",
      "memory usage: 7.5+ MB\n"
     ]
    },
    {
     "data": {
      "text/html": [
       "<div>\n",
       "<style scoped>\n",
       "    .dataframe tbody tr th:only-of-type {\n",
       "        vertical-align: middle;\n",
       "    }\n",
       "\n",
       "    .dataframe tbody tr th {\n",
       "        vertical-align: top;\n",
       "    }\n",
       "\n",
       "    .dataframe thead th {\n",
       "        text-align: right;\n",
       "    }\n",
       "</style>\n",
       "<table border=\"1\" class=\"dataframe\">\n",
       "  <thead>\n",
       "    <tr style=\"text-align: right;\">\n",
       "      <th></th>\n",
       "      <th>EventName</th>\n",
       "      <th>DeviceIDHash</th>\n",
       "      <th>EventTimestamp</th>\n",
       "      <th>ExpId</th>\n",
       "    </tr>\n",
       "  </thead>\n",
       "  <tbody>\n",
       "    <tr>\n",
       "      <th>0</th>\n",
       "      <td>MainScreenAppear</td>\n",
       "      <td>4575588528974610257</td>\n",
       "      <td>1564029816</td>\n",
       "      <td>246</td>\n",
       "    </tr>\n",
       "    <tr>\n",
       "      <th>1</th>\n",
       "      <td>MainScreenAppear</td>\n",
       "      <td>7416695313311560658</td>\n",
       "      <td>1564053102</td>\n",
       "      <td>246</td>\n",
       "    </tr>\n",
       "    <tr>\n",
       "      <th>2</th>\n",
       "      <td>PaymentScreenSuccessful</td>\n",
       "      <td>3518123091307005509</td>\n",
       "      <td>1564054127</td>\n",
       "      <td>248</td>\n",
       "    </tr>\n",
       "    <tr>\n",
       "      <th>3</th>\n",
       "      <td>CartScreenAppear</td>\n",
       "      <td>3518123091307005509</td>\n",
       "      <td>1564054127</td>\n",
       "      <td>248</td>\n",
       "    </tr>\n",
       "    <tr>\n",
       "      <th>4</th>\n",
       "      <td>PaymentScreenSuccessful</td>\n",
       "      <td>6217807653094995999</td>\n",
       "      <td>1564055322</td>\n",
       "      <td>248</td>\n",
       "    </tr>\n",
       "    <tr>\n",
       "      <th>...</th>\n",
       "      <td>...</td>\n",
       "      <td>...</td>\n",
       "      <td>...</td>\n",
       "      <td>...</td>\n",
       "    </tr>\n",
       "    <tr>\n",
       "      <th>244121</th>\n",
       "      <td>MainScreenAppear</td>\n",
       "      <td>4599628364049201812</td>\n",
       "      <td>1565212345</td>\n",
       "      <td>247</td>\n",
       "    </tr>\n",
       "    <tr>\n",
       "      <th>244122</th>\n",
       "      <td>MainScreenAppear</td>\n",
       "      <td>5849806612437486590</td>\n",
       "      <td>1565212439</td>\n",
       "      <td>246</td>\n",
       "    </tr>\n",
       "    <tr>\n",
       "      <th>244123</th>\n",
       "      <td>MainScreenAppear</td>\n",
       "      <td>5746969938801999050</td>\n",
       "      <td>1565212483</td>\n",
       "      <td>246</td>\n",
       "    </tr>\n",
       "    <tr>\n",
       "      <th>244124</th>\n",
       "      <td>MainScreenAppear</td>\n",
       "      <td>5746969938801999050</td>\n",
       "      <td>1565212498</td>\n",
       "      <td>246</td>\n",
       "    </tr>\n",
       "    <tr>\n",
       "      <th>244125</th>\n",
       "      <td>OffersScreenAppear</td>\n",
       "      <td>5746969938801999050</td>\n",
       "      <td>1565212517</td>\n",
       "      <td>246</td>\n",
       "    </tr>\n",
       "  </tbody>\n",
       "</table>\n",
       "<p>244126 rows × 4 columns</p>\n",
       "</div>"
      ],
      "text/plain": [
       "                      EventName         DeviceIDHash  EventTimestamp  ExpId\n",
       "0              MainScreenAppear  4575588528974610257      1564029816    246\n",
       "1              MainScreenAppear  7416695313311560658      1564053102    246\n",
       "2       PaymentScreenSuccessful  3518123091307005509      1564054127    248\n",
       "3              CartScreenAppear  3518123091307005509      1564054127    248\n",
       "4       PaymentScreenSuccessful  6217807653094995999      1564055322    248\n",
       "...                         ...                  ...             ...    ...\n",
       "244121         MainScreenAppear  4599628364049201812      1565212345    247\n",
       "244122         MainScreenAppear  5849806612437486590      1565212439    246\n",
       "244123         MainScreenAppear  5746969938801999050      1565212483    246\n",
       "244124         MainScreenAppear  5746969938801999050      1565212498    246\n",
       "244125       OffersScreenAppear  5746969938801999050      1565212517    246\n",
       "\n",
       "[244126 rows x 4 columns]"
      ]
     },
     "execution_count": 2,
     "metadata": {},
     "output_type": "execute_result"
    }
   ],
   "source": [
    "# Открываем файл и выводим общую информацию о нем\n",
    "data = pd.read_csv('/datasets/logs_exp.csv', delimiter='\\t')\n",
    "data.info()\n",
    "data"
   ]
  },
  {
   "cell_type": "markdown",
   "metadata": {},
   "source": [
    "### Замена названий столбцов"
   ]
  },
  {
   "cell_type": "code",
   "execution_count": 3,
   "metadata": {},
   "outputs": [],
   "source": [
    "# Заменяем названия столбцов \n",
    "data.columns = ['event_name','user_id','event_timestamp','exp_id']"
   ]
  },
  {
   "cell_type": "markdown",
   "metadata": {},
   "source": [
    "### Добавление столбцов с датой и временем"
   ]
  },
  {
   "cell_type": "code",
   "execution_count": 4,
   "metadata": {},
   "outputs": [],
   "source": [
    "# Создаем столбцы с датой и временем, а также отдельный только с датой\n",
    "data['datetime'] = pd.to_datetime(data['event_timestamp'], unit='s')\n",
    "data['date'] = data['datetime'].apply(lambda x: x.date()) # Не стал переводить к типу datetime64[ns], чтобы в дальнейшем дата\\\n",
    "# имела более приятный вид без нулей во времени"
   ]
  },
  {
   "cell_type": "markdown",
   "metadata": {},
   "source": [
    "### Проверка пропусков и типов данных"
   ]
  },
  {
   "cell_type": "code",
   "execution_count": 5,
   "metadata": {},
   "outputs": [
    {
     "data": {
      "text/plain": [
       "array(['MainScreenAppear', 'PaymentScreenSuccessful', 'CartScreenAppear',\n",
       "       'OffersScreenAppear', 'Tutorial'], dtype=object)"
      ]
     },
     "execution_count": 5,
     "metadata": {},
     "output_type": "execute_result"
    }
   ],
   "source": [
    "# Смотрим наличие дубликатов значений в столбце event_name\n",
    "data['event_name'].unique()"
   ]
  },
  {
   "cell_type": "code",
   "execution_count": 6,
   "metadata": {},
   "outputs": [
    {
     "data": {
      "text/plain": [
       "array([246, 248, 247])"
      ]
     },
     "execution_count": 6,
     "metadata": {},
     "output_type": "execute_result"
    }
   ],
   "source": [
    "# Смотрим наличие дубликатов значений в столбце exp_id\n",
    "data['exp_id'].unique()"
   ]
  },
  {
   "cell_type": "code",
   "execution_count": 7,
   "metadata": {},
   "outputs": [
    {
     "data": {
      "text/html": [
       "<div>\n",
       "<style scoped>\n",
       "    .dataframe tbody tr th:only-of-type {\n",
       "        vertical-align: middle;\n",
       "    }\n",
       "\n",
       "    .dataframe tbody tr th {\n",
       "        vertical-align: top;\n",
       "    }\n",
       "\n",
       "    .dataframe thead th {\n",
       "        text-align: right;\n",
       "    }\n",
       "</style>\n",
       "<table border=\"1\" class=\"dataframe\">\n",
       "  <thead>\n",
       "    <tr style=\"text-align: right;\">\n",
       "      <th></th>\n",
       "      <th>event_name</th>\n",
       "      <th>user_id</th>\n",
       "      <th>event_timestamp</th>\n",
       "      <th>exp_id</th>\n",
       "      <th>datetime</th>\n",
       "      <th>date</th>\n",
       "    </tr>\n",
       "  </thead>\n",
       "  <tbody>\n",
       "    <tr>\n",
       "      <th>453</th>\n",
       "      <td>MainScreenAppear</td>\n",
       "      <td>5613408041324010552</td>\n",
       "      <td>1564474784</td>\n",
       "      <td>248</td>\n",
       "      <td>2019-07-30 08:19:44</td>\n",
       "      <td>2019-07-30</td>\n",
       "    </tr>\n",
       "    <tr>\n",
       "      <th>2350</th>\n",
       "      <td>CartScreenAppear</td>\n",
       "      <td>1694940645335807244</td>\n",
       "      <td>1564609899</td>\n",
       "      <td>248</td>\n",
       "      <td>2019-07-31 21:51:39</td>\n",
       "      <td>2019-07-31</td>\n",
       "    </tr>\n",
       "    <tr>\n",
       "      <th>3573</th>\n",
       "      <td>MainScreenAppear</td>\n",
       "      <td>434103746454591587</td>\n",
       "      <td>1564628377</td>\n",
       "      <td>248</td>\n",
       "      <td>2019-08-01 02:59:37</td>\n",
       "      <td>2019-08-01</td>\n",
       "    </tr>\n",
       "    <tr>\n",
       "      <th>4076</th>\n",
       "      <td>MainScreenAppear</td>\n",
       "      <td>3761373764179762633</td>\n",
       "      <td>1564631266</td>\n",
       "      <td>247</td>\n",
       "      <td>2019-08-01 03:47:46</td>\n",
       "      <td>2019-08-01</td>\n",
       "    </tr>\n",
       "    <tr>\n",
       "      <th>4803</th>\n",
       "      <td>MainScreenAppear</td>\n",
       "      <td>2835328739789306622</td>\n",
       "      <td>1564634641</td>\n",
       "      <td>248</td>\n",
       "      <td>2019-08-01 04:44:01</td>\n",
       "      <td>2019-08-01</td>\n",
       "    </tr>\n",
       "    <tr>\n",
       "      <th>...</th>\n",
       "      <td>...</td>\n",
       "      <td>...</td>\n",
       "      <td>...</td>\n",
       "      <td>...</td>\n",
       "      <td>...</td>\n",
       "      <td>...</td>\n",
       "    </tr>\n",
       "    <tr>\n",
       "      <th>242329</th>\n",
       "      <td>MainScreenAppear</td>\n",
       "      <td>8870358373313968633</td>\n",
       "      <td>1565206004</td>\n",
       "      <td>247</td>\n",
       "      <td>2019-08-07 19:26:44</td>\n",
       "      <td>2019-08-07</td>\n",
       "    </tr>\n",
       "    <tr>\n",
       "      <th>242332</th>\n",
       "      <td>PaymentScreenSuccessful</td>\n",
       "      <td>4718002964983105693</td>\n",
       "      <td>1565206005</td>\n",
       "      <td>247</td>\n",
       "      <td>2019-08-07 19:26:45</td>\n",
       "      <td>2019-08-07</td>\n",
       "    </tr>\n",
       "    <tr>\n",
       "      <th>242360</th>\n",
       "      <td>PaymentScreenSuccessful</td>\n",
       "      <td>2382591782303281935</td>\n",
       "      <td>1565206049</td>\n",
       "      <td>246</td>\n",
       "      <td>2019-08-07 19:27:29</td>\n",
       "      <td>2019-08-07</td>\n",
       "    </tr>\n",
       "    <tr>\n",
       "      <th>242362</th>\n",
       "      <td>CartScreenAppear</td>\n",
       "      <td>2382591782303281935</td>\n",
       "      <td>1565206049</td>\n",
       "      <td>246</td>\n",
       "      <td>2019-08-07 19:27:29</td>\n",
       "      <td>2019-08-07</td>\n",
       "    </tr>\n",
       "    <tr>\n",
       "      <th>242635</th>\n",
       "      <td>MainScreenAppear</td>\n",
       "      <td>4097782667445790512</td>\n",
       "      <td>1565206618</td>\n",
       "      <td>246</td>\n",
       "      <td>2019-08-07 19:36:58</td>\n",
       "      <td>2019-08-07</td>\n",
       "    </tr>\n",
       "  </tbody>\n",
       "</table>\n",
       "<p>413 rows × 6 columns</p>\n",
       "</div>"
      ],
      "text/plain": [
       "                     event_name              user_id  event_timestamp  exp_id  \\\n",
       "453            MainScreenAppear  5613408041324010552       1564474784     248   \n",
       "2350           CartScreenAppear  1694940645335807244       1564609899     248   \n",
       "3573           MainScreenAppear   434103746454591587       1564628377     248   \n",
       "4076           MainScreenAppear  3761373764179762633       1564631266     247   \n",
       "4803           MainScreenAppear  2835328739789306622       1564634641     248   \n",
       "...                         ...                  ...              ...     ...   \n",
       "242329         MainScreenAppear  8870358373313968633       1565206004     247   \n",
       "242332  PaymentScreenSuccessful  4718002964983105693       1565206005     247   \n",
       "242360  PaymentScreenSuccessful  2382591782303281935       1565206049     246   \n",
       "242362         CartScreenAppear  2382591782303281935       1565206049     246   \n",
       "242635         MainScreenAppear  4097782667445790512       1565206618     246   \n",
       "\n",
       "                  datetime        date  \n",
       "453    2019-07-30 08:19:44  2019-07-30  \n",
       "2350   2019-07-31 21:51:39  2019-07-31  \n",
       "3573   2019-08-01 02:59:37  2019-08-01  \n",
       "4076   2019-08-01 03:47:46  2019-08-01  \n",
       "4803   2019-08-01 04:44:01  2019-08-01  \n",
       "...                    ...         ...  \n",
       "242329 2019-08-07 19:26:44  2019-08-07  \n",
       "242332 2019-08-07 19:26:45  2019-08-07  \n",
       "242360 2019-08-07 19:27:29  2019-08-07  \n",
       "242362 2019-08-07 19:27:29  2019-08-07  \n",
       "242635 2019-08-07 19:36:58  2019-08-07  \n",
       "\n",
       "[413 rows x 6 columns]"
      ]
     },
     "execution_count": 7,
     "metadata": {},
     "output_type": "execute_result"
    }
   ],
   "source": [
    "# Смотрим наличие дубликатов строк в датафрейме\n",
    "data[data.duplicated()]"
   ]
  },
  {
   "cell_type": "code",
   "execution_count": 8,
   "metadata": {},
   "outputs": [],
   "source": [
    "# Удаляем дубликаты из датафрейма и обновляем индексы\n",
    "data = data.drop_duplicates()\n",
    "data = data.reset_index(drop=True)"
   ]
  },
  {
   "cell_type": "code",
   "execution_count": 9,
   "metadata": {},
   "outputs": [
    {
     "name": "stdout",
     "output_type": "stream",
     "text": [
      "<class 'pandas.core.frame.DataFrame'>\n",
      "RangeIndex: 243713 entries, 0 to 243712\n",
      "Data columns (total 6 columns):\n",
      " #   Column           Non-Null Count   Dtype         \n",
      "---  ------           --------------   -----         \n",
      " 0   event_name       243713 non-null  object        \n",
      " 1   user_id          243713 non-null  int64         \n",
      " 2   event_timestamp  243713 non-null  int64         \n",
      " 3   exp_id           243713 non-null  int64         \n",
      " 4   datetime         243713 non-null  datetime64[ns]\n",
      " 5   date             243713 non-null  object        \n",
      "dtypes: datetime64[ns](1), int64(3), object(2)\n",
      "memory usage: 11.2+ MB\n"
     ]
    }
   ],
   "source": [
    "# Ещё раз смотрим типы данных\n",
    "data.info()"
   ]
  },
  {
   "cell_type": "markdown",
   "metadata": {},
   "source": [
    "<div class=\"alert alert-block alert-info\">\n",
    "    \n",
    "<h3> Вывод  <a class=\"tocSkip\"></h3>\n",
    "\n",
    "Метод info() показал нам отсутствие пропусков данных. Типы данных в столбцах также соответствуют самим данным.\n",
    "    \n",
    "Проверка столбцов \"event_name\" и \"exp_id\" на дубликаты значений ничего не показала. При проверки дубликатов строк было выявлено 413 дубликатов. В виду того, что столбец \"event_timestamp\" содержит в себе время вплоть до долей секунд, обнаруженные дубликаты с высокой вероятностью таковыми и являются, поэтому было решено их удалить. \n",
    "    \n",
    "</div>"
   ]
  },
  {
   "cell_type": "markdown",
   "metadata": {},
   "source": [
    "## Изучение и проверка данных"
   ]
  },
  {
   "cell_type": "markdown",
   "metadata": {},
   "source": [
    "### Определение количества событий, пользователей и среднего количества событий на пользователя в логе"
   ]
  },
  {
   "cell_type": "code",
   "execution_count": 10,
   "metadata": {
    "scrolled": true
   },
   "outputs": [
    {
     "name": "stdout",
     "output_type": "stream",
     "text": [
      "Количество событий в логе: 243713\n",
      "Количество уникальных пользователей в логе: 7551\n",
      "Среднее количество событий на одного уникального пользователя: 32\n"
     ]
    }
   ],
   "source": [
    "# Смотрим количество событий в логе\n",
    "print('Количество событий в логе:', len(data['event_name']))\n",
    "\n",
    "# Смотрим количество пользователей в логе\n",
    "print('Количество уникальных пользователей в логе:', len(data['user_id'].unique()))\n",
    "\n",
    "# Определяем среднее количество событий на одного пользователя\n",
    "users_events = data.pivot_table(index='user_id', values='event_name', aggfunc='count')\n",
    "print('Среднее количество событий на одного уникального пользователя:', round(users_events['event_name'].mean()))"
   ]
  },
  {
   "cell_type": "markdown",
   "metadata": {},
   "source": [
    "### Определение сроков проведения тестирования"
   ]
  },
  {
   "cell_type": "code",
   "execution_count": 11,
   "metadata": {
    "scrolled": true
   },
   "outputs": [
    {
     "name": "stdout",
     "output_type": "stream",
     "text": [
      "Минимальная дата: 2019-07-25\n",
      "максимальная дата: 2019-08-07\n"
     ]
    }
   ],
   "source": [
    "# Определяем минимальную дату\n",
    "print('Минимальная дата:', data['date'].min())\n",
    "# Определяем максимальную дату\n",
    "print('максимальная дата:', data['date'].max())\n"
   ]
  },
  {
   "cell_type": "markdown",
   "metadata": {},
   "source": [
    "### Построение диаграмм с количеством событий по дням"
   ]
  },
  {
   "cell_type": "code",
   "execution_count": 12,
   "metadata": {},
   "outputs": [],
   "source": [
    "# Создаём общую сводную таблицу событий по дням\n",
    "total_events = data.pivot_table(index='date', values='event_name', aggfunc='count')\n",
    "total_events.columns = ['event_count']\n",
    "\n",
    "# Создаём сводную таблицу событий по дням для группы 246\n",
    "events_246 = data[data['exp_id'] == 246].pivot_table(index='date', values='event_name', aggfunc='count')\n",
    "events_246.columns = ['event_count']\n",
    "\n",
    "# Создаём сводную таблицу событий по дням для группы 247\n",
    "events_247 = data[data['exp_id'] == 247].pivot_table(index='date', values='event_name', aggfunc='count')\n",
    "events_247.columns = ['event_count']\n",
    "\n",
    "# Создаём сводную таблицу событий по дням для группы 248\n",
    "events_248 = data[data['exp_id'] == 248].pivot_table(index='date', values='event_name', aggfunc='count')\n",
    "events_248.columns = ['event_count']"
   ]
  },
  {
   "cell_type": "code",
   "execution_count": 13,
   "metadata": {},
   "outputs": [
    {
     "data": {
      "image/png": "[encoded data removed]",
      "text/plain": [
       "<Figure size 936x720 with 4 Axes>"
      ]
     },
     "metadata": {
      "needs_background": "light"
     },
     "output_type": "display_data"
    }
   ],
   "source": [
    "# Выводим графики количеста событий по дням на основе созданных сводных таблиц\n",
    "plt.figure(figsize = (13, 10))\n",
    "\n",
    "total_events.plot(y='event_count',\n",
    "                   kind='bar', grid=True, \n",
    "                   title=('Общее количество событий по дням'), \n",
    "                   xlabel=('Дата'), \n",
    "                   ylabel=('Кол-во событий'),\n",
    "                   ax=plt.subplot(2, 2, 1)\n",
    "                  )\n",
    "events_246.plot(y='event_count',\n",
    "                   kind='bar', grid=True, \n",
    "                   title=('Количество событий по дням для группы 246'), \n",
    "                   xlabel=('Дата'), \n",
    "                   ylabel=('Кол-во событий'),\n",
    "                   ax=plt.subplot(2, 2, 2)\n",
    "                  )\n",
    "events_247.plot(y='event_count',\n",
    "                   kind='bar', grid=True, \n",
    "                   title=('Количество событий по дням для группы 247'), \n",
    "                   xlabel=('Дата'), \n",
    "                   ylabel=('Кол-во событий'),\n",
    "                   ax=plt.subplot(2, 2, 3)\n",
    "                  )\n",
    "events_248.plot(y='event_count',\n",
    "                   kind='bar', grid=True, \n",
    "                   title=('Количество событий по дням для группы 248'), \n",
    "                   xlabel=('Дата'), \n",
    "                   ylabel=('Кол-во событий'),\n",
    "                   ax=plt.subplot(2, 2, 4)\n",
    "                  )\n",
    "plt.tight_layout()\n",
    "plt.show()"
   ]
  },
  {
   "cell_type": "markdown",
   "metadata": {},
   "source": [
    "<div class=\"alert alert-block alert-info\">\n",
    "    \n",
    "<h3> Комментарий  <a class=\"tocSkip\"></h3>\n",
    "\n",
    "Как мы можем увидеть на графиках, во всех группах основная часть событий произошла с 1 по 7 августа. Лучше будет сфокусироваться на этом временном отрезке и убрать данные, которые в него не входят, с целью проведения более \"чистого\" анализа. \n",
    "</div>"
   ]
  },
  {
   "cell_type": "markdown",
   "metadata": {},
   "source": [
    "### Очистка данных и изучение их последующих изменений"
   ]
  },
  {
   "cell_type": "code",
   "execution_count": 16,
   "metadata": {},
   "outputs": [],
   "source": [
    "# Создаем таблицу с \"очищенными\" данными\n",
    "clean_data = data[data['datetime'] >= '2019-8-1']\n",
    "clean_data = clean_data.reset_index()"
   ]
  },
  {
   "cell_type": "code",
   "execution_count": 17,
   "metadata": {
    "scrolled": true
   },
   "outputs": [
    {
     "name": "stdout",
     "output_type": "stream",
     "text": [
      "По итогу чистки данных мы потеряли 1% данных\n"
     ]
    }
   ],
   "source": [
    "# Смотрим, сколько данных у нас осталось\n",
    "print(f'По итогу чистки данных мы потеряли {round((1-len(clean_data)/len(data))*100)}% данных')"
   ]
  },
  {
   "cell_type": "code",
   "execution_count": 18,
   "metadata": {},
   "outputs": [
    {
     "name": "stdout",
     "output_type": "stream",
     "text": [
      "По итогу очистки данных мы потеряли 17 или же 0.23% уникальных пользователей\n"
     ]
    }
   ],
   "source": [
    "# Создаем переменную для количества уникальных пользователей в data\n",
    "data_uniq_user = data['user_id'].nunique()\n",
    "\n",
    "# Создаем переменную для количества уникальных пользователей в clean_data\n",
    "clean_data_uniq_user = clean_data['user_id'].nunique()\n",
    "\n",
    "users_difference = data_uniq_user-clean_data_uniq_user\n",
    "users_percent = round(100-(clean_data_uniq_user/data_uniq_user)*100,2)\n",
    "\n",
    "# Смотрим, сколько уникальных пользователей мы потеряли\n",
    "print(f'По итогу очистки данных мы потеряли {users_difference} или же {users_percent}% уникальных пользователей')"
   ]
  },
  {
   "cell_type": "code",
   "execution_count": 19,
   "metadata": {},
   "outputs": [
    {
     "name": "stdout",
     "output_type": "stream",
     "text": [
      "Количество событий в логе: 240887\n",
      "Количество уникальных пользователей в логе: 7534\n",
      "Среднее количество событий на одного уникального пользователя: 32\n"
     ]
    }
   ],
   "source": [
    "# Смотрим количество событий в очищенном логе\n",
    "print('Количество событий в логе:', len(clean_data['event_name']))\n",
    "\n",
    "# Смотрим количество пользователей в очищенном логе\n",
    "print('Количество уникальных пользователей в логе:', len(clean_data['user_id'].unique()))\n",
    "\n",
    "# Определяем среднее количество событий на одного пользователя в очищенном логе\n",
    "clean_users_events = clean_data.pivot_table(index='user_id', values='event_name', aggfunc='count')\n",
    "print('Среднее количество событий на одного уникального пользователя:', round(clean_users_events['event_name'].mean()))"
   ]
  },
  {
   "cell_type": "code",
   "execution_count": 20,
   "metadata": {},
   "outputs": [
    {
     "data": {
      "text/html": [
       "<div>\n",
       "<style scoped>\n",
       "    .dataframe tbody tr th:only-of-type {\n",
       "        vertical-align: middle;\n",
       "    }\n",
       "\n",
       "    .dataframe tbody tr th {\n",
       "        vertical-align: top;\n",
       "    }\n",
       "\n",
       "    .dataframe thead th {\n",
       "        text-align: right;\n",
       "    }\n",
       "</style>\n",
       "<table border=\"1\" class=\"dataframe\">\n",
       "  <thead>\n",
       "    <tr style=\"text-align: right;\">\n",
       "      <th></th>\n",
       "      <th>event_name</th>\n",
       "    </tr>\n",
       "    <tr>\n",
       "      <th>exp_id</th>\n",
       "      <th></th>\n",
       "    </tr>\n",
       "  </thead>\n",
       "  <tbody>\n",
       "    <tr>\n",
       "      <th>246</th>\n",
       "      <td>79302</td>\n",
       "    </tr>\n",
       "    <tr>\n",
       "      <th>247</th>\n",
       "      <td>77022</td>\n",
       "    </tr>\n",
       "    <tr>\n",
       "      <th>248</th>\n",
       "      <td>84563</td>\n",
       "    </tr>\n",
       "  </tbody>\n",
       "</table>\n",
       "</div>"
      ],
      "text/plain": [
       "        event_name\n",
       "exp_id            \n",
       "246          79302\n",
       "247          77022\n",
       "248          84563"
      ]
     },
     "execution_count": 20,
     "metadata": {},
     "output_type": "execute_result"
    }
   ],
   "source": [
    "# Выполняем проверку наличия пользователей из всех групп по условию задания\n",
    "clean_data.pivot_table(index='exp_id', values='event_name', aggfunc='count')"
   ]
  },
  {
   "cell_type": "markdown",
   "metadata": {},
   "source": [
    "<div class=\"alert alert-block alert-info\">\n",
    "    \n",
    "<h3> Вывод  <a class=\"tocSkip\"></h3>\n",
    "\n",
    "После изучения и проверки данных мы выяснили, что:\n",
    "- Общее количество событий в логе равняется 243 713;\n",
    "- Количество уникальных пользователей в логе составляет 7 551;\n",
    "- Среднее количество событий на пользователя - 32;\n",
    "- В логе собранны за период с 2019-07-25 по 2019-08-07;\n",
    "- При этом данные до 2019-08-01 являются неполными, в следствие чего мы отсеяли их, создав датафрейм clean_data с событиями за август. По итогу очистки у нас осталось 99% данных.\n",
    "    \n",
    "После очистки данных у нас осталось: \n",
    "- Количество событий в логе равняется 240 887;\n",
    "- Количество уникальных пользователей в логе составляет 7 534;\n",
    "- Среднее количество событий на одного уникального пользователя - 32.\n",
    "    \n",
    "По итогу очистки данных мы потеряли 17 или же 0.23% уникальных пользователей\n",
    "    \n",
    "Как мы можем увидеть, по итогам очистки незначительно уменьшилось количество событий и уникальных пользователей. Среднее количество событий на одного пользователя осталось тем же.\n",
    "</div>"
   ]
  },
  {
   "cell_type": "markdown",
   "metadata": {},
   "source": [
    "## Изучение воронки событий"
   ]
  },
  {
   "cell_type": "markdown",
   "metadata": {},
   "source": [
    "### Просмотр событий лога"
   ]
  },
  {
   "cell_type": "code",
   "execution_count": 21,
   "metadata": {
    "scrolled": true
   },
   "outputs": [
    {
     "data": {
      "text/html": [
       "<div>\n",
       "<style scoped>\n",
       "    .dataframe tbody tr th:only-of-type {\n",
       "        vertical-align: middle;\n",
       "    }\n",
       "\n",
       "    .dataframe tbody tr th {\n",
       "        vertical-align: top;\n",
       "    }\n",
       "\n",
       "    .dataframe thead th {\n",
       "        text-align: right;\n",
       "    }\n",
       "</style>\n",
       "<table border=\"1\" class=\"dataframe\">\n",
       "  <thead>\n",
       "    <tr style=\"text-align: right;\">\n",
       "      <th></th>\n",
       "      <th>events_total</th>\n",
       "    </tr>\n",
       "    <tr>\n",
       "      <th>event_name</th>\n",
       "      <th></th>\n",
       "    </tr>\n",
       "  </thead>\n",
       "  <tbody>\n",
       "    <tr>\n",
       "      <th>MainScreenAppear</th>\n",
       "      <td>117328</td>\n",
       "    </tr>\n",
       "    <tr>\n",
       "      <th>OffersScreenAppear</th>\n",
       "      <td>46333</td>\n",
       "    </tr>\n",
       "    <tr>\n",
       "      <th>CartScreenAppear</th>\n",
       "      <td>42303</td>\n",
       "    </tr>\n",
       "    <tr>\n",
       "      <th>PaymentScreenSuccessful</th>\n",
       "      <td>33918</td>\n",
       "    </tr>\n",
       "    <tr>\n",
       "      <th>Tutorial</th>\n",
       "      <td>1005</td>\n",
       "    </tr>\n",
       "  </tbody>\n",
       "</table>\n",
       "</div>"
      ],
      "text/plain": [
       "                         events_total\n",
       "event_name                           \n",
       "MainScreenAppear               117328\n",
       "OffersScreenAppear              46333\n",
       "CartScreenAppear                42303\n",
       "PaymentScreenSuccessful         33918\n",
       "Tutorial                         1005"
      ]
     },
     "execution_count": 21,
     "metadata": {},
     "output_type": "execute_result"
    }
   ],
   "source": [
    "# Создаем сводную для определения событий воронки и того, как часто они всречаются \n",
    "events = (clean_data.pivot_table(index='event_name', values='user_id', aggfunc='count')\n",
    "                    .sort_values(by='user_id', ascending = False)\n",
    "         )\n",
    "events.columns = ['events_total']\n",
    "events"
   ]
  },
  {
   "cell_type": "markdown",
   "metadata": {},
   "source": [
    "### Исследование данных пользователей по событиям"
   ]
  },
  {
   "cell_type": "code",
   "execution_count": 22,
   "metadata": {},
   "outputs": [
    {
     "data": {
      "text/html": [
       "<div>\n",
       "<style scoped>\n",
       "    .dataframe tbody tr th:only-of-type {\n",
       "        vertical-align: middle;\n",
       "    }\n",
       "\n",
       "    .dataframe tbody tr th {\n",
       "        vertical-align: top;\n",
       "    }\n",
       "\n",
       "    .dataframe thead th {\n",
       "        text-align: right;\n",
       "    }\n",
       "</style>\n",
       "<table border=\"1\" class=\"dataframe\">\n",
       "  <thead>\n",
       "    <tr style=\"text-align: right;\">\n",
       "      <th></th>\n",
       "      <th>event_name</th>\n",
       "      <th>unique_users</th>\n",
       "      <th>users_proportion</th>\n",
       "    </tr>\n",
       "  </thead>\n",
       "  <tbody>\n",
       "    <tr>\n",
       "      <th>0</th>\n",
       "      <td>MainScreenAppear</td>\n",
       "      <td>7419</td>\n",
       "      <td>0.98</td>\n",
       "    </tr>\n",
       "    <tr>\n",
       "      <th>1</th>\n",
       "      <td>OffersScreenAppear</td>\n",
       "      <td>4593</td>\n",
       "      <td>0.61</td>\n",
       "    </tr>\n",
       "    <tr>\n",
       "      <th>2</th>\n",
       "      <td>CartScreenAppear</td>\n",
       "      <td>3734</td>\n",
       "      <td>0.50</td>\n",
       "    </tr>\n",
       "    <tr>\n",
       "      <th>3</th>\n",
       "      <td>PaymentScreenSuccessful</td>\n",
       "      <td>3539</td>\n",
       "      <td>0.47</td>\n",
       "    </tr>\n",
       "    <tr>\n",
       "      <th>4</th>\n",
       "      <td>Tutorial</td>\n",
       "      <td>840</td>\n",
       "      <td>0.11</td>\n",
       "    </tr>\n",
       "  </tbody>\n",
       "</table>\n",
       "</div>"
      ],
      "text/plain": [
       "                event_name  unique_users  users_proportion\n",
       "0         MainScreenAppear          7419              0.98\n",
       "1       OffersScreenAppear          4593              0.61\n",
       "2         CartScreenAppear          3734              0.50\n",
       "3  PaymentScreenSuccessful          3539              0.47\n",
       "4                 Tutorial           840              0.11"
      ]
     },
     "execution_count": 22,
     "metadata": {},
     "output_type": "execute_result"
    }
   ],
   "source": [
    "# Создаем сводную по кол-ву уникальных пользователей для каждого события с сортировкой по убыванию\n",
    "users_by_events = (clean_data.groupby('event_name')['user_id']\n",
    "                             .nunique()\n",
    "                             .reset_index()\n",
    "                             .sort_values(by='user_id', ascending = False)\n",
    "                             .reset_index(drop=True)\n",
    "                  )\n",
    "users_by_events.columns = ['event_name', 'unique_users']\n",
    "\n",
    "# Создаем столбец с подсчетом доли пользователей на событие от их общего числа\n",
    "users_by_events['users_proportion'] = round(users_by_events['unique_users']/7534, 2)\n",
    "users_by_events"
   ]
  },
  {
   "cell_type": "markdown",
   "metadata": {},
   "source": [
    "<div class=\"alert alert-block alert-info\">\n",
    "    \n",
    "<h3> Комментарий  <a class=\"tocSkip\"></h3>\n",
    "\n",
    "Как мы можем увидеть, доля пользователей, посетивших главное меню, равняется 98%. Это означает, что данный шаг не является первым. Разумно предположить, что шаг с обучением является первым шагом воронки, но если учитывать тот факт, что у данного шага самая маленькая доля посещения среди всех остальных шагов (11%), то можно предположить, что он является не только первым, но и необязательным. Выходит, что именно на данном этапе и пропали те самые 2%, которых не хватает на этапе главного меню.\\\n",
    "    Остальные этапы воронки идут в том же порядке событий по убыванию без изменения.\n",
    "</div>"
   ]
  },
  {
   "cell_type": "markdown",
   "metadata": {},
   "source": [
    "### Построение и исследование возможной посследовательности событий воронки без учета необязательных шагов"
   ]
  },
  {
   "cell_type": "code",
   "execution_count": 23,
   "metadata": {},
   "outputs": [],
   "source": [
    "# Уберём шаг с обучением для дальнейшего подсчета воронки\n",
    "users_by_events = users_by_events[users_by_events['event_name'] != 'Tutorial']\n",
    "users_by_events\n",
    "\n",
    "# Добавим строку с общим количеством пользователей, чтобы отобразить в таблице отскок пользователей, недошедших до меню\n",
    "users_by_events.loc[-1] = ['TotalUsers', 7534, 1]\n",
    "users_by_events.index = users_by_events.index + 1\n",
    "users_by_events = users_by_events.sort_index()"
   ]
  },
  {
   "cell_type": "code",
   "execution_count": 24,
   "metadata": {
    "scrolled": true
   },
   "outputs": [
    {
     "data": {
      "text/html": [
       "<div>\n",
       "<style scoped>\n",
       "    .dataframe tbody tr th:only-of-type {\n",
       "        vertical-align: middle;\n",
       "    }\n",
       "\n",
       "    .dataframe tbody tr th {\n",
       "        vertical-align: top;\n",
       "    }\n",
       "\n",
       "    .dataframe thead th {\n",
       "        text-align: right;\n",
       "    }\n",
       "</style>\n",
       "<table border=\"1\" class=\"dataframe\">\n",
       "  <thead>\n",
       "    <tr style=\"text-align: right;\">\n",
       "      <th></th>\n",
       "      <th>event_name</th>\n",
       "      <th>unique_users</th>\n",
       "      <th>users_proportion</th>\n",
       "      <th>passed_users_proportion</th>\n",
       "    </tr>\n",
       "  </thead>\n",
       "  <tbody>\n",
       "    <tr>\n",
       "      <th>0</th>\n",
       "      <td>TotalUsers</td>\n",
       "      <td>7534</td>\n",
       "      <td>1.00</td>\n",
       "      <td>0.00</td>\n",
       "    </tr>\n",
       "    <tr>\n",
       "      <th>1</th>\n",
       "      <td>MainScreenAppear</td>\n",
       "      <td>7419</td>\n",
       "      <td>0.98</td>\n",
       "      <td>0.98</td>\n",
       "    </tr>\n",
       "    <tr>\n",
       "      <th>2</th>\n",
       "      <td>OffersScreenAppear</td>\n",
       "      <td>4593</td>\n",
       "      <td>0.61</td>\n",
       "      <td>0.62</td>\n",
       "    </tr>\n",
       "    <tr>\n",
       "      <th>3</th>\n",
       "      <td>CartScreenAppear</td>\n",
       "      <td>3734</td>\n",
       "      <td>0.50</td>\n",
       "      <td>0.81</td>\n",
       "    </tr>\n",
       "    <tr>\n",
       "      <th>4</th>\n",
       "      <td>PaymentScreenSuccessful</td>\n",
       "      <td>3539</td>\n",
       "      <td>0.47</td>\n",
       "      <td>0.95</td>\n",
       "    </tr>\n",
       "  </tbody>\n",
       "</table>\n",
       "</div>"
      ],
      "text/plain": [
       "                event_name  unique_users  users_proportion  \\\n",
       "0               TotalUsers          7534              1.00   \n",
       "1         MainScreenAppear          7419              0.98   \n",
       "2       OffersScreenAppear          4593              0.61   \n",
       "3         CartScreenAppear          3734              0.50   \n",
       "4  PaymentScreenSuccessful          3539              0.47   \n",
       "\n",
       "   passed_users_proportion  \n",
       "0                     0.00  \n",
       "1                     0.98  \n",
       "2                     0.62  \n",
       "3                     0.81  \n",
       "4                     0.95  "
      ]
     },
     "execution_count": 24,
     "metadata": {},
     "output_type": "execute_result"
    }
   ],
   "source": [
    "# Создаем столбец с количеством пользователей прошлого этапа\n",
    "users_by_events['previous_users'] = users_by_events['unique_users'].shift(1)\n",
    "\n",
    "# Считаем долю пользователей, прошедших на следующий этап\n",
    "users_by_events['passed_users_proportion'] = round(users_by_events['unique_users']/users_by_events['previous_users'],2)\n",
    "\n",
    "# Заполняем пропуски и удаляем столбец с количеством пользователей на прошлом этапе\n",
    "users_by_events = users_by_events.fillna(0)\n",
    "users_by_events = users_by_events.drop('previous_users', axis=1)\n",
    "\n",
    "users_by_events"
   ]
  },
  {
   "cell_type": "markdown",
   "metadata": {},
   "source": [
    "<div class=\"alert alert-block alert-info\">\n",
    "    \n",
    "<h3> Вывод  <a class=\"tocSkip\"></h3>\n",
    "\n",
    "Согласно полученным данным, наибольший отскок пользователей между этапами происходит на шаге возникновения экрана предложения. Всего 62% пользователей доходит до данного этапа после посещения главного меню.\\\n",
    "До момента оплаты доходит 47% от всех пользователей и 95% пользователей, открывших корзину, что можно оценить как хороший показатель.\n",
    "</div>"
   ]
  },
  {
   "cell_type": "markdown",
   "metadata": {},
   "source": [
    "## Изучение результатов эксперимента"
   ]
  },
  {
   "cell_type": "markdown",
   "metadata": {},
   "source": [
    "### Определение количества уникальных пользователей в экспериментальных группах"
   ]
  },
  {
   "cell_type": "code",
   "execution_count": 25,
   "metadata": {},
   "outputs": [
    {
     "data": {
      "text/html": [
       "<div>\n",
       "<style scoped>\n",
       "    .dataframe tbody tr th:only-of-type {\n",
       "        vertical-align: middle;\n",
       "    }\n",
       "\n",
       "    .dataframe tbody tr th {\n",
       "        vertical-align: top;\n",
       "    }\n",
       "\n",
       "    .dataframe thead th {\n",
       "        text-align: right;\n",
       "    }\n",
       "</style>\n",
       "<table border=\"1\" class=\"dataframe\">\n",
       "  <thead>\n",
       "    <tr style=\"text-align: right;\">\n",
       "      <th></th>\n",
       "      <th>user_id</th>\n",
       "    </tr>\n",
       "    <tr>\n",
       "      <th>exp_id</th>\n",
       "      <th></th>\n",
       "    </tr>\n",
       "  </thead>\n",
       "  <tbody>\n",
       "    <tr>\n",
       "      <th>246</th>\n",
       "      <td>2484</td>\n",
       "    </tr>\n",
       "    <tr>\n",
       "      <th>247</th>\n",
       "      <td>2513</td>\n",
       "    </tr>\n",
       "    <tr>\n",
       "      <th>248</th>\n",
       "      <td>2537</td>\n",
       "    </tr>\n",
       "  </tbody>\n",
       "</table>\n",
       "</div>"
      ],
      "text/plain": [
       "        user_id\n",
       "exp_id         \n",
       "246        2484\n",
       "247        2513\n",
       "248        2537"
      ]
     },
     "execution_count": 25,
     "metadata": {},
     "output_type": "execute_result"
    }
   ],
   "source": [
    "# Выводим сводную таблицу с количеством пользователей в каждой экспериментальной группе\n",
    "# Напомним, 246 и 247 — контрольные группы, а 248 — экспериментальная.\n",
    "clean_data.pivot_table(index='exp_id', values='user_id', aggfunc='nunique')"
   ]
  },
  {
   "cell_type": "code",
   "execution_count": 26,
   "metadata": {},
   "outputs": [
    {
     "data": {
      "text/plain": [
       "Series([], Name: exp_id, dtype: int64)"
      ]
     },
     "execution_count": 26,
     "metadata": {},
     "output_type": "execute_result"
    }
   ],
   "source": [
    "# Проверяем, есть ли пользователи, которые входят сразу в несколько групп\n",
    "user_group_counts = clean_data.groupby('user_id')['exp_id'].nunique()\n",
    "multiple_group_users = user_group_counts[user_group_counts > 1]\n",
    "multiple_group_users"
   ]
  },
  {
   "cell_type": "markdown",
   "metadata": {},
   "source": [
    "<div class=\"alert alert-block alert-info\">\n",
    "    \n",
    "<h3> Комментарий  <a class=\"tocSkip\"></h3>\n",
    " \n",
    "Каждая группа содержит уникальных пользователей\n",
    "</div>"
   ]
  },
  {
   "cell_type": "markdown",
   "metadata": {},
   "source": [
    "### Проверка разницы долей между выборками 246 и 247"
   ]
  },
  {
   "cell_type": "code",
   "execution_count": 27,
   "metadata": {
    "scrolled": true
   },
   "outputs": [
    {
     "data": {
      "text/html": [
       "<div>\n",
       "<style scoped>\n",
       "    .dataframe tbody tr th:only-of-type {\n",
       "        vertical-align: middle;\n",
       "    }\n",
       "\n",
       "    .dataframe tbody tr th {\n",
       "        vertical-align: top;\n",
       "    }\n",
       "\n",
       "    .dataframe thead th {\n",
       "        text-align: right;\n",
       "    }\n",
       "</style>\n",
       "<table border=\"1\" class=\"dataframe\">\n",
       "  <thead>\n",
       "    <tr style=\"text-align: right;\">\n",
       "      <th></th>\n",
       "      <th>event_name</th>\n",
       "      <th>exp_246</th>\n",
       "      <th>exp_247</th>\n",
       "      <th>exp_248</th>\n",
       "    </tr>\n",
       "  </thead>\n",
       "  <tbody>\n",
       "    <tr>\n",
       "      <th>0</th>\n",
       "      <td>TotalUsers</td>\n",
       "      <td>2484</td>\n",
       "      <td>2513</td>\n",
       "      <td>2537</td>\n",
       "    </tr>\n",
       "    <tr>\n",
       "      <th>1</th>\n",
       "      <td>MainScreenAppear</td>\n",
       "      <td>2450</td>\n",
       "      <td>2476</td>\n",
       "      <td>2493</td>\n",
       "    </tr>\n",
       "    <tr>\n",
       "      <th>2</th>\n",
       "      <td>OffersScreenAppear</td>\n",
       "      <td>1542</td>\n",
       "      <td>1520</td>\n",
       "      <td>1531</td>\n",
       "    </tr>\n",
       "    <tr>\n",
       "      <th>3</th>\n",
       "      <td>CartScreenAppear</td>\n",
       "      <td>1266</td>\n",
       "      <td>1238</td>\n",
       "      <td>1230</td>\n",
       "    </tr>\n",
       "    <tr>\n",
       "      <th>4</th>\n",
       "      <td>PaymentScreenSuccessful</td>\n",
       "      <td>1200</td>\n",
       "      <td>1158</td>\n",
       "      <td>1181</td>\n",
       "    </tr>\n",
       "  </tbody>\n",
       "</table>\n",
       "</div>"
      ],
      "text/plain": [
       "                event_name  exp_246  exp_247  exp_248\n",
       "0               TotalUsers     2484     2513     2537\n",
       "1         MainScreenAppear     2450     2476     2493\n",
       "2       OffersScreenAppear     1542     1520     1531\n",
       "3         CartScreenAppear     1266     1238     1230\n",
       "4  PaymentScreenSuccessful     1200     1158     1181"
      ]
     },
     "execution_count": 27,
     "metadata": {},
     "output_type": "execute_result"
    }
   ],
   "source": [
    "# Создаем сводную таблицу, по которой можно отследить для каждого события кол-во уникальных пользователей в каждой из групп\n",
    "events_exp = clean_data.pivot_table(index='event_name', values= 'user_id', columns='exp_id', aggfunc='nunique')\n",
    "events_exp.columns = ['exp_246', 'exp_247', 'exp_248']\n",
    "events_exp = events_exp.sort_values(by='exp_246', ascending=False).reset_index()\n",
    "\n",
    "# Добавим строку с общим количеством пользователей в начало датафрейма\n",
    "events_exp.loc[-1] = ['TotalUsers', 2484, 2513, 2537]\n",
    "events_exp.index = events_exp.index + 1\n",
    "events_exp = events_exp.sort_index()\n",
    "\n",
    "# Убираем шаг с обучением\n",
    "events_exp = events_exp[events_exp['event_name'] != 'Tutorial']\n",
    "\n",
    "events_exp"
   ]
  },
  {
   "cell_type": "markdown",
   "metadata": {},
   "source": [
    "<div class=\"alert alert-block alert-info\">\n",
    "    \n",
    "<h3> Проверка гипотезы  <a class=\"tocSkip\"></h3>\n",
    "\n",
    "Уровень значимости (a) = 0.05\\\n",
    "Выбранный тест: Z-тест для пропорций\n",
    "    \n",
    "Гипотеза:    \n",
    "H0 Доли между контрольными группами на этапе \"PaymentScreenSuccessful\" не различаются.\\\n",
    "H1 Доли между контрольными группами на этапе \"PaymentScreenSuccessful\" различаются.\n",
    "</div>"
   ]
  },
  {
   "cell_type": "code",
   "execution_count": 28,
   "metadata": {},
   "outputs": [],
   "source": [
    "# Создаем функцию для определения наличия разницы между экспериментальными выборками\n",
    "def check_proportions(total, event, exp_1, exp_2, alpha=0.05):\n",
    "    \n",
    "    cohort_1 = events_exp.loc[events_exp['event_name'] == total, exp_1].values[0]\n",
    "    cohort_2 = events_exp.loc[events_exp['event_name'] == total, exp_2].values[0]\n",
    "    event_1 = events_exp.loc[events_exp['event_name'] == event, exp_1].values[0]\n",
    "    event_2 = events_exp.loc[events_exp['event_name'] == event, exp_2].values[0]\n",
    "    \n",
    "    p1 = event_1/cohort_1\n",
    "    p2 = event_2/cohort_2\n",
    "    \n",
    "    p_combined = (event_1+event_2)/(cohort_1+cohort_2)\n",
    "    \n",
    "    difference = p1 - p2\n",
    "    \n",
    "    z_value = difference / mth.sqrt(p_combined * (1 - p_combined) * (1/cohort_1 + 1/cohort_2))\n",
    "    \n",
    "    distr = st.norm(0, 1)\n",
    "    \n",
    "    p_value = (1 - distr.cdf(abs(z_value))) * 2\n",
    "    \n",
    "    print('p-значение: ', p_value)\n",
    "\n",
    "    if p_value < alpha:\n",
    "        print('Отвергаем нулевую гипотезу: между долями есть значимая разница')\n",
    "    else:\n",
    "        print('Не получилось отвергнуть нулевую гипотезу, нет оснований считать доли разными')"
   ]
  },
  {
   "cell_type": "code",
   "execution_count": 29,
   "metadata": {
    "scrolled": true
   },
   "outputs": [
    {
     "name": "stdout",
     "output_type": "stream",
     "text": [
      "p-значение:  0.11456679313141849\n",
      "Не получилось отвергнуть нулевую гипотезу, нет оснований считать доли разными\n"
     ]
    }
   ],
   "source": [
    "# Используем функцию для определения различий в конверсии между контрольными группами\n",
    "check_proportions('TotalUsers', 'PaymentScreenSuccessful', 'exp_246', 'exp_247', alpha=0.05)"
   ]
  },
  {
   "cell_type": "markdown",
   "metadata": {},
   "source": [
    "<div class=\"alert alert-block alert-info\">\n",
    "    \n",
    "<h3> Вывод  <a class=\"tocSkip\"></h3>\n",
    "Проверка гипотезы показала, что мы не можем сделать вывод о различии в конверсии контрольных групп\n",
    "    \n",
    "</div>"
   ]
  },
  {
   "cell_type": "markdown",
   "metadata": {},
   "source": [
    "### Изучение долей пользователей для каждого из событий по группам"
   ]
  },
  {
   "cell_type": "code",
   "execution_count": 30,
   "metadata": {
    "scrolled": true
   },
   "outputs": [
    {
     "data": {
      "text/html": [
       "<div>\n",
       "<style scoped>\n",
       "    .dataframe tbody tr th:only-of-type {\n",
       "        vertical-align: middle;\n",
       "    }\n",
       "\n",
       "    .dataframe tbody tr th {\n",
       "        vertical-align: top;\n",
       "    }\n",
       "\n",
       "    .dataframe thead th {\n",
       "        text-align: right;\n",
       "    }\n",
       "</style>\n",
       "<table border=\"1\" class=\"dataframe\">\n",
       "  <thead>\n",
       "    <tr style=\"text-align: right;\">\n",
       "      <th></th>\n",
       "      <th>events_total</th>\n",
       "    </tr>\n",
       "    <tr>\n",
       "      <th>event_name</th>\n",
       "      <th></th>\n",
       "    </tr>\n",
       "  </thead>\n",
       "  <tbody>\n",
       "    <tr>\n",
       "      <th>MainScreenAppear</th>\n",
       "      <td>117328</td>\n",
       "    </tr>\n",
       "    <tr>\n",
       "      <th>OffersScreenAppear</th>\n",
       "      <td>46333</td>\n",
       "    </tr>\n",
       "    <tr>\n",
       "      <th>CartScreenAppear</th>\n",
       "      <td>42303</td>\n",
       "    </tr>\n",
       "    <tr>\n",
       "      <th>PaymentScreenSuccessful</th>\n",
       "      <td>33918</td>\n",
       "    </tr>\n",
       "    <tr>\n",
       "      <th>Tutorial</th>\n",
       "      <td>1005</td>\n",
       "    </tr>\n",
       "  </tbody>\n",
       "</table>\n",
       "</div>"
      ],
      "text/plain": [
       "                         events_total\n",
       "event_name                           \n",
       "MainScreenAppear               117328\n",
       "OffersScreenAppear              46333\n",
       "CartScreenAppear                42303\n",
       "PaymentScreenSuccessful         33918\n",
       "Tutorial                         1005"
      ]
     },
     "execution_count": 30,
     "metadata": {},
     "output_type": "execute_result"
    }
   ],
   "source": [
    "# Выводим таблицу с информацией о том, сколько раз произошло каждое событие\n",
    "events\n",
    "# Наиболее популярным событием является появление экрана меню, с ним для начала и будем работать"
   ]
  },
  {
   "cell_type": "code",
   "execution_count": 31,
   "metadata": {},
   "outputs": [
    {
     "data": {
      "text/html": [
       "<div>\n",
       "<style scoped>\n",
       "    .dataframe tbody tr th:only-of-type {\n",
       "        vertical-align: middle;\n",
       "    }\n",
       "\n",
       "    .dataframe tbody tr th {\n",
       "        vertical-align: top;\n",
       "    }\n",
       "\n",
       "    .dataframe thead th {\n",
       "        text-align: right;\n",
       "    }\n",
       "</style>\n",
       "<table border=\"1\" class=\"dataframe\">\n",
       "  <thead>\n",
       "    <tr style=\"text-align: right;\">\n",
       "      <th></th>\n",
       "      <th>event_name</th>\n",
       "      <th>exp_246</th>\n",
       "      <th>exp_247</th>\n",
       "      <th>exp_248</th>\n",
       "    </tr>\n",
       "  </thead>\n",
       "  <tbody>\n",
       "    <tr>\n",
       "      <th>0</th>\n",
       "      <td>TotalUsers</td>\n",
       "      <td>2484</td>\n",
       "      <td>2513</td>\n",
       "      <td>2537</td>\n",
       "    </tr>\n",
       "    <tr>\n",
       "      <th>1</th>\n",
       "      <td>MainScreenAppear</td>\n",
       "      <td>2450</td>\n",
       "      <td>2476</td>\n",
       "      <td>2493</td>\n",
       "    </tr>\n",
       "    <tr>\n",
       "      <th>2</th>\n",
       "      <td>OffersScreenAppear</td>\n",
       "      <td>1542</td>\n",
       "      <td>1520</td>\n",
       "      <td>1531</td>\n",
       "    </tr>\n",
       "    <tr>\n",
       "      <th>3</th>\n",
       "      <td>CartScreenAppear</td>\n",
       "      <td>1266</td>\n",
       "      <td>1238</td>\n",
       "      <td>1230</td>\n",
       "    </tr>\n",
       "    <tr>\n",
       "      <th>4</th>\n",
       "      <td>PaymentScreenSuccessful</td>\n",
       "      <td>1200</td>\n",
       "      <td>1158</td>\n",
       "      <td>1181</td>\n",
       "    </tr>\n",
       "  </tbody>\n",
       "</table>\n",
       "</div>"
      ],
      "text/plain": [
       "                event_name  exp_246  exp_247  exp_248\n",
       "0               TotalUsers     2484     2513     2537\n",
       "1         MainScreenAppear     2450     2476     2493\n",
       "2       OffersScreenAppear     1542     1520     1531\n",
       "3         CartScreenAppear     1266     1238     1230\n",
       "4  PaymentScreenSuccessful     1200     1158     1181"
      ]
     },
     "execution_count": 31,
     "metadata": {},
     "output_type": "execute_result"
    }
   ],
   "source": [
    "# Выводим сводную таблицу с количеством пользователей для каждого события\n",
    "events_exp"
   ]
  },
  {
   "cell_type": "markdown",
   "metadata": {},
   "source": [
    "<div class=\"alert alert-block alert-info\">\n",
    "    \n",
    "<h3> Комментарий  <a class=\"tocSkip\"></h3>\n",
    "\n",
    "Как мы можем увидеть, каждое событие совершило, примерно, одинаковое количество пользователей в каждой из исследуемых групп, но есть небольшие рассхождения. Так, например, главное меню посетило больше всего пользователей из 248 группы, но их число лишь на 43 человека больше чем у 246 группы с минимальным показателем по данному событию. При это уже на следующем шаге \"предложений\" количество пользователей больше всего у 246 группы (1542 человека), а наименьше у 247 (1520 человек). Это говорит нам о том, что нет явного доминирования у одной из исследуемых групп. Их показатели, примерно, равны, и нужно дальше продолжать исследование.\n",
    "    \n",
    "</div>"
   ]
  },
  {
   "cell_type": "code",
   "execution_count": 32,
   "metadata": {},
   "outputs": [
    {
     "data": {
      "text/html": [
       "<div>\n",
       "<style scoped>\n",
       "    .dataframe tbody tr th:only-of-type {\n",
       "        vertical-align: middle;\n",
       "    }\n",
       "\n",
       "    .dataframe tbody tr th {\n",
       "        vertical-align: top;\n",
       "    }\n",
       "\n",
       "    .dataframe thead th {\n",
       "        text-align: right;\n",
       "    }\n",
       "</style>\n",
       "<table border=\"1\" class=\"dataframe\">\n",
       "  <thead>\n",
       "    <tr style=\"text-align: right;\">\n",
       "      <th></th>\n",
       "      <th>event_name</th>\n",
       "      <th>exp_246</th>\n",
       "      <th>exp_247</th>\n",
       "      <th>exp_248</th>\n",
       "      <th>exp_246_prop</th>\n",
       "      <th>exp_247_prop</th>\n",
       "      <th>exp_248_prop</th>\n",
       "    </tr>\n",
       "  </thead>\n",
       "  <tbody>\n",
       "    <tr>\n",
       "      <th>0</th>\n",
       "      <td>TotalUsers</td>\n",
       "      <td>2484</td>\n",
       "      <td>2513</td>\n",
       "      <td>2537</td>\n",
       "      <td>1.00</td>\n",
       "      <td>1.00</td>\n",
       "      <td>1.00</td>\n",
       "    </tr>\n",
       "    <tr>\n",
       "      <th>1</th>\n",
       "      <td>MainScreenAppear</td>\n",
       "      <td>2450</td>\n",
       "      <td>2476</td>\n",
       "      <td>2493</td>\n",
       "      <td>0.99</td>\n",
       "      <td>0.99</td>\n",
       "      <td>0.98</td>\n",
       "    </tr>\n",
       "    <tr>\n",
       "      <th>2</th>\n",
       "      <td>OffersScreenAppear</td>\n",
       "      <td>1542</td>\n",
       "      <td>1520</td>\n",
       "      <td>1531</td>\n",
       "      <td>0.62</td>\n",
       "      <td>0.60</td>\n",
       "      <td>0.60</td>\n",
       "    </tr>\n",
       "    <tr>\n",
       "      <th>3</th>\n",
       "      <td>CartScreenAppear</td>\n",
       "      <td>1266</td>\n",
       "      <td>1238</td>\n",
       "      <td>1230</td>\n",
       "      <td>0.51</td>\n",
       "      <td>0.49</td>\n",
       "      <td>0.48</td>\n",
       "    </tr>\n",
       "    <tr>\n",
       "      <th>4</th>\n",
       "      <td>PaymentScreenSuccessful</td>\n",
       "      <td>1200</td>\n",
       "      <td>1158</td>\n",
       "      <td>1181</td>\n",
       "      <td>0.48</td>\n",
       "      <td>0.46</td>\n",
       "      <td>0.47</td>\n",
       "    </tr>\n",
       "  </tbody>\n",
       "</table>\n",
       "</div>"
      ],
      "text/plain": [
       "                event_name  exp_246  exp_247  exp_248  exp_246_prop  \\\n",
       "0               TotalUsers     2484     2513     2537          1.00   \n",
       "1         MainScreenAppear     2450     2476     2493          0.99   \n",
       "2       OffersScreenAppear     1542     1520     1531          0.62   \n",
       "3         CartScreenAppear     1266     1238     1230          0.51   \n",
       "4  PaymentScreenSuccessful     1200     1158     1181          0.48   \n",
       "\n",
       "   exp_247_prop  exp_248_prop  \n",
       "0          1.00          1.00  \n",
       "1          0.99          0.98  \n",
       "2          0.60          0.60  \n",
       "3          0.49          0.48  \n",
       "4          0.46          0.47  "
      ]
     },
     "execution_count": 32,
     "metadata": {},
     "output_type": "execute_result"
    }
   ],
   "source": [
    "# Добавляем в датафрейм events_exp столбцы с долей пользователей, дошедших до события\n",
    "\n",
    "events_exp['exp_246_prop'] = round(events_exp['exp_246']/\n",
    "                                              clean_data[clean_data['exp_id'] == 246]['user_id'].nunique(),\n",
    "                                              2\n",
    "                                             )\n",
    "events_exp['exp_247_prop'] = round(events_exp['exp_247']/\n",
    "                                              clean_data[clean_data['exp_id'] == 247]['user_id'].nunique(),\n",
    "                                              2\n",
    "                                             )\n",
    "events_exp['exp_248_prop'] = round(events_exp['exp_248']/\n",
    "                                              clean_data[clean_data['exp_id'] == 248]['user_id'].nunique(),\n",
    "                                              2\n",
    "                                             )\n",
    "events_exp"
   ]
  },
  {
   "cell_type": "markdown",
   "metadata": {},
   "source": [
    "<div class=\"alert alert-block alert-info\">\n",
    "    \n",
    "<h3> Комментарий  <a class=\"tocSkip\"></h3>\n",
    "\n",
    "Для подсчета доли участников каждого события бралось общее число пользователей для каждой из групп, чтобы было легче отследить отсеивание пользователей внутри воронки.\\\n",
    "    Здесь мы можем снова увидеть, что процентаж пользователей по группам для каждого из событий +/- равный, но при этом пользователи из контрольной группы 246 имеют лучшую конверсию на каждом этапе воронки. У 247 контрольной группы на первых трёх шагах (меню->предложение->корзина) показатели равны, либо больше на 1% чем у экспериментальной группы 248. Но при этом на стадии оплаты уже у 248 группы процент дошедших пользователей становится чуть больше (47% против 46), что в итоге делает экспериментальную группу более успешной по сравнению с 247.\\\n",
    "    В целом, если брать процентные соотношения, разница между группами не так велика, но уже лучше видны те небольшие различия, которые между ними есть.\n",
    "</div>"
   ]
  },
  {
   "cell_type": "markdown",
   "metadata": {},
   "source": [
    "### Проверка разницы долей в событиях между выборками 246 и 247"
   ]
  },
  {
   "cell_type": "markdown",
   "metadata": {},
   "source": [
    "<div class=\"alert alert-block alert-info\">\n",
    "    \n",
    "<h3> Проверка гипотезы  <a class=\"tocSkip\"></h3>\n",
    "\n",
    "Уровень значимости (a) = 0.05\\\n",
    "Выбранный тест: Z-тест для пропорций\n",
    "    \n",
    "Гипотеза:    \n",
    "H0 Доли между контрольными группами на этапе \"MainScreenAppear\" не различаются.\\\n",
    "H1 Доли между контрольными группами на этапе \"MainScreenAppear\" различаются.\n",
    "</div>"
   ]
  },
  {
   "cell_type": "code",
   "execution_count": 33,
   "metadata": {},
   "outputs": [
    {
     "name": "stdout",
     "output_type": "stream",
     "text": [
      "p-значение:  0.7570597232046099\n",
      "Не получилось отвергнуть нулевую гипотезу, нет оснований считать доли разными\n"
     ]
    }
   ],
   "source": [
    "# Проверяем разницу долей между группами 246 и 247 для шага MainScreenAppear\n",
    "check_proportions('TotalUsers', 'MainScreenAppear', 'exp_246', 'exp_247', alpha=0.05)"
   ]
  },
  {
   "cell_type": "markdown",
   "metadata": {},
   "source": [
    "<div class=\"alert alert-block alert-info\">\n",
    "    \n",
    "<h3> Проверка гипотезы  <a class=\"tocSkip\"></h3>\n",
    "\n",
    "Уровень значимости (a) = 0.05\\\n",
    "Выбранный тест: Z-тест для пропорций\n",
    "    \n",
    "Гипотеза:    \n",
    "H0 Доли между контрольными группами на этапе \"OffersScreenAppear\" не различаются.\\\n",
    "H1 Доли между контрольными группами на этапе \"OffersScreenAppear\" различаются.\n",
    "</div>"
   ]
  },
  {
   "cell_type": "code",
   "execution_count": 34,
   "metadata": {},
   "outputs": [
    {
     "name": "stdout",
     "output_type": "stream",
     "text": [
      "p-значение:  0.2480954578522181\n",
      "Не получилось отвергнуть нулевую гипотезу, нет оснований считать доли разными\n"
     ]
    }
   ],
   "source": [
    "# Проверяем разницу долей между группами 246 и 247 для шага OffersScreenAppear\n",
    "check_proportions('TotalUsers', 'OffersScreenAppear', 'exp_246', 'exp_247', alpha=0.05)"
   ]
  },
  {
   "cell_type": "markdown",
   "metadata": {},
   "source": [
    "<div class=\"alert alert-block alert-info\">\n",
    "    \n",
    "<h3> Проверка гипотезы  <a class=\"tocSkip\"></h3>\n",
    "\n",
    "Уровень значимости (a) = 0.05\\\n",
    "Выбранный тест: Z-тест для пропорций\n",
    "    \n",
    "Гипотеза:    \n",
    "H0 Доли между контрольными группами на этапе \"CartScreenAppear\" не различаются.\\\n",
    "H1 Доли между контрольными группами на этапе \"CartScreenAppear\" различаются.\n",
    "</div>"
   ]
  },
  {
   "cell_type": "code",
   "execution_count": 35,
   "metadata": {},
   "outputs": [
    {
     "name": "stdout",
     "output_type": "stream",
     "text": [
      "p-значение:  0.22883372237997213\n",
      "Не получилось отвергнуть нулевую гипотезу, нет оснований считать доли разными\n"
     ]
    }
   ],
   "source": [
    "# Проверяем разницу долей между группами 246 и 247 для шага CartScreenAppear\n",
    "check_proportions('TotalUsers', 'CartScreenAppear', 'exp_246', 'exp_247', alpha=0.05)"
   ]
  },
  {
   "cell_type": "markdown",
   "metadata": {},
   "source": [
    "<div class=\"alert alert-block alert-info\">\n",
    "    \n",
    "<h3> Проверка гипотезы  <a class=\"tocSkip\"></h3>\n",
    "\n",
    "Уровень значимости (a) = 0.05\\\n",
    "Выбранный тест: Z-тест для пропорций\n",
    "    \n",
    "Гипотеза:    \n",
    "H0 Доли между контрольными группами на этапе \"PaymentScreenSuccessful\" не различаются.\\\n",
    "H1 Доли между контрольными группами на этапе \"PaymentScreenSuccessful\" различаются.\n",
    "</div>"
   ]
  },
  {
   "cell_type": "code",
   "execution_count": 36,
   "metadata": {},
   "outputs": [
    {
     "name": "stdout",
     "output_type": "stream",
     "text": [
      "p-значение:  0.11456679313141849\n",
      "Не получилось отвергнуть нулевую гипотезу, нет оснований считать доли разными\n"
     ]
    }
   ],
   "source": [
    "# Повторно проверяем разницу долей между группами 246 и 247 для шага PaymentScreenSuccessful для\\\n",
    "# удобства просмотра наличия разницы между группами\n",
    "check_proportions('TotalUsers', 'PaymentScreenSuccessful', 'exp_246', 'exp_247', alpha=0.05)"
   ]
  },
  {
   "cell_type": "markdown",
   "metadata": {},
   "source": [
    "<div class=\"alert alert-block alert-info\">\n",
    "    \n",
    "<h3> Вывод  <a class=\"tocSkip\"></h3>\n",
    "Проверка разницы долей в событиях между контрольными группами 246 и 247 показала, что ни в одном из событий у нас нет оснований считать доли разными. Результаты находятся в зоне статистической погрешности, а следовательно тестирование проводится корректно.\n",
    "    \n",
    "</div>"
   ]
  },
  {
   "cell_type": "markdown",
   "metadata": {},
   "source": [
    "### Проверка разницы долей в событиях между выборками 246 и 248"
   ]
  },
  {
   "cell_type": "markdown",
   "metadata": {},
   "source": [
    "<div class=\"alert alert-block alert-info\">\n",
    "    \n",
    "<h3> Проверка гипотезы  <a class=\"tocSkip\"></h3>\n",
    "\n",
    "Уровень значимости (a) = 0.05\\\n",
    "Выбранный тест: Z-тест для пропорций\n",
    "    \n",
    "Гипотеза:    \n",
    "H0 Доли между контрольной группой 246 и экспериментальной группой 248 на этапе \"MainScreenAppear\" не различаются.\\\n",
    "H1 Доли между контрольной группой 246 и экспериментальной группой 248 на этапе \"MainScreenAppear\" различаются.\n",
    "</div>"
   ]
  },
  {
   "cell_type": "code",
   "execution_count": 37,
   "metadata": {},
   "outputs": [
    {
     "name": "stdout",
     "output_type": "stream",
     "text": [
      "p-значение:  0.2949721933554552\n",
      "Не получилось отвергнуть нулевую гипотезу, нет оснований считать доли разными\n"
     ]
    }
   ],
   "source": [
    "# Проверяем разницу долей между группами 246 и 248 для шага MainScreenAppear\n",
    "check_proportions('TotalUsers', 'MainScreenAppear', 'exp_246', 'exp_248', alpha=0.05)"
   ]
  },
  {
   "cell_type": "markdown",
   "metadata": {},
   "source": [
    "<div class=\"alert alert-block alert-info\">\n",
    "    \n",
    "<h3> Проверка гипотезы  <a class=\"tocSkip\"></h3>\n",
    "\n",
    "Уровень значимости (a) = 0.05\\\n",
    "Выбранный тест: Z-тест для пропорций\n",
    "    \n",
    "Гипотеза:    \n",
    "H0 Доли между контрольной группой 246 и экспериментальной группой 248 на этапе \"OffersScreenAppear\" не различаются.\\\n",
    "H1 Доли между контрольной группой 246 и экспериментальной группой 248 на этапе \"OffersScreenAppear\" различаются.\n",
    "</div>"
   ]
  },
  {
   "cell_type": "code",
   "execution_count": 38,
   "metadata": {
    "scrolled": true
   },
   "outputs": [
    {
     "name": "stdout",
     "output_type": "stream",
     "text": [
      "p-значение:  0.20836205402738917\n",
      "Не получилось отвергнуть нулевую гипотезу, нет оснований считать доли разными\n"
     ]
    }
   ],
   "source": [
    "# Проверяем разницу долей между группами 246 и 248 для шага OffersScreenAppear\n",
    "check_proportions('TotalUsers', 'OffersScreenAppear', 'exp_246', 'exp_248', alpha=0.05)"
   ]
  },
  {
   "cell_type": "markdown",
   "metadata": {},
   "source": [
    "<div class=\"alert alert-block alert-info\">\n",
    "    \n",
    "<h3> Проверка гипотезы  <a class=\"tocSkip\"></h3>\n",
    "\n",
    "Уровень значимости (a) = 0.05\\\n",
    "Выбранный тест: Z-тест для пропорций\n",
    "    \n",
    "Гипотеза:    \n",
    "H0 Доли между контрольной группой 246 и экспериментальной группой 248 на этапе \"CartScreenAppear\" не различаются.\\\n",
    "H1 Доли между контрольной группой 246 и экспериментальной группой 248 на этапе \"CartScreenAppear\" различаются.\n",
    "</div>"
   ]
  },
  {
   "cell_type": "code",
   "execution_count": 39,
   "metadata": {
    "scrolled": true
   },
   "outputs": [
    {
     "name": "stdout",
     "output_type": "stream",
     "text": [
      "p-значение:  0.07842923237520116\n",
      "Не получилось отвергнуть нулевую гипотезу, нет оснований считать доли разными\n"
     ]
    }
   ],
   "source": [
    "# Проверяем разницу долей между группами 246 и 248 для шага CartScreenAppear\n",
    "check_proportions('TotalUsers', 'CartScreenAppear', 'exp_246', 'exp_248', alpha=0.05)"
   ]
  },
  {
   "cell_type": "markdown",
   "metadata": {},
   "source": [
    "<div class=\"alert alert-block alert-info\">\n",
    "    \n",
    "<h3> Проверка гипотезы  <a class=\"tocSkip\"></h3>\n",
    "\n",
    "Уровень значимости (a) = 0.05\\\n",
    "Выбранный тест: Z-тест для пропорций\n",
    "    \n",
    "Гипотеза:    \n",
    "H0 Доли между контрольной группой 246 и экспериментальной группой 248 на этапе \"PaymentScreenSuccessful\" не различаются.\\\n",
    "H1 Доли между контрольной группой 246 и экспериментальной группой 248 на этапе \"PaymentScreenSuccessful\" различаются.\n",
    "</div>"
   ]
  },
  {
   "cell_type": "code",
   "execution_count": 40,
   "metadata": {
    "scrolled": true
   },
   "outputs": [
    {
     "name": "stdout",
     "output_type": "stream",
     "text": [
      "p-значение:  0.2122553275697796\n",
      "Не получилось отвергнуть нулевую гипотезу, нет оснований считать доли разными\n"
     ]
    }
   ],
   "source": [
    "# Проверяем разницу долей между группами 246 и 248 для шага PaymentScreenSuccessful\n",
    "check_proportions('TotalUsers', 'PaymentScreenSuccessful', 'exp_246', 'exp_248', alpha=0.05)"
   ]
  },
  {
   "cell_type": "markdown",
   "metadata": {},
   "source": [
    "<div class=\"alert alert-block alert-info\">\n",
    "    \n",
    "<h3> Вывод  <a class=\"tocSkip\"></h3>\n",
    "\n",
    "Проверка разницы долей в событиях между выборками 246 и 248 показала, что ни в одном из событий у нас нет оснований считать доли разными\n",
    "    \n",
    "</div>"
   ]
  },
  {
   "cell_type": "markdown",
   "metadata": {},
   "source": [
    "### Проверка разницы долей в событиях между выборками 247 и 248"
   ]
  },
  {
   "cell_type": "markdown",
   "metadata": {},
   "source": [
    "<div class=\"alert alert-block alert-info\">\n",
    "    \n",
    "<h3> Проверка гипотезы  <a class=\"tocSkip\"></h3>\n",
    "\n",
    "Уровень значимости (a) = 0.05\\\n",
    "Выбранный тест: Z-тест для пропорций\n",
    "    \n",
    "Гипотеза:    \n",
    "H0 Доли между контрольной группой 247 и экспериментальной группой 248 на этапе \"MainScreenAppear\" не различаются.\\\n",
    "H1 Доли между контрольной группой 247 и экспериментальной группой 248 на этапе \"MainScreenAppear\" различаются.\n",
    "</div>"
   ]
  },
  {
   "cell_type": "code",
   "execution_count": 41,
   "metadata": {
    "scrolled": true
   },
   "outputs": [
    {
     "name": "stdout",
     "output_type": "stream",
     "text": [
      "p-значение:  0.4587053616621515\n",
      "Не получилось отвергнуть нулевую гипотезу, нет оснований считать доли разными\n"
     ]
    }
   ],
   "source": [
    "# Проверяем разницу долей между группами 247 и 248 для шага MainScreenAppear\n",
    "check_proportions('TotalUsers', 'MainScreenAppear', 'exp_247', 'exp_248', alpha=0.05)"
   ]
  },
  {
   "cell_type": "markdown",
   "metadata": {},
   "source": [
    "<div class=\"alert alert-block alert-info\">\n",
    "    \n",
    "<h3> Проверка гипотезы  <a class=\"tocSkip\"></h3>\n",
    "\n",
    "Уровень значимости (a) = 0.05\\\n",
    "Выбранный тест: Z-тест для пропорций\n",
    "    \n",
    "Гипотеза:    \n",
    "H0 Доли между контрольной группой 247 и экспериментальной группой 248 на этапе \"OffersScreenAppear\" не различаются.\\\n",
    "H1 Доли между контрольной группой 247 и экспериментальной группой 248 на этапе \"OffersScreenAppear\" различаются.\n",
    "</div>"
   ]
  },
  {
   "cell_type": "code",
   "execution_count": 42,
   "metadata": {
    "scrolled": true
   },
   "outputs": [
    {
     "name": "stdout",
     "output_type": "stream",
     "text": [
      "p-значение:  0.9197817830592261\n",
      "Не получилось отвергнуть нулевую гипотезу, нет оснований считать доли разными\n"
     ]
    }
   ],
   "source": [
    "# Проверяем разницу долей между группами 247 и 248 для шага OffersScreenAppear\n",
    "check_proportions('TotalUsers', 'OffersScreenAppear', 'exp_247', 'exp_248', alpha=0.05)"
   ]
  },
  {
   "cell_type": "markdown",
   "metadata": {},
   "source": [
    "<div class=\"alert alert-block alert-info\">\n",
    "    \n",
    "<h3> Проверка гипотезы  <a class=\"tocSkip\"></h3>\n",
    "\n",
    "Уровень значимости (a) = 0.05\\\n",
    "Выбранный тест: Z-тест для пропорций\n",
    "    \n",
    "Гипотеза:    \n",
    "H0 Доли между контрольной группой 247 и экспериментальной группой 248 на этапе \"CartScreenAppear\" не различаются.\\\n",
    "H1 Доли между контрольной группой 247 и экспериментальной группой 248 на этапе \"CartScreenAppear\" различаются.\n",
    "</div>"
   ]
  },
  {
   "cell_type": "code",
   "execution_count": 43,
   "metadata": {},
   "outputs": [
    {
     "name": "stdout",
     "output_type": "stream",
     "text": [
      "p-значение:  0.5786197879539783\n",
      "Не получилось отвергнуть нулевую гипотезу, нет оснований считать доли разными\n"
     ]
    }
   ],
   "source": [
    "# Проверяем разницу долей между группами 247 и 248 для шага CartScreenAppear\n",
    "check_proportions('TotalUsers', 'CartScreenAppear', 'exp_247', 'exp_248', alpha=0.05)"
   ]
  },
  {
   "cell_type": "markdown",
   "metadata": {},
   "source": [
    "<div class=\"alert alert-block alert-info\">\n",
    "    \n",
    "<h3> Проверка гипотезы  <a class=\"tocSkip\"></h3>\n",
    "\n",
    "Уровень значимости (a) = 0.05\\\n",
    "Выбранный тест: Z-тест для пропорций\n",
    "    \n",
    "Гипотеза:    \n",
    "H0 Доли между контрольной группой 247 и экспериментальной группой 248 на этапе \"PaymentScreenSuccessful\" не различаются.\\\n",
    "H1 Доли между контрольной группой 247 и экспериментальной группой 248 на этапе \"PaymentScreenSuccessful\" различаются.\n",
    "</div>"
   ]
  },
  {
   "cell_type": "code",
   "execution_count": 44,
   "metadata": {},
   "outputs": [
    {
     "name": "stdout",
     "output_type": "stream",
     "text": [
      "p-значение:  0.7373415053803964\n",
      "Не получилось отвергнуть нулевую гипотезу, нет оснований считать доли разными\n"
     ]
    }
   ],
   "source": [
    "# Проверяем разницу долей между группами 247 и 248 для шага PaymentScreenSuccessful\n",
    "check_proportions('TotalUsers', 'PaymentScreenSuccessful', 'exp_247', 'exp_248', alpha=0.05)"
   ]
  },
  {
   "cell_type": "markdown",
   "metadata": {},
   "source": [
    "<div class=\"alert alert-block alert-info\">\n",
    "    \n",
    "<h3> Вывод  <a class=\"tocSkip\"></h3>\n",
    "\n",
    "Проверка разницы долей в событиях между выборками 247 и 248 показала, что ни в одном из событий у нас нет оснований считать доли разными\n",
    "    \n",
    "</div>"
   ]
  },
  {
   "cell_type": "markdown",
   "metadata": {},
   "source": [
    "### Проверка разницы долей в событиях между контрольными выборками и экспериментальной группой"
   ]
  },
  {
   "cell_type": "code",
   "execution_count": 45,
   "metadata": {},
   "outputs": [
    {
     "data": {
      "text/html": [
       "<div>\n",
       "<style scoped>\n",
       "    .dataframe tbody tr th:only-of-type {\n",
       "        vertical-align: middle;\n",
       "    }\n",
       "\n",
       "    .dataframe tbody tr th {\n",
       "        vertical-align: top;\n",
       "    }\n",
       "\n",
       "    .dataframe thead th {\n",
       "        text-align: right;\n",
       "    }\n",
       "</style>\n",
       "<table border=\"1\" class=\"dataframe\">\n",
       "  <thead>\n",
       "    <tr style=\"text-align: right;\">\n",
       "      <th></th>\n",
       "      <th>event_name</th>\n",
       "      <th>exp_246</th>\n",
       "      <th>exp_247</th>\n",
       "      <th>exp_248</th>\n",
       "      <th>exp_246_prop</th>\n",
       "      <th>exp_247_prop</th>\n",
       "      <th>exp_248_prop</th>\n",
       "      <th>control_exp_sum</th>\n",
       "    </tr>\n",
       "  </thead>\n",
       "  <tbody>\n",
       "    <tr>\n",
       "      <th>0</th>\n",
       "      <td>TotalUsers</td>\n",
       "      <td>2484</td>\n",
       "      <td>2513</td>\n",
       "      <td>2537</td>\n",
       "      <td>1.00</td>\n",
       "      <td>1.00</td>\n",
       "      <td>1.00</td>\n",
       "      <td>4997</td>\n",
       "    </tr>\n",
       "    <tr>\n",
       "      <th>1</th>\n",
       "      <td>MainScreenAppear</td>\n",
       "      <td>2450</td>\n",
       "      <td>2476</td>\n",
       "      <td>2493</td>\n",
       "      <td>0.99</td>\n",
       "      <td>0.99</td>\n",
       "      <td>0.98</td>\n",
       "      <td>4926</td>\n",
       "    </tr>\n",
       "    <tr>\n",
       "      <th>2</th>\n",
       "      <td>OffersScreenAppear</td>\n",
       "      <td>1542</td>\n",
       "      <td>1520</td>\n",
       "      <td>1531</td>\n",
       "      <td>0.62</td>\n",
       "      <td>0.60</td>\n",
       "      <td>0.60</td>\n",
       "      <td>3062</td>\n",
       "    </tr>\n",
       "    <tr>\n",
       "      <th>3</th>\n",
       "      <td>CartScreenAppear</td>\n",
       "      <td>1266</td>\n",
       "      <td>1238</td>\n",
       "      <td>1230</td>\n",
       "      <td>0.51</td>\n",
       "      <td>0.49</td>\n",
       "      <td>0.48</td>\n",
       "      <td>2504</td>\n",
       "    </tr>\n",
       "    <tr>\n",
       "      <th>4</th>\n",
       "      <td>PaymentScreenSuccessful</td>\n",
       "      <td>1200</td>\n",
       "      <td>1158</td>\n",
       "      <td>1181</td>\n",
       "      <td>0.48</td>\n",
       "      <td>0.46</td>\n",
       "      <td>0.47</td>\n",
       "      <td>2358</td>\n",
       "    </tr>\n",
       "  </tbody>\n",
       "</table>\n",
       "</div>"
      ],
      "text/plain": [
       "                event_name  exp_246  exp_247  exp_248  exp_246_prop  \\\n",
       "0               TotalUsers     2484     2513     2537          1.00   \n",
       "1         MainScreenAppear     2450     2476     2493          0.99   \n",
       "2       OffersScreenAppear     1542     1520     1531          0.62   \n",
       "3         CartScreenAppear     1266     1238     1230          0.51   \n",
       "4  PaymentScreenSuccessful     1200     1158     1181          0.48   \n",
       "\n",
       "   exp_247_prop  exp_248_prop  control_exp_sum  \n",
       "0          1.00          1.00             4997  \n",
       "1          0.99          0.98             4926  \n",
       "2          0.60          0.60             3062  \n",
       "3          0.49          0.48             2504  \n",
       "4          0.46          0.47             2358  "
      ]
     },
     "execution_count": 45,
     "metadata": {},
     "output_type": "execute_result"
    }
   ],
   "source": [
    "# Добавляем в таблицу столбец с суммированными значениями контрольных групп\n",
    "events_exp['control_exp_sum'] = events_exp['exp_246'] + events_exp['exp_247']\n",
    "events_exp"
   ]
  },
  {
   "cell_type": "markdown",
   "metadata": {},
   "source": [
    "<div class=\"alert alert-block alert-info\">\n",
    "    \n",
    "<h3> Проверка гипотезы  <a class=\"tocSkip\"></h3>\n",
    "\n",
    "Уровень значимости (a) = 0.05\\\n",
    "Выбранный тест: Z-тест для пропорций\n",
    "    \n",
    "Гипотеза:    \n",
    "H0 Доли между контрольными группами и экспериментальной группой на этапе \"MainScreenAppear\" не различаются.\\\n",
    "H1 Доли между контрольными группами и экспериментальной группой на этапе \"MainScreenAppear\" различаются.\n",
    "</div>"
   ]
  },
  {
   "cell_type": "code",
   "execution_count": 46,
   "metadata": {},
   "outputs": [
    {
     "name": "stdout",
     "output_type": "stream",
     "text": [
      "p-значение:  0.29424526837179577\n",
      "Не получилось отвергнуть нулевую гипотезу, нет оснований считать доли разными\n"
     ]
    }
   ],
   "source": [
    "# Проверяем разницу долей между контрольными группами и экспериментальной группой  MainScreenAppear\n",
    "check_proportions('TotalUsers', 'MainScreenAppear', 'control_exp_sum', 'exp_248', alpha=0.05)"
   ]
  },
  {
   "cell_type": "markdown",
   "metadata": {},
   "source": [
    "<div class=\"alert alert-block alert-info\">\n",
    "    \n",
    "<h3> Проверка гипотезы  <a class=\"tocSkip\"></h3>\n",
    "\n",
    "Уровень значимости (a) = 0.05\\\n",
    "Выбранный тест: Z-тест для пропорций\n",
    "    \n",
    "Гипотеза:    \n",
    "H0 Доли между контрольными группами и экспериментальной группой на этапе \"OffersScreenAppear\" не различаются.\\\n",
    "H1 Доли между контрольными группами и экспериментальной группой на этапе \"OffersScreenAppear\" различаются.\n",
    "</div>"
   ]
  },
  {
   "cell_type": "code",
   "execution_count": 47,
   "metadata": {},
   "outputs": [
    {
     "name": "stdout",
     "output_type": "stream",
     "text": [
      "p-значение:  0.43425549655188256\n",
      "Не получилось отвергнуть нулевую гипотезу, нет оснований считать доли разными\n"
     ]
    }
   ],
   "source": [
    "# Проверяем разницу долей между контрольными группами и экспериментальной группой  OffersScreenAppear\n",
    "check_proportions('TotalUsers', 'OffersScreenAppear', 'control_exp_sum', 'exp_248', alpha=0.05)"
   ]
  },
  {
   "cell_type": "markdown",
   "metadata": {},
   "source": [
    "<div class=\"alert alert-block alert-info\">\n",
    "    \n",
    "<h3> Проверка гипотезы  <a class=\"tocSkip\"></h3>\n",
    "\n",
    "Уровень значимости (a) = 0.05\\\n",
    "Выбранный тест: Z-тест для пропорций\n",
    "    \n",
    "Гипотеза:    \n",
    "H0 Доли между контрольными группами и экспериментальной группой на этапе \"CartScreenAppear\" не различаются.\\\n",
    "H1 Доли между контрольными группами и экспериментальной группой на этапе \"CartScreenAppear\" различаются.\n",
    "</div>"
   ]
  },
  {
   "cell_type": "code",
   "execution_count": 48,
   "metadata": {},
   "outputs": [
    {
     "name": "stdout",
     "output_type": "stream",
     "text": [
      "p-значение:  0.18175875284404386\n",
      "Не получилось отвергнуть нулевую гипотезу, нет оснований считать доли разными\n"
     ]
    }
   ],
   "source": [
    "# Проверяем разницу долей между контрольными группами и экспериментальной группой  CartScreenAppear\n",
    "check_proportions('TotalUsers', 'CartScreenAppear', 'control_exp_sum', 'exp_248', alpha=0.05)"
   ]
  },
  {
   "cell_type": "markdown",
   "metadata": {},
   "source": [
    "<div class=\"alert alert-block alert-info\">\n",
    "    \n",
    "<h3> Проверка гипотезы  <a class=\"tocSkip\"></h3>\n",
    "\n",
    "Уровень значимости (a) = 0.05\\\n",
    "Выбранный тест: Z-тест для пропорций\n",
    "    \n",
    "Гипотеза:    \n",
    "H0 Доли между контрольными группами и экспериментальной группой на этапе \"PaymentScreenSuccessful\" не различаются.\\\n",
    "H1 Доли между контрольными группами и экспериментальной группой на этапе \"PaymentScreenSuccessful\" различаются.\n",
    "</div>"
   ]
  },
  {
   "cell_type": "code",
   "execution_count": 49,
   "metadata": {
    "scrolled": true
   },
   "outputs": [
    {
     "name": "stdout",
     "output_type": "stream",
     "text": [
      "p-значение:  0.6004294282308704\n",
      "Не получилось отвергнуть нулевую гипотезу, нет оснований считать доли разными\n"
     ]
    }
   ],
   "source": [
    "# Проверяем разницу долей между контрольными группами и экспериментальной группой  PaymentScreenSuccessful\n",
    "check_proportions('TotalUsers', 'PaymentScreenSuccessful', 'control_exp_sum', 'exp_248', alpha=0.05)"
   ]
  },
  {
   "cell_type": "markdown",
   "metadata": {},
   "source": [
    "<div class=\"alert alert-block alert-info\">\n",
    "    \n",
    "<h3> Вывод  <a class=\"tocSkip\"></h3>\n",
    "\n",
    "Проверка разницы долей в событиях между суммированными контрольными группами и экспериментальной группой показала, что ни в одном из событий у нас нет оснований считать доли разными\n",
    "    \n",
    "</div>"
   ]
  },
  {
   "cell_type": "markdown",
   "metadata": {},
   "source": [
    "### Общий вывод по А/А/B тестированию"
   ]
  },
  {
   "cell_type": "markdown",
   "metadata": {},
   "source": [
    "<div class=\"alert alert-block alert-info\">\n",
    "    \n",
    "<h3> Вывод  <a class=\"tocSkip\"></h3>\n",
    "\n",
    "Не смотря на то, что в ходе ручного исследования показателей уникальных пользователей и долей для каждого этапа воронки были обнаружены небольшие различия между группами, позволяющие отдать предпочтение одной из групп, проверка статистических гиппотез о равенстве долей между контрольными и экспериментальной группами показала, что ни на одном из событий воронки у нас нет оснований считать группы разными.\n",
    "\n",
    "Для проверки статистических гипотез для данного A/A/B тестирования был взят стандартный уровень значимости в 5%. Всего было проведено 16 уникальных проверок статистических гипотез, и почти во всех проверках p-значения были больше 0.10. Только в сравнении долей уникальных пользователей на этапе корзины между 246 и 248 группой данный процент был равен 7. Если бы мы поднялм уровень статистической значимости до 10%, данная проверка позволила бы нам заявить о разнице групп, но результат исследования от этого мало бы изменился. \n",
    "\n",
    "Итоговая конверсия между всеми исследуемыми группами схожая. У нас нет оснований говорить, что на каком либо из этапов воронки между долями пользователей в каждой из групп есть различия. Следовательно, изменение шрифта никак не повлияет на конверсию.\n",
    "    \n",
    "</div>"
   ]
  },
  {
   "cell_type": "markdown",
   "metadata": {},
   "source": [
    "## Итог"
   ]
  },
  {
   "cell_type": "markdown",
   "metadata": {},
   "source": [
    "<div class=\"alert alert-block alert-info\">\n",
    "    \n",
    "<h3> Итог  <a class=\"tocSkip\"></h3>\n",
    "\n",
    "Итоговая конверсия между всеми исследуемыми группами схожая. У нас нет оснований говорить, что на каком либо из этапов воронки есть различия между исследуемыми группами. Следовательно, изменение шрифта никак не повлияет на конверсию.\n",
    "</div>"
   ]
  }
 ],
 "metadata": {
  "ExecuteTimeLog": [
   {
    "duration": 1177,
    "start_time": "2024-10-20T14:50:47.353Z"
   },
   {
    "duration": 838,
    "start_time": "2024-10-20T14:50:49.016Z"
   },
   {
    "duration": 319,
    "start_time": "2024-10-20T14:50:58.360Z"
   },
   {
    "duration": 279,
    "start_time": "2024-10-20T14:59:00.216Z"
   },
   {
    "duration": 282,
    "start_time": "2024-10-20T14:59:10.013Z"
   },
   {
    "duration": 159,
    "start_time": "2024-10-20T15:07:07.663Z"
   },
   {
    "duration": 3,
    "start_time": "2024-10-20T15:24:00.637Z"
   },
   {
    "duration": 9,
    "start_time": "2024-10-20T15:24:29.336Z"
   },
   {
    "duration": 2,
    "start_time": "2024-10-20T15:26:10.317Z"
   },
   {
    "duration": 9,
    "start_time": "2024-10-20T15:26:10.905Z"
   },
   {
    "duration": 4,
    "start_time": "2024-10-20T15:27:58.995Z"
   },
   {
    "duration": 18,
    "start_time": "2024-10-20T15:28:03.915Z"
   },
   {
    "duration": 18,
    "start_time": "2024-10-20T15:28:29.975Z"
   },
   {
    "duration": 5,
    "start_time": "2024-10-20T15:28:36.095Z"
   },
   {
    "duration": 3,
    "start_time": "2024-10-20T15:28:59.793Z"
   },
   {
    "duration": 3,
    "start_time": "2024-10-20T15:29:02.258Z"
   },
   {
    "duration": 10,
    "start_time": "2024-10-20T15:29:06.314Z"
   },
   {
    "duration": 68,
    "start_time": "2024-10-20T15:30:07.370Z"
   },
   {
    "duration": 70,
    "start_time": "2024-10-20T15:30:33.713Z"
   },
   {
    "duration": 94,
    "start_time": "2024-10-20T15:35:49.981Z"
   },
   {
    "duration": 2,
    "start_time": "2024-10-20T15:36:52.052Z"
   },
   {
    "duration": 975,
    "start_time": "2024-10-20T15:36:56.048Z"
   },
   {
    "duration": 186,
    "start_time": "2024-10-20T15:36:57.025Z"
   },
   {
    "duration": 9,
    "start_time": "2024-10-20T15:36:57.212Z"
   },
   {
    "duration": 122,
    "start_time": "2024-10-20T15:36:57.222Z"
   },
   {
    "duration": 0,
    "start_time": "2024-10-20T15:36:57.346Z"
   },
   {
    "duration": 0,
    "start_time": "2024-10-20T15:36:57.347Z"
   },
   {
    "duration": 0,
    "start_time": "2024-10-20T15:36:57.347Z"
   },
   {
    "duration": 0,
    "start_time": "2024-10-20T15:36:57.348Z"
   },
   {
    "duration": 10,
    "start_time": "2024-10-20T15:37:15.647Z"
   },
   {
    "duration": 688,
    "start_time": "2024-10-20T15:37:46.074Z"
   },
   {
    "duration": 764,
    "start_time": "2024-10-20T15:37:58.804Z"
   },
   {
    "duration": 15,
    "start_time": "2024-10-20T15:43:21.194Z"
   },
   {
    "duration": 12,
    "start_time": "2024-10-20T15:44:13.009Z"
   },
   {
    "duration": 80,
    "start_time": "2024-10-20T15:45:09.225Z"
   },
   {
    "duration": 7,
    "start_time": "2024-10-20T15:45:33.531Z"
   },
   {
    "duration": 7,
    "start_time": "2024-10-20T15:45:45.700Z"
   },
   {
    "duration": 1051,
    "start_time": "2024-10-20T15:46:01.479Z"
   },
   {
    "duration": 175,
    "start_time": "2024-10-20T15:46:02.532Z"
   },
   {
    "duration": 6,
    "start_time": "2024-10-20T15:46:02.708Z"
   },
   {
    "duration": 111,
    "start_time": "2024-10-20T15:46:02.715Z"
   },
   {
    "duration": 19,
    "start_time": "2024-10-20T15:46:02.829Z"
   },
   {
    "duration": 5,
    "start_time": "2024-10-20T15:46:02.849Z"
   },
   {
    "duration": 124,
    "start_time": "2024-10-20T15:46:02.855Z"
   },
   {
    "duration": 58,
    "start_time": "2024-10-20T15:46:02.980Z"
   },
   {
    "duration": 71,
    "start_time": "2024-10-20T15:47:13.615Z"
   },
   {
    "duration": 19,
    "start_time": "2024-10-20T15:47:20.375Z"
   },
   {
    "duration": 5,
    "start_time": "2024-10-20T15:47:21.160Z"
   },
   {
    "duration": 92,
    "start_time": "2024-10-20T15:47:31.521Z"
   },
   {
    "duration": 95,
    "start_time": "2024-10-20T15:48:37.689Z"
   },
   {
    "duration": 89,
    "start_time": "2024-10-20T15:48:49.194Z"
   },
   {
    "duration": 83,
    "start_time": "2024-10-20T15:48:53.763Z"
   },
   {
    "duration": 88,
    "start_time": "2024-10-20T15:49:10.910Z"
   },
   {
    "duration": 1410,
    "start_time": "2024-10-21T14:07:13.593Z"
   },
   {
    "duration": 823,
    "start_time": "2024-10-21T14:07:15.005Z"
   },
   {
    "duration": 3,
    "start_time": "2024-10-21T14:07:15.832Z"
   },
   {
    "duration": 145,
    "start_time": "2024-10-21T14:07:15.837Z"
   },
   {
    "duration": 29,
    "start_time": "2024-10-21T14:07:15.984Z"
   },
   {
    "duration": 8,
    "start_time": "2024-10-21T14:07:16.015Z"
   },
   {
    "duration": 148,
    "start_time": "2024-10-21T14:07:16.024Z"
   },
   {
    "duration": 110,
    "start_time": "2024-10-21T14:07:16.174Z"
   },
   {
    "duration": 3,
    "start_time": "2024-10-21T14:07:16.286Z"
   },
   {
    "duration": 97,
    "start_time": "2024-10-21T14:07:55.753Z"
   },
   {
    "duration": 9,
    "start_time": "2024-10-21T14:08:08.104Z"
   },
   {
    "duration": 67,
    "start_time": "2024-10-21T14:08:21.164Z"
   },
   {
    "duration": 4,
    "start_time": "2024-10-21T14:09:01.689Z"
   },
   {
    "duration": 8,
    "start_time": "2024-10-21T14:09:28.120Z"
   },
   {
    "duration": 3,
    "start_time": "2024-10-21T14:09:32.120Z"
   },
   {
    "duration": 112,
    "start_time": "2024-10-21T14:09:43.960Z"
   },
   {
    "duration": 109,
    "start_time": "2024-10-21T14:10:13.784Z"
   },
   {
    "duration": 155,
    "start_time": "2024-10-21T14:10:17.218Z"
   },
   {
    "duration": 63,
    "start_time": "2024-10-21T14:10:42.052Z"
   },
   {
    "duration": 183,
    "start_time": "2024-10-21T14:10:48.584Z"
   },
   {
    "duration": 1200,
    "start_time": "2024-10-21T14:10:56.089Z"
   },
   {
    "duration": 219,
    "start_time": "2024-10-21T14:10:57.291Z"
   },
   {
    "duration": 3,
    "start_time": "2024-10-21T14:10:57.511Z"
   },
   {
    "duration": 104,
    "start_time": "2024-10-21T14:10:57.516Z"
   },
   {
    "duration": 20,
    "start_time": "2024-10-21T14:10:57.621Z"
   },
   {
    "duration": 6,
    "start_time": "2024-10-21T14:10:57.642Z"
   },
   {
    "duration": 145,
    "start_time": "2024-10-21T14:10:57.650Z"
   },
   {
    "duration": 126,
    "start_time": "2024-10-21T14:10:57.797Z"
   },
   {
    "duration": 4,
    "start_time": "2024-10-21T14:10:57.925Z"
   },
   {
    "duration": 1179,
    "start_time": "2024-10-21T14:11:17.921Z"
   },
   {
    "duration": 233,
    "start_time": "2024-10-21T14:11:19.102Z"
   },
   {
    "duration": 3,
    "start_time": "2024-10-21T14:11:19.337Z"
   },
   {
    "duration": 110,
    "start_time": "2024-10-21T14:11:19.342Z"
   },
   {
    "duration": 22,
    "start_time": "2024-10-21T14:11:19.454Z"
   },
   {
    "duration": 22,
    "start_time": "2024-10-21T14:11:19.478Z"
   },
   {
    "duration": 141,
    "start_time": "2024-10-21T14:11:19.505Z"
   },
   {
    "duration": 125,
    "start_time": "2024-10-21T14:11:19.648Z"
   },
   {
    "duration": 4,
    "start_time": "2024-10-21T14:11:19.774Z"
   },
   {
    "duration": 4,
    "start_time": "2024-10-21T14:11:51.672Z"
   },
   {
    "duration": 6,
    "start_time": "2024-10-21T14:14:11.192Z"
   },
   {
    "duration": 8,
    "start_time": "2024-10-21T14:14:31.784Z"
   },
   {
    "duration": 6,
    "start_time": "2024-10-21T14:14:36.024Z"
   },
   {
    "duration": 5,
    "start_time": "2024-10-21T14:14:46.279Z"
   },
   {
    "duration": 17,
    "start_time": "2024-10-21T14:16:55.502Z"
   },
   {
    "duration": 101,
    "start_time": "2024-10-21T14:19:17.816Z"
   },
   {
    "duration": 32,
    "start_time": "2024-10-21T14:19:24.743Z"
   },
   {
    "duration": 50,
    "start_time": "2024-10-21T14:19:39.284Z"
   },
   {
    "duration": 729,
    "start_time": "2024-10-21T14:20:52.519Z"
   },
   {
    "duration": 37,
    "start_time": "2024-10-21T14:20:57.287Z"
   },
   {
    "duration": 43,
    "start_time": "2024-10-21T14:21:01.943Z"
   },
   {
    "duration": 43,
    "start_time": "2024-10-21T14:21:07.927Z"
   },
   {
    "duration": 38,
    "start_time": "2024-10-21T14:22:34.071Z"
   },
   {
    "duration": 40,
    "start_time": "2024-10-21T14:22:46.759Z"
   },
   {
    "duration": 38,
    "start_time": "2024-10-21T14:23:00.727Z"
   },
   {
    "duration": 37,
    "start_time": "2024-10-21T14:23:38.583Z"
   },
   {
    "duration": 82,
    "start_time": "2024-10-21T14:24:41.623Z"
   },
   {
    "duration": 38,
    "start_time": "2024-10-21T14:24:45.303Z"
   },
   {
    "duration": 38,
    "start_time": "2024-10-21T14:25:03.799Z"
   },
   {
    "duration": 36,
    "start_time": "2024-10-21T14:25:16.391Z"
   },
   {
    "duration": 20,
    "start_time": "2024-10-21T14:27:48.982Z"
   },
   {
    "duration": 21,
    "start_time": "2024-10-21T14:28:36.584Z"
   },
   {
    "duration": 34,
    "start_time": "2024-10-21T14:29:01.702Z"
   },
   {
    "duration": 1391,
    "start_time": "2024-10-21T14:30:48.184Z"
   },
   {
    "duration": 31,
    "start_time": "2024-10-21T14:31:02.342Z"
   },
   {
    "duration": 16,
    "start_time": "2024-10-21T14:31:11.830Z"
   },
   {
    "duration": 90,
    "start_time": "2024-10-21T14:31:16.518Z"
   },
   {
    "duration": 119,
    "start_time": "2024-10-21T14:31:47.894Z"
   },
   {
    "duration": 820,
    "start_time": "2024-10-21T14:33:59.302Z"
   },
   {
    "duration": 874,
    "start_time": "2024-10-21T14:34:07.670Z"
   },
   {
    "duration": 1181,
    "start_time": "2024-10-21T14:34:38.912Z"
   },
   {
    "duration": 225,
    "start_time": "2024-10-21T14:34:40.095Z"
   },
   {
    "duration": 3,
    "start_time": "2024-10-21T14:34:40.321Z"
   },
   {
    "duration": 834,
    "start_time": "2024-10-21T14:34:40.326Z"
   },
   {
    "duration": 20,
    "start_time": "2024-10-21T14:34:41.162Z"
   },
   {
    "duration": 5,
    "start_time": "2024-10-21T14:34:41.184Z"
   },
   {
    "duration": 127,
    "start_time": "2024-10-21T14:34:41.206Z"
   },
   {
    "duration": 143,
    "start_time": "2024-10-21T14:34:41.335Z"
   },
   {
    "duration": 42,
    "start_time": "2024-10-21T14:34:41.480Z"
   },
   {
    "duration": 21,
    "start_time": "2024-10-21T14:34:41.525Z"
   },
   {
    "duration": 62,
    "start_time": "2024-10-21T14:34:41.548Z"
   },
   {
    "duration": 102,
    "start_time": "2024-10-21T14:36:23.271Z"
   },
   {
    "duration": 33,
    "start_time": "2024-10-21T14:36:29.399Z"
   },
   {
    "duration": 18,
    "start_time": "2024-10-21T14:36:34.726Z"
   },
   {
    "duration": 966,
    "start_time": "2024-10-21T14:36:46.150Z"
   },
   {
    "duration": 875,
    "start_time": "2024-10-21T14:36:51.206Z"
   },
   {
    "duration": 948,
    "start_time": "2024-10-21T14:37:04.230Z"
   },
   {
    "duration": 916,
    "start_time": "2024-10-21T14:37:11.110Z"
   },
   {
    "duration": 863,
    "start_time": "2024-10-21T14:37:28.597Z"
   },
   {
    "duration": 1142,
    "start_time": "2024-10-21T14:37:33.952Z"
   },
   {
    "duration": 211,
    "start_time": "2024-10-21T14:37:35.096Z"
   },
   {
    "duration": 2,
    "start_time": "2024-10-21T14:37:35.308Z"
   },
   {
    "duration": 903,
    "start_time": "2024-10-21T14:37:35.312Z"
   },
   {
    "duration": 20,
    "start_time": "2024-10-21T14:37:36.217Z"
   },
   {
    "duration": 20,
    "start_time": "2024-10-21T14:37:36.238Z"
   },
   {
    "duration": 154,
    "start_time": "2024-10-21T14:37:36.259Z"
   },
   {
    "duration": 99,
    "start_time": "2024-10-21T14:37:36.414Z"
   },
   {
    "duration": 34,
    "start_time": "2024-10-21T14:37:36.514Z"
   },
   {
    "duration": 380,
    "start_time": "2024-10-21T14:37:36.550Z"
   },
   {
    "duration": 22,
    "start_time": "2024-10-21T14:37:36.931Z"
   },
   {
    "duration": 6,
    "start_time": "2024-10-21T14:38:25.017Z"
   },
   {
    "duration": 7,
    "start_time": "2024-10-21T14:38:33.829Z"
   },
   {
    "duration": 6,
    "start_time": "2024-10-21T14:39:23.734Z"
   },
   {
    "duration": 7,
    "start_time": "2024-10-21T14:40:11.129Z"
   },
   {
    "duration": 99,
    "start_time": "2024-10-21T14:40:22.245Z"
   },
   {
    "duration": 13,
    "start_time": "2024-10-21T14:40:35.157Z"
   },
   {
    "duration": 9,
    "start_time": "2024-10-21T14:40:40.725Z"
   },
   {
    "duration": 9,
    "start_time": "2024-10-21T14:40:45.334Z"
   },
   {
    "duration": 6,
    "start_time": "2024-10-21T14:40:48.389Z"
   },
   {
    "duration": 1643,
    "start_time": "2024-10-21T14:41:25.609Z"
   },
   {
    "duration": 13,
    "start_time": "2024-10-21T14:43:57.749Z"
   },
   {
    "duration": 12,
    "start_time": "2024-10-21T14:46:08.421Z"
   },
   {
    "duration": 36,
    "start_time": "2024-10-21T14:46:14.581Z"
   },
   {
    "duration": 29,
    "start_time": "2024-10-21T14:46:21.781Z"
   },
   {
    "duration": 1254,
    "start_time": "2024-10-21T14:46:43.381Z"
   },
   {
    "duration": 227,
    "start_time": "2024-10-21T14:46:58.197Z"
   },
   {
    "duration": 36,
    "start_time": "2024-10-21T14:47:25.909Z"
   },
   {
    "duration": 29,
    "start_time": "2024-10-21T14:47:37.061Z"
   },
   {
    "duration": 32,
    "start_time": "2024-10-21T14:47:54.756Z"
   },
   {
    "duration": 32,
    "start_time": "2024-10-21T14:48:04.596Z"
   },
   {
    "duration": 30,
    "start_time": "2024-10-21T14:50:23.941Z"
   },
   {
    "duration": 292,
    "start_time": "2024-10-21T14:59:41.780Z"
   },
   {
    "duration": 1210,
    "start_time": "2024-10-21T15:00:05.178Z"
   },
   {
    "duration": 221,
    "start_time": "2024-10-21T15:00:06.390Z"
   },
   {
    "duration": 3,
    "start_time": "2024-10-21T15:00:06.613Z"
   },
   {
    "duration": 839,
    "start_time": "2024-10-21T15:00:06.619Z"
   },
   {
    "duration": 23,
    "start_time": "2024-10-21T15:00:07.459Z"
   },
   {
    "duration": 25,
    "start_time": "2024-10-21T15:00:07.484Z"
   },
   {
    "duration": 150,
    "start_time": "2024-10-21T15:00:07.511Z"
   },
   {
    "duration": 122,
    "start_time": "2024-10-21T15:00:07.663Z"
   },
   {
    "duration": 47,
    "start_time": "2024-10-21T15:00:07.787Z"
   },
   {
    "duration": 69,
    "start_time": "2024-10-21T15:00:07.837Z"
   },
   {
    "duration": 320,
    "start_time": "2024-10-21T15:00:07.909Z"
   },
   {
    "duration": 15,
    "start_time": "2024-10-21T15:00:08.230Z"
   },
   {
    "duration": 123,
    "start_time": "2024-10-21T15:00:08.246Z"
   },
   {
    "duration": 292,
    "start_time": "2024-10-21T15:01:45.683Z"
   },
   {
    "duration": 366,
    "start_time": "2024-10-21T15:02:43.251Z"
   },
   {
    "duration": 7,
    "start_time": "2024-10-21T15:04:05.059Z"
   },
   {
    "duration": 282,
    "start_time": "2024-10-21T15:05:03.939Z"
   },
   {
    "duration": 328,
    "start_time": "2024-10-21T15:08:16.709Z"
   },
   {
    "duration": 7,
    "start_time": "2024-10-21T15:08:35.029Z"
   },
   {
    "duration": 354,
    "start_time": "2024-10-21T15:09:17.587Z"
   },
   {
    "duration": 9,
    "start_time": "2024-10-21T15:09:20.933Z"
   },
   {
    "duration": 7,
    "start_time": "2024-10-21T15:09:25.797Z"
   },
   {
    "duration": 6,
    "start_time": "2024-10-21T15:09:30.138Z"
   },
   {
    "duration": 6,
    "start_time": "2024-10-21T15:09:33.493Z"
   },
   {
    "duration": 7,
    "start_time": "2024-10-21T15:09:36.941Z"
   },
   {
    "duration": 7,
    "start_time": "2024-10-21T15:09:41.894Z"
   },
   {
    "duration": 599,
    "start_time": "2024-10-21T15:16:02.819Z"
   },
   {
    "duration": 606,
    "start_time": "2024-10-21T15:16:12.515Z"
   },
   {
    "duration": 570,
    "start_time": "2024-10-21T15:16:26.599Z"
   },
   {
    "duration": 653,
    "start_time": "2024-10-21T15:16:31.379Z"
   },
   {
    "duration": 572,
    "start_time": "2024-10-21T15:16:45.192Z"
   },
   {
    "duration": 556,
    "start_time": "2024-10-21T15:16:49.925Z"
   },
   {
    "duration": 599,
    "start_time": "2024-10-21T15:16:55.558Z"
   },
   {
    "duration": 498,
    "start_time": "2024-10-21T15:17:02.026Z"
   },
   {
    "duration": 381,
    "start_time": "2024-10-21T15:17:07.602Z"
   },
   {
    "duration": 417,
    "start_time": "2024-10-21T15:17:20.354Z"
   },
   {
    "duration": 392,
    "start_time": "2024-10-21T15:17:28.194Z"
   },
   {
    "duration": 403,
    "start_time": "2024-10-21T15:17:51.602Z"
   },
   {
    "duration": 383,
    "start_time": "2024-10-21T15:17:58.606Z"
   },
   {
    "duration": 453,
    "start_time": "2024-10-21T15:18:04.165Z"
   },
   {
    "duration": 405,
    "start_time": "2024-10-21T15:18:14.142Z"
   },
   {
    "duration": 385,
    "start_time": "2024-10-21T15:18:17.290Z"
   },
   {
    "duration": 379,
    "start_time": "2024-10-21T15:18:20.402Z"
   },
   {
    "duration": 390,
    "start_time": "2024-10-21T15:18:48.870Z"
   },
   {
    "duration": 545,
    "start_time": "2024-10-21T15:19:29.166Z"
   },
   {
    "duration": 482,
    "start_time": "2024-10-21T15:19:45.610Z"
   },
   {
    "duration": 435,
    "start_time": "2024-10-21T15:19:53.622Z"
   },
   {
    "duration": 444,
    "start_time": "2024-10-21T15:21:00.377Z"
   },
   {
    "duration": 566,
    "start_time": "2024-10-21T15:21:47.405Z"
   },
   {
    "duration": 507,
    "start_time": "2024-10-21T15:21:52.777Z"
   },
   {
    "duration": 452,
    "start_time": "2024-10-21T15:21:57.414Z"
   },
   {
    "duration": 18,
    "start_time": "2024-10-21T15:22:46.994Z"
   },
   {
    "duration": 544,
    "start_time": "2024-10-21T15:22:51.570Z"
   },
   {
    "duration": 477,
    "start_time": "2024-10-21T15:23:53.330Z"
   },
   {
    "duration": 341,
    "start_time": "2024-10-21T15:25:06.278Z"
   },
   {
    "duration": 851,
    "start_time": "2024-10-21T15:27:10.578Z"
   },
   {
    "duration": 803,
    "start_time": "2024-10-21T15:27:20.274Z"
   },
   {
    "duration": 870,
    "start_time": "2024-10-21T15:27:23.425Z"
   },
   {
    "duration": 959,
    "start_time": "2024-10-21T15:27:34.442Z"
   },
   {
    "duration": 1037,
    "start_time": "2024-10-21T15:27:39.981Z"
   },
   {
    "duration": 929,
    "start_time": "2024-10-21T15:27:44.349Z"
   },
   {
    "duration": 748,
    "start_time": "2024-10-21T15:28:42.274Z"
   },
   {
    "duration": 923,
    "start_time": "2024-10-21T15:28:52.117Z"
   },
   {
    "duration": 1043,
    "start_time": "2024-10-21T15:29:01.062Z"
   },
   {
    "duration": 115,
    "start_time": "2024-10-21T15:29:19.553Z"
   },
   {
    "duration": 959,
    "start_time": "2024-10-21T15:30:46.721Z"
   },
   {
    "duration": 1204,
    "start_time": "2024-10-21T15:30:52.586Z"
   },
   {
    "duration": 237,
    "start_time": "2024-10-21T15:30:53.792Z"
   },
   {
    "duration": 4,
    "start_time": "2024-10-21T15:30:54.031Z"
   },
   {
    "duration": 832,
    "start_time": "2024-10-21T15:30:54.037Z"
   },
   {
    "duration": 22,
    "start_time": "2024-10-21T15:30:54.871Z"
   },
   {
    "duration": 28,
    "start_time": "2024-10-21T15:30:54.895Z"
   },
   {
    "duration": 125,
    "start_time": "2024-10-21T15:30:54.924Z"
   },
   {
    "duration": 118,
    "start_time": "2024-10-21T15:30:55.050Z"
   },
   {
    "duration": 43,
    "start_time": "2024-10-21T15:30:55.170Z"
   },
   {
    "duration": 34,
    "start_time": "2024-10-21T15:30:55.215Z"
   },
   {
    "duration": 123,
    "start_time": "2024-10-21T15:30:55.251Z"
   },
   {
    "duration": 1030,
    "start_time": "2024-10-21T15:30:55.375Z"
   },
   {
    "duration": 938,
    "start_time": "2024-10-21T15:30:56.407Z"
   },
   {
    "duration": 8,
    "start_time": "2024-10-21T15:30:57.348Z"
   },
   {
    "duration": 33,
    "start_time": "2024-10-21T15:30:57.358Z"
   },
   {
    "duration": 4,
    "start_time": "2024-10-21T15:33:47.250Z"
   },
   {
    "duration": 3,
    "start_time": "2024-10-21T15:34:09.467Z"
   },
   {
    "duration": 3,
    "start_time": "2024-10-21T15:34:33.059Z"
   },
   {
    "duration": 3,
    "start_time": "2024-10-21T15:34:42.743Z"
   },
   {
    "duration": 3,
    "start_time": "2024-10-21T15:34:57.150Z"
   },
   {
    "duration": 4,
    "start_time": "2024-10-21T15:35:03.410Z"
   },
   {
    "duration": 3,
    "start_time": "2024-10-21T15:36:44.483Z"
   },
   {
    "duration": 71,
    "start_time": "2024-10-21T15:37:08.513Z"
   },
   {
    "duration": 67,
    "start_time": "2024-10-21T15:37:10.897Z"
   },
   {
    "duration": 61,
    "start_time": "2024-10-21T15:37:16.298Z"
   },
   {
    "duration": 69,
    "start_time": "2024-10-21T15:38:10.402Z"
   },
   {
    "duration": 89,
    "start_time": "2024-10-21T15:38:14.402Z"
   },
   {
    "duration": 85,
    "start_time": "2024-10-21T15:40:03.131Z"
   },
   {
    "duration": 63,
    "start_time": "2024-10-21T15:40:12.723Z"
   },
   {
    "duration": 80,
    "start_time": "2024-10-21T15:40:44.810Z"
   },
   {
    "duration": 98,
    "start_time": "2024-10-21T15:40:52.291Z"
   },
   {
    "duration": 67,
    "start_time": "2024-10-21T15:41:32.976Z"
   },
   {
    "duration": 12,
    "start_time": "2024-10-21T15:41:41.299Z"
   },
   {
    "duration": 4,
    "start_time": "2024-10-21T15:41:48.867Z"
   },
   {
    "duration": 4,
    "start_time": "2024-10-21T15:42:42.832Z"
   },
   {
    "duration": 1144,
    "start_time": "2024-10-21T15:43:18.544Z"
   },
   {
    "duration": 225,
    "start_time": "2024-10-21T15:43:19.690Z"
   },
   {
    "duration": 3,
    "start_time": "2024-10-21T15:43:19.917Z"
   },
   {
    "duration": 767,
    "start_time": "2024-10-21T15:43:19.922Z"
   },
   {
    "duration": 19,
    "start_time": "2024-10-21T15:43:20.691Z"
   },
   {
    "duration": 5,
    "start_time": "2024-10-21T15:43:20.712Z"
   },
   {
    "duration": 144,
    "start_time": "2024-10-21T15:43:20.718Z"
   },
   {
    "duration": 117,
    "start_time": "2024-10-21T15:43:20.864Z"
   },
   {
    "duration": 40,
    "start_time": "2024-10-21T15:43:20.982Z"
   },
   {
    "duration": 42,
    "start_time": "2024-10-21T15:43:21.024Z"
   },
   {
    "duration": 122,
    "start_time": "2024-10-21T15:43:21.068Z"
   },
   {
    "duration": 1003,
    "start_time": "2024-10-21T15:43:21.191Z"
   },
   {
    "duration": 965,
    "start_time": "2024-10-21T15:43:22.196Z"
   },
   {
    "duration": 8,
    "start_time": "2024-10-21T15:43:23.163Z"
   },
   {
    "duration": 14,
    "start_time": "2024-10-21T15:43:23.172Z"
   },
   {
    "duration": 4,
    "start_time": "2024-10-21T15:45:19.984Z"
   },
   {
    "duration": 36,
    "start_time": "2024-10-21T15:45:42.482Z"
   },
   {
    "duration": 31,
    "start_time": "2024-10-21T15:46:05.435Z"
   },
   {
    "duration": 33,
    "start_time": "2024-10-21T15:47:36.530Z"
   },
   {
    "duration": 31,
    "start_time": "2024-10-21T15:47:45.450Z"
   },
   {
    "duration": 1196,
    "start_time": "2024-10-21T15:47:48.978Z"
   },
   {
    "duration": 209,
    "start_time": "2024-10-21T15:47:50.175Z"
   },
   {
    "duration": 3,
    "start_time": "2024-10-21T15:47:50.385Z"
   },
   {
    "duration": 791,
    "start_time": "2024-10-21T15:47:50.390Z"
   },
   {
    "duration": 34,
    "start_time": "2024-10-21T15:47:51.183Z"
   },
   {
    "duration": 18,
    "start_time": "2024-10-21T15:47:51.219Z"
   },
   {
    "duration": 123,
    "start_time": "2024-10-21T15:47:51.238Z"
   },
   {
    "duration": 114,
    "start_time": "2024-10-21T15:47:51.362Z"
   },
   {
    "duration": 39,
    "start_time": "2024-10-21T15:47:51.478Z"
   },
   {
    "duration": 32,
    "start_time": "2024-10-21T15:47:51.519Z"
   },
   {
    "duration": 173,
    "start_time": "2024-10-21T15:47:51.553Z"
   },
   {
    "duration": 949,
    "start_time": "2024-10-21T15:47:51.728Z"
   },
   {
    "duration": 95,
    "start_time": "2024-10-21T15:55:22.974Z"
   },
   {
    "duration": 45,
    "start_time": "2024-10-22T13:55:53.258Z"
   },
   {
    "duration": 1264,
    "start_time": "2024-10-22T13:56:00.898Z"
   },
   {
    "duration": 777,
    "start_time": "2024-10-22T13:56:02.164Z"
   },
   {
    "duration": 12,
    "start_time": "2024-10-22T13:56:02.942Z"
   },
   {
    "duration": 818,
    "start_time": "2024-10-22T13:56:02.957Z"
   },
   {
    "duration": 20,
    "start_time": "2024-10-22T13:56:03.777Z"
   },
   {
    "duration": 60,
    "start_time": "2024-10-22T13:56:03.799Z"
   },
   {
    "duration": 168,
    "start_time": "2024-10-22T13:56:03.861Z"
   },
   {
    "duration": 124,
    "start_time": "2024-10-22T13:56:04.030Z"
   },
   {
    "duration": 32,
    "start_time": "2024-10-22T13:56:04.156Z"
   },
   {
    "duration": 50,
    "start_time": "2024-10-22T13:56:04.191Z"
   },
   {
    "duration": 120,
    "start_time": "2024-10-22T13:56:04.243Z"
   },
   {
    "duration": 1007,
    "start_time": "2024-10-22T13:56:04.365Z"
   },
   {
    "duration": 101,
    "start_time": "2024-10-22T13:56:05.374Z"
   },
   {
    "duration": 0,
    "start_time": "2024-10-22T13:56:05.476Z"
   },
   {
    "duration": 14,
    "start_time": "2024-10-22T13:56:08.785Z"
   },
   {
    "duration": 10,
    "start_time": "2024-10-22T13:56:19.186Z"
   },
   {
    "duration": 4,
    "start_time": "2024-10-22T13:56:27.174Z"
   },
   {
    "duration": 3,
    "start_time": "2024-10-22T13:56:35.986Z"
   },
   {
    "duration": 8,
    "start_time": "2024-10-22T13:56:42.234Z"
   },
   {
    "duration": 9,
    "start_time": "2024-10-22T13:56:51.765Z"
   },
   {
    "duration": 3,
    "start_time": "2024-10-22T13:56:57.121Z"
   },
   {
    "duration": 76,
    "start_time": "2024-10-22T13:56:59.777Z"
   },
   {
    "duration": 3,
    "start_time": "2024-10-22T13:57:05.937Z"
   },
   {
    "duration": 8,
    "start_time": "2024-10-22T13:57:09.393Z"
   },
   {
    "duration": 16,
    "start_time": "2024-10-22T14:00:17.170Z"
   },
   {
    "duration": 18,
    "start_time": "2024-10-22T14:01:50.177Z"
   },
   {
    "duration": 13,
    "start_time": "2024-10-22T14:01:58.858Z"
   },
   {
    "duration": 12,
    "start_time": "2024-10-22T14:02:06.354Z"
   },
   {
    "duration": 4,
    "start_time": "2024-10-22T14:02:27.872Z"
   },
   {
    "duration": 12,
    "start_time": "2024-10-22T14:02:38.370Z"
   },
   {
    "duration": 3,
    "start_time": "2024-10-22T14:02:46.082Z"
   },
   {
    "duration": 4,
    "start_time": "2024-10-22T14:03:22.784Z"
   },
   {
    "duration": 4,
    "start_time": "2024-10-22T14:03:42.242Z"
   },
   {
    "duration": 4,
    "start_time": "2024-10-22T14:03:51.526Z"
   },
   {
    "duration": 4,
    "start_time": "2024-10-22T14:04:04.801Z"
   },
   {
    "duration": 4,
    "start_time": "2024-10-22T14:04:09.122Z"
   },
   {
    "duration": 4,
    "start_time": "2024-10-22T14:04:19.670Z"
   },
   {
    "duration": 67,
    "start_time": "2024-10-22T14:04:39.254Z"
   },
   {
    "duration": 3,
    "start_time": "2024-10-22T14:04:46.230Z"
   },
   {
    "duration": 3,
    "start_time": "2024-10-22T14:05:15.648Z"
   },
   {
    "duration": 3,
    "start_time": "2024-10-22T14:05:21.814Z"
   },
   {
    "duration": 11,
    "start_time": "2024-10-22T14:09:01.615Z"
   },
   {
    "duration": 27,
    "start_time": "2024-10-22T14:09:05.872Z"
   },
   {
    "duration": 38,
    "start_time": "2024-10-22T14:19:46.848Z"
   },
   {
    "duration": 15,
    "start_time": "2024-10-22T14:41:12.205Z"
   },
   {
    "duration": 25,
    "start_time": "2024-10-22T14:41:32.353Z"
   },
   {
    "duration": 42,
    "start_time": "2024-10-22T14:41:38.413Z"
   },
   {
    "duration": 25,
    "start_time": "2024-10-22T14:41:57.250Z"
   },
   {
    "duration": 30,
    "start_time": "2024-10-22T14:42:33.502Z"
   },
   {
    "duration": 30,
    "start_time": "2024-10-22T14:42:38.355Z"
   },
   {
    "duration": 30,
    "start_time": "2024-10-22T14:42:41.518Z"
   },
   {
    "duration": 30,
    "start_time": "2024-10-22T14:42:48.269Z"
   },
   {
    "duration": 29,
    "start_time": "2024-10-22T14:43:23.663Z"
   },
   {
    "duration": 29,
    "start_time": "2024-10-22T14:43:47.695Z"
   },
   {
    "duration": 49,
    "start_time": "2024-10-22T14:57:05.227Z"
   },
   {
    "duration": 51,
    "start_time": "2024-10-22T14:57:18.491Z"
   },
   {
    "duration": 61,
    "start_time": "2024-10-22T15:02:48.639Z"
   },
   {
    "duration": 55,
    "start_time": "2024-10-22T15:04:37.875Z"
   },
   {
    "duration": 52,
    "start_time": "2024-10-22T15:05:09.643Z"
   },
   {
    "duration": 53,
    "start_time": "2024-10-22T15:05:36.223Z"
   },
   {
    "duration": 55,
    "start_time": "2024-10-22T15:13:31.395Z"
   },
   {
    "duration": 53,
    "start_time": "2024-10-22T15:13:53.211Z"
   },
   {
    "duration": 23,
    "start_time": "2024-10-22T15:18:58.731Z"
   },
   {
    "duration": 13,
    "start_time": "2024-10-22T15:19:01.610Z"
   },
   {
    "duration": 55,
    "start_time": "2024-10-22T15:22:18.779Z"
   },
   {
    "duration": 68,
    "start_time": "2024-10-22T15:22:23.500Z"
   },
   {
    "duration": 10,
    "start_time": "2024-10-22T15:23:21.823Z"
   },
   {
    "duration": 1178,
    "start_time": "2024-10-22T15:24:59.647Z"
   },
   {
    "duration": 222,
    "start_time": "2024-10-22T15:25:00.827Z"
   },
   {
    "duration": 3,
    "start_time": "2024-10-22T15:25:01.051Z"
   },
   {
    "duration": 866,
    "start_time": "2024-10-22T15:25:01.056Z"
   },
   {
    "duration": 23,
    "start_time": "2024-10-22T15:25:01.923Z"
   },
   {
    "duration": 110,
    "start_time": "2024-10-22T15:25:01.948Z"
   },
   {
    "duration": 245,
    "start_time": "2024-10-22T15:25:02.060Z"
   },
   {
    "duration": 145,
    "start_time": "2024-10-22T15:25:02.307Z"
   },
   {
    "duration": 33,
    "start_time": "2024-10-22T15:25:02.453Z"
   },
   {
    "duration": 159,
    "start_time": "2024-10-22T15:25:02.489Z"
   },
   {
    "duration": 168,
    "start_time": "2024-10-22T15:25:02.650Z"
   },
   {
    "duration": 963,
    "start_time": "2024-10-22T15:25:02.820Z"
   },
   {
    "duration": 16,
    "start_time": "2024-10-22T15:25:03.785Z"
   },
   {
    "duration": 4,
    "start_time": "2024-10-22T15:25:03.803Z"
   },
   {
    "duration": 113,
    "start_time": "2024-10-22T15:25:03.808Z"
   },
   {
    "duration": 114,
    "start_time": "2024-10-22T15:25:03.922Z"
   },
   {
    "duration": 32,
    "start_time": "2024-10-22T15:25:04.037Z"
   },
   {
    "duration": 116,
    "start_time": "2024-10-22T15:25:04.071Z"
   },
   {
    "duration": 13,
    "start_time": "2024-10-22T15:25:04.188Z"
   },
   {
    "duration": 54,
    "start_time": "2024-10-22T15:25:04.203Z"
   },
   {
    "duration": 1203,
    "start_time": "2024-10-22T15:25:32.227Z"
   },
   {
    "duration": 208,
    "start_time": "2024-10-22T15:25:33.433Z"
   },
   {
    "duration": 3,
    "start_time": "2024-10-22T15:25:33.642Z"
   },
   {
    "duration": 769,
    "start_time": "2024-10-22T15:25:33.647Z"
   },
   {
    "duration": 25,
    "start_time": "2024-10-22T15:25:34.418Z"
   },
   {
    "duration": 12,
    "start_time": "2024-10-22T15:25:34.445Z"
   },
   {
    "duration": 155,
    "start_time": "2024-10-22T15:25:34.459Z"
   },
   {
    "duration": 114,
    "start_time": "2024-10-22T15:25:34.616Z"
   },
   {
    "duration": 51,
    "start_time": "2024-10-22T15:25:34.732Z"
   },
   {
    "duration": 38,
    "start_time": "2024-10-22T15:25:34.785Z"
   },
   {
    "duration": 134,
    "start_time": "2024-10-22T15:25:34.842Z"
   },
   {
    "duration": 954,
    "start_time": "2024-10-22T15:25:34.978Z"
   },
   {
    "duration": 20,
    "start_time": "2024-10-22T15:25:35.934Z"
   },
   {
    "duration": 69,
    "start_time": "2024-10-22T15:25:35.956Z"
   },
   {
    "duration": 51,
    "start_time": "2024-10-22T15:25:36.026Z"
   },
   {
    "duration": 106,
    "start_time": "2024-10-22T15:25:36.078Z"
   },
   {
    "duration": 34,
    "start_time": "2024-10-22T15:25:36.185Z"
   },
   {
    "duration": 64,
    "start_time": "2024-10-22T15:25:36.221Z"
   },
   {
    "duration": 9,
    "start_time": "2024-10-22T15:25:36.287Z"
   },
   {
    "duration": 40,
    "start_time": "2024-10-22T15:25:36.298Z"
   },
   {
    "duration": 38,
    "start_time": "2024-10-22T15:25:44.744Z"
   },
   {
    "duration": 1112,
    "start_time": "2024-10-22T15:25:50.907Z"
   },
   {
    "duration": 212,
    "start_time": "2024-10-22T15:25:52.022Z"
   },
   {
    "duration": 5,
    "start_time": "2024-10-22T15:25:52.238Z"
   },
   {
    "duration": 810,
    "start_time": "2024-10-22T15:25:52.244Z"
   },
   {
    "duration": 20,
    "start_time": "2024-10-22T15:25:53.056Z"
   },
   {
    "duration": 72,
    "start_time": "2024-10-22T15:25:53.078Z"
   },
   {
    "duration": 124,
    "start_time": "2024-10-22T15:25:53.152Z"
   },
   {
    "duration": 114,
    "start_time": "2024-10-22T15:25:53.278Z"
   },
   {
    "duration": 34,
    "start_time": "2024-10-22T15:25:53.394Z"
   },
   {
    "duration": 42,
    "start_time": "2024-10-22T15:25:53.429Z"
   },
   {
    "duration": 140,
    "start_time": "2024-10-22T15:25:53.473Z"
   },
   {
    "duration": 947,
    "start_time": "2024-10-22T15:25:53.615Z"
   },
   {
    "duration": 14,
    "start_time": "2024-10-22T15:25:54.564Z"
   },
   {
    "duration": 3,
    "start_time": "2024-10-22T15:25:54.580Z"
   },
   {
    "duration": 32,
    "start_time": "2024-10-22T15:25:54.584Z"
   },
   {
    "duration": 49,
    "start_time": "2024-10-22T15:25:54.618Z"
   },
   {
    "duration": 32,
    "start_time": "2024-10-22T15:25:54.668Z"
   },
   {
    "duration": 87,
    "start_time": "2024-10-22T15:25:54.702Z"
   },
   {
    "duration": 12,
    "start_time": "2024-10-22T15:25:54.791Z"
   },
   {
    "duration": 37,
    "start_time": "2024-10-22T15:25:54.805Z"
   },
   {
    "duration": 100,
    "start_time": "2024-10-22T15:36:53.420Z"
   },
   {
    "duration": 8,
    "start_time": "2024-10-22T15:37:03.463Z"
   },
   {
    "duration": 8,
    "start_time": "2024-10-22T15:37:44.299Z"
   },
   {
    "duration": 8,
    "start_time": "2024-10-22T15:39:07.191Z"
   },
   {
    "duration": 1072,
    "start_time": "2024-10-22T15:39:19.062Z"
   },
   {
    "duration": 225,
    "start_time": "2024-10-22T15:39:20.135Z"
   },
   {
    "duration": 3,
    "start_time": "2024-10-22T15:39:20.361Z"
   },
   {
    "duration": 724,
    "start_time": "2024-10-22T15:39:20.365Z"
   },
   {
    "duration": 18,
    "start_time": "2024-10-22T15:39:21.091Z"
   },
   {
    "duration": 99,
    "start_time": "2024-10-22T15:39:21.110Z"
   },
   {
    "duration": 137,
    "start_time": "2024-10-22T15:39:21.211Z"
   },
   {
    "duration": 117,
    "start_time": "2024-10-22T15:39:21.350Z"
   },
   {
    "duration": 34,
    "start_time": "2024-10-22T15:39:21.469Z"
   },
   {
    "duration": 43,
    "start_time": "2024-10-22T15:39:21.506Z"
   },
   {
    "duration": 165,
    "start_time": "2024-10-22T15:39:21.550Z"
   },
   {
    "duration": 963,
    "start_time": "2024-10-22T15:39:21.716Z"
   },
   {
    "duration": 14,
    "start_time": "2024-10-22T15:39:22.680Z"
   },
   {
    "duration": 3,
    "start_time": "2024-10-22T15:39:22.696Z"
   },
   {
    "duration": 43,
    "start_time": "2024-10-22T15:39:22.701Z"
   },
   {
    "duration": 29,
    "start_time": "2024-10-22T15:39:22.746Z"
   },
   {
    "duration": 30,
    "start_time": "2024-10-22T15:39:22.777Z"
   },
   {
    "duration": 87,
    "start_time": "2024-10-22T15:39:22.809Z"
   },
   {
    "duration": 115,
    "start_time": "2024-10-22T15:39:22.898Z"
   },
   {
    "duration": 0,
    "start_time": "2024-10-22T15:39:23.015Z"
   },
   {
    "duration": 10,
    "start_time": "2024-10-22T15:40:31.374Z"
   },
   {
    "duration": 10,
    "start_time": "2024-10-22T15:40:34.487Z"
   },
   {
    "duration": 8,
    "start_time": "2024-10-22T15:40:41.011Z"
   },
   {
    "duration": 10,
    "start_time": "2024-10-22T15:41:23.446Z"
   },
   {
    "duration": 8,
    "start_time": "2024-10-22T15:44:03.463Z"
   },
   {
    "duration": 1045,
    "start_time": "2024-10-22T15:44:14.266Z"
   },
   {
    "duration": 217,
    "start_time": "2024-10-22T15:44:15.312Z"
   },
   {
    "duration": 3,
    "start_time": "2024-10-22T15:44:15.530Z"
   },
   {
    "duration": 759,
    "start_time": "2024-10-22T15:44:15.535Z"
   },
   {
    "duration": 19,
    "start_time": "2024-10-22T15:44:16.296Z"
   },
   {
    "duration": 18,
    "start_time": "2024-10-22T15:44:16.316Z"
   },
   {
    "duration": 121,
    "start_time": "2024-10-22T15:44:16.336Z"
   },
   {
    "duration": 111,
    "start_time": "2024-10-22T15:44:16.459Z"
   },
   {
    "duration": 32,
    "start_time": "2024-10-22T15:44:16.571Z"
   },
   {
    "duration": 44,
    "start_time": "2024-10-22T15:44:16.605Z"
   },
   {
    "duration": 111,
    "start_time": "2024-10-22T15:44:16.650Z"
   },
   {
    "duration": 931,
    "start_time": "2024-10-22T15:44:16.763Z"
   },
   {
    "duration": 15,
    "start_time": "2024-10-22T15:44:17.695Z"
   },
   {
    "duration": 2,
    "start_time": "2024-10-22T15:44:17.712Z"
   },
   {
    "duration": 52,
    "start_time": "2024-10-22T15:44:17.716Z"
   },
   {
    "duration": 70,
    "start_time": "2024-10-22T15:44:17.770Z"
   },
   {
    "duration": 30,
    "start_time": "2024-10-22T15:44:17.841Z"
   },
   {
    "duration": 74,
    "start_time": "2024-10-22T15:44:17.873Z"
   },
   {
    "duration": 3,
    "start_time": "2024-10-22T15:44:17.948Z"
   },
   {
    "duration": 87,
    "start_time": "2024-10-22T15:44:17.952Z"
   },
   {
    "duration": 13,
    "start_time": "2024-10-22T15:44:18.040Z"
   },
   {
    "duration": 231,
    "start_time": "2024-10-22T15:44:27.286Z"
   },
   {
    "duration": 10,
    "start_time": "2024-10-22T15:44:52.582Z"
   },
   {
    "duration": 9,
    "start_time": "2024-10-22T15:45:07.445Z"
   },
   {
    "duration": 4,
    "start_time": "2024-10-22T15:45:25.967Z"
   },
   {
    "duration": 1035,
    "start_time": "2024-10-22T15:45:31.263Z"
   },
   {
    "duration": 212,
    "start_time": "2024-10-22T15:45:32.300Z"
   },
   {
    "duration": 2,
    "start_time": "2024-10-22T15:45:32.514Z"
   },
   {
    "duration": 753,
    "start_time": "2024-10-22T15:45:32.518Z"
   },
   {
    "duration": 19,
    "start_time": "2024-10-22T15:45:33.273Z"
   },
   {
    "duration": 6,
    "start_time": "2024-10-22T15:45:33.294Z"
   },
   {
    "duration": 129,
    "start_time": "2024-10-22T15:45:33.302Z"
   },
   {
    "duration": 115,
    "start_time": "2024-10-22T15:45:33.433Z"
   },
   {
    "duration": 33,
    "start_time": "2024-10-22T15:45:33.550Z"
   },
   {
    "duration": 71,
    "start_time": "2024-10-22T15:45:33.585Z"
   },
   {
    "duration": 115,
    "start_time": "2024-10-22T15:45:33.658Z"
   },
   {
    "duration": 934,
    "start_time": "2024-10-22T15:45:33.774Z"
   },
   {
    "duration": 15,
    "start_time": "2024-10-22T15:45:34.710Z"
   },
   {
    "duration": 17,
    "start_time": "2024-10-22T15:45:34.726Z"
   },
   {
    "duration": 62,
    "start_time": "2024-10-22T15:45:34.745Z"
   },
   {
    "duration": 65,
    "start_time": "2024-10-22T15:45:34.809Z"
   },
   {
    "duration": 34,
    "start_time": "2024-10-22T15:45:34.876Z"
   },
   {
    "duration": 74,
    "start_time": "2024-10-22T15:45:34.912Z"
   },
   {
    "duration": 3,
    "start_time": "2024-10-22T15:45:34.988Z"
   },
   {
    "duration": 42,
    "start_time": "2024-10-22T15:45:34.993Z"
   },
   {
    "duration": 16,
    "start_time": "2024-10-22T15:45:35.037Z"
   },
   {
    "duration": 11,
    "start_time": "2024-10-22T15:51:41.136Z"
   },
   {
    "duration": 10,
    "start_time": "2024-10-22T15:52:00.251Z"
   },
   {
    "duration": 106,
    "start_time": "2024-10-22T15:52:17.224Z"
   },
   {
    "duration": 11,
    "start_time": "2024-10-22T15:52:20.614Z"
   },
   {
    "duration": 12,
    "start_time": "2024-10-22T15:53:08.934Z"
   },
   {
    "duration": 13,
    "start_time": "2024-10-22T15:54:03.927Z"
   },
   {
    "duration": 1307,
    "start_time": "2024-10-22T15:56:03.977Z"
   },
   {
    "duration": 13,
    "start_time": "2024-10-22T15:56:09.032Z"
   },
   {
    "duration": 45,
    "start_time": "2024-10-23T08:00:25.787Z"
   },
   {
    "duration": 1251,
    "start_time": "2024-10-23T08:00:31.628Z"
   },
   {
    "duration": 745,
    "start_time": "2024-10-23T08:00:32.880Z"
   },
   {
    "duration": 3,
    "start_time": "2024-10-23T08:00:33.627Z"
   },
   {
    "duration": 764,
    "start_time": "2024-10-23T08:00:33.632Z"
   },
   {
    "duration": 20,
    "start_time": "2024-10-23T08:00:34.397Z"
   },
   {
    "duration": 18,
    "start_time": "2024-10-23T08:00:34.418Z"
   },
   {
    "duration": 124,
    "start_time": "2024-10-23T08:00:34.437Z"
   },
   {
    "duration": 135,
    "start_time": "2024-10-23T08:00:34.562Z"
   },
   {
    "duration": 27,
    "start_time": "2024-10-23T08:00:34.699Z"
   },
   {
    "duration": 34,
    "start_time": "2024-10-23T08:00:34.728Z"
   },
   {
    "duration": 101,
    "start_time": "2024-10-23T08:00:34.763Z"
   },
   {
    "duration": 903,
    "start_time": "2024-10-23T08:00:34.866Z"
   },
   {
    "duration": 20,
    "start_time": "2024-10-23T08:00:35.770Z"
   },
   {
    "duration": 104,
    "start_time": "2024-10-23T08:00:35.792Z"
   },
   {
    "duration": 78,
    "start_time": "2024-10-23T08:00:35.898Z"
   },
   {
    "duration": 62,
    "start_time": "2024-10-23T08:00:35.977Z"
   },
   {
    "duration": 30,
    "start_time": "2024-10-23T08:00:36.040Z"
   },
   {
    "duration": 129,
    "start_time": "2024-10-23T08:00:36.071Z"
   },
   {
    "duration": 3,
    "start_time": "2024-10-23T08:00:36.201Z"
   },
   {
    "duration": 48,
    "start_time": "2024-10-23T08:00:36.205Z"
   },
   {
    "duration": 17,
    "start_time": "2024-10-23T08:00:36.254Z"
   },
   {
    "duration": 90,
    "start_time": "2024-10-23T08:00:43.560Z"
   },
   {
    "duration": 968,
    "start_time": "2024-10-23T08:00:53.601Z"
   },
   {
    "duration": 168,
    "start_time": "2024-10-23T08:00:54.571Z"
   },
   {
    "duration": 3,
    "start_time": "2024-10-23T08:00:54.740Z"
   },
   {
    "duration": 748,
    "start_time": "2024-10-23T08:00:54.744Z"
   },
   {
    "duration": 19,
    "start_time": "2024-10-23T08:00:55.494Z"
   },
   {
    "duration": 4,
    "start_time": "2024-10-23T08:00:55.515Z"
   },
   {
    "duration": 119,
    "start_time": "2024-10-23T08:00:55.520Z"
   },
   {
    "duration": 97,
    "start_time": "2024-10-23T08:00:55.641Z"
   },
   {
    "duration": 38,
    "start_time": "2024-10-23T08:00:55.740Z"
   },
   {
    "duration": 114,
    "start_time": "2024-10-23T08:00:55.779Z"
   },
   {
    "duration": 90,
    "start_time": "2024-10-23T08:00:55.894Z"
   },
   {
    "duration": 866,
    "start_time": "2024-10-23T08:00:55.985Z"
   },
   {
    "duration": 13,
    "start_time": "2024-10-23T08:00:56.857Z"
   },
   {
    "duration": 5,
    "start_time": "2024-10-23T08:00:56.872Z"
   },
   {
    "duration": 41,
    "start_time": "2024-10-23T08:00:56.878Z"
   },
   {
    "duration": 25,
    "start_time": "2024-10-23T08:00:56.920Z"
   },
   {
    "duration": 32,
    "start_time": "2024-10-23T08:00:56.947Z"
   },
   {
    "duration": 135,
    "start_time": "2024-10-23T08:00:56.981Z"
   },
   {
    "duration": 3,
    "start_time": "2024-10-23T08:00:57.117Z"
   },
   {
    "duration": 14,
    "start_time": "2024-10-23T08:00:57.121Z"
   },
   {
    "duration": 11,
    "start_time": "2024-10-23T08:00:57.136Z"
   },
   {
    "duration": 2,
    "start_time": "2024-10-23T08:01:01.496Z"
   },
   {
    "duration": 96,
    "start_time": "2024-10-23T08:01:07.416Z"
   },
   {
    "duration": 8,
    "start_time": "2024-10-23T08:01:08.600Z"
   },
   {
    "duration": 1130,
    "start_time": "2024-10-23T08:01:45.564Z"
   },
   {
    "duration": 174,
    "start_time": "2024-10-23T08:01:46.696Z"
   },
   {
    "duration": 3,
    "start_time": "2024-10-23T08:01:46.871Z"
   },
   {
    "duration": 757,
    "start_time": "2024-10-23T08:01:46.875Z"
   },
   {
    "duration": 24,
    "start_time": "2024-10-23T08:01:47.633Z"
   },
   {
    "duration": 6,
    "start_time": "2024-10-23T08:01:47.658Z"
   },
   {
    "duration": 118,
    "start_time": "2024-10-23T08:01:47.665Z"
   },
   {
    "duration": 106,
    "start_time": "2024-10-23T08:01:47.784Z"
   },
   {
    "duration": 82,
    "start_time": "2024-10-23T08:01:47.891Z"
   },
   {
    "duration": 25,
    "start_time": "2024-10-23T08:01:47.976Z"
   },
   {
    "duration": 92,
    "start_time": "2024-10-23T08:01:48.002Z"
   },
   {
    "duration": 887,
    "start_time": "2024-10-23T08:01:48.095Z"
   },
   {
    "duration": 13,
    "start_time": "2024-10-23T08:01:48.983Z"
   },
   {
    "duration": 50,
    "start_time": "2024-10-23T08:01:48.998Z"
   },
   {
    "duration": 30,
    "start_time": "2024-10-23T08:01:49.049Z"
   },
   {
    "duration": 25,
    "start_time": "2024-10-23T08:01:49.081Z"
   },
   {
    "duration": 32,
    "start_time": "2024-10-23T08:01:49.107Z"
   },
   {
    "duration": 73,
    "start_time": "2024-10-23T08:01:49.140Z"
   },
   {
    "duration": 3,
    "start_time": "2024-10-23T08:01:49.215Z"
   },
   {
    "duration": 14,
    "start_time": "2024-10-23T08:01:49.220Z"
   },
   {
    "duration": 10,
    "start_time": "2024-10-23T08:01:49.235Z"
   },
   {
    "duration": 15,
    "start_time": "2024-10-23T08:01:49.247Z"
   },
   {
    "duration": 5,
    "start_time": "2024-10-23T08:01:49.263Z"
   },
   {
    "duration": 2,
    "start_time": "2024-10-23T08:01:52.439Z"
   },
   {
    "duration": 974,
    "start_time": "2024-10-23T08:02:31.988Z"
   },
   {
    "duration": 192,
    "start_time": "2024-10-23T08:02:32.964Z"
   },
   {
    "duration": 2,
    "start_time": "2024-10-23T08:02:33.160Z"
   },
   {
    "duration": 736,
    "start_time": "2024-10-23T08:02:33.163Z"
   },
   {
    "duration": 18,
    "start_time": "2024-10-23T08:02:33.900Z"
   },
   {
    "duration": 33,
    "start_time": "2024-10-23T08:02:33.919Z"
   },
   {
    "duration": 147,
    "start_time": "2024-10-23T08:02:33.953Z"
   },
   {
    "duration": 102,
    "start_time": "2024-10-23T08:02:34.101Z"
   },
   {
    "duration": 29,
    "start_time": "2024-10-23T08:02:34.205Z"
   },
   {
    "duration": 50,
    "start_time": "2024-10-23T08:02:34.236Z"
   },
   {
    "duration": 85,
    "start_time": "2024-10-23T08:02:34.288Z"
   },
   {
    "duration": 876,
    "start_time": "2024-10-23T08:02:34.374Z"
   },
   {
    "duration": 13,
    "start_time": "2024-10-23T08:02:35.257Z"
   },
   {
    "duration": 17,
    "start_time": "2024-10-23T08:02:35.271Z"
   },
   {
    "duration": 65,
    "start_time": "2024-10-23T08:02:35.289Z"
   },
   {
    "duration": 36,
    "start_time": "2024-10-23T08:02:35.355Z"
   },
   {
    "duration": 39,
    "start_time": "2024-10-23T08:02:35.392Z"
   },
   {
    "duration": 65,
    "start_time": "2024-10-23T08:02:35.433Z"
   },
   {
    "duration": 3,
    "start_time": "2024-10-23T08:02:35.499Z"
   },
   {
    "duration": 80,
    "start_time": "2024-10-23T08:02:35.504Z"
   },
   {
    "duration": 0,
    "start_time": "2024-10-23T08:02:35.585Z"
   },
   {
    "duration": 0,
    "start_time": "2024-10-23T08:02:35.587Z"
   },
   {
    "duration": 0,
    "start_time": "2024-10-23T08:02:35.588Z"
   },
   {
    "duration": 5,
    "start_time": "2024-10-23T08:02:42.669Z"
   },
   {
    "duration": 8,
    "start_time": "2024-10-23T08:02:44.109Z"
   },
   {
    "duration": 96,
    "start_time": "2024-10-23T08:02:52.933Z"
   },
   {
    "duration": 3,
    "start_time": "2024-10-23T08:03:04.002Z"
   },
   {
    "duration": 2,
    "start_time": "2024-10-23T08:03:13.189Z"
   },
   {
    "duration": 1070,
    "start_time": "2024-10-23T08:03:38.134Z"
   },
   {
    "duration": 177,
    "start_time": "2024-10-23T08:03:39.206Z"
   },
   {
    "duration": 3,
    "start_time": "2024-10-23T08:03:39.384Z"
   },
   {
    "duration": 731,
    "start_time": "2024-10-23T08:03:39.389Z"
   },
   {
    "duration": 20,
    "start_time": "2024-10-23T08:03:40.122Z"
   },
   {
    "duration": 15,
    "start_time": "2024-10-23T08:03:40.144Z"
   },
   {
    "duration": 117,
    "start_time": "2024-10-23T08:03:40.161Z"
   },
   {
    "duration": 110,
    "start_time": "2024-10-23T08:03:40.280Z"
   },
   {
    "duration": 29,
    "start_time": "2024-10-23T08:03:40.391Z"
   },
   {
    "duration": 39,
    "start_time": "2024-10-23T08:03:40.423Z"
   },
   {
    "duration": 94,
    "start_time": "2024-10-23T08:03:40.464Z"
   },
   {
    "duration": 883,
    "start_time": "2024-10-23T08:03:40.559Z"
   },
   {
    "duration": 23,
    "start_time": "2024-10-23T08:03:41.443Z"
   },
   {
    "duration": 2,
    "start_time": "2024-10-23T08:03:41.468Z"
   },
   {
    "duration": 28,
    "start_time": "2024-10-23T08:03:41.472Z"
   },
   {
    "duration": 25,
    "start_time": "2024-10-23T08:03:41.501Z"
   },
   {
    "duration": 52,
    "start_time": "2024-10-23T08:03:41.528Z"
   },
   {
    "duration": 59,
    "start_time": "2024-10-23T08:03:41.581Z"
   },
   {
    "duration": 16,
    "start_time": "2024-10-23T08:03:41.641Z"
   },
   {
    "duration": 14,
    "start_time": "2024-10-23T08:03:41.659Z"
   },
   {
    "duration": 8,
    "start_time": "2024-10-23T08:03:41.676Z"
   },
   {
    "duration": 17,
    "start_time": "2024-10-23T08:03:41.686Z"
   },
   {
    "duration": 8,
    "start_time": "2024-10-23T08:03:41.704Z"
   },
   {
    "duration": 13,
    "start_time": "2024-10-23T08:04:12.729Z"
   },
   {
    "duration": 11,
    "start_time": "2024-10-23T08:09:16.361Z"
   },
   {
    "duration": 10,
    "start_time": "2024-10-23T08:09:28.025Z"
   },
   {
    "duration": 984,
    "start_time": "2024-10-23T08:12:46.291Z"
   },
   {
    "duration": 174,
    "start_time": "2024-10-23T08:12:47.277Z"
   },
   {
    "duration": 6,
    "start_time": "2024-10-23T08:12:47.452Z"
   },
   {
    "duration": 690,
    "start_time": "2024-10-23T08:12:47.459Z"
   },
   {
    "duration": 23,
    "start_time": "2024-10-23T08:12:48.150Z"
   },
   {
    "duration": 9,
    "start_time": "2024-10-23T08:12:48.175Z"
   },
   {
    "duration": 142,
    "start_time": "2024-10-23T08:12:48.186Z"
   },
   {
    "duration": 123,
    "start_time": "2024-10-23T08:12:48.330Z"
   },
   {
    "duration": 30,
    "start_time": "2024-10-23T08:12:48.454Z"
   },
   {
    "duration": 25,
    "start_time": "2024-10-23T08:12:48.487Z"
   },
   {
    "duration": 101,
    "start_time": "2024-10-23T08:12:48.514Z"
   },
   {
    "duration": 813,
    "start_time": "2024-10-23T08:12:48.616Z"
   },
   {
    "duration": 14,
    "start_time": "2024-10-23T08:12:49.430Z"
   },
   {
    "duration": 13,
    "start_time": "2024-10-23T08:12:49.445Z"
   },
   {
    "duration": 39,
    "start_time": "2024-10-23T08:12:49.460Z"
   },
   {
    "duration": 32,
    "start_time": "2024-10-23T08:12:49.500Z"
   },
   {
    "duration": 48,
    "start_time": "2024-10-23T08:12:49.533Z"
   },
   {
    "duration": 57,
    "start_time": "2024-10-23T08:12:49.583Z"
   },
   {
    "duration": 117,
    "start_time": "2024-10-23T08:12:49.641Z"
   },
   {
    "duration": 0,
    "start_time": "2024-10-23T08:12:49.760Z"
   },
   {
    "duration": 0,
    "start_time": "2024-10-23T08:12:49.761Z"
   },
   {
    "duration": 0,
    "start_time": "2024-10-23T08:12:49.762Z"
   },
   {
    "duration": 0,
    "start_time": "2024-10-23T08:12:49.763Z"
   },
   {
    "duration": 9,
    "start_time": "2024-10-23T08:13:12.583Z"
   },
   {
    "duration": 8,
    "start_time": "2024-10-23T08:14:01.381Z"
   },
   {
    "duration": 13,
    "start_time": "2024-10-23T08:14:07.781Z"
   },
   {
    "duration": 1008,
    "start_time": "2024-10-23T08:18:32.953Z"
   },
   {
    "duration": 180,
    "start_time": "2024-10-23T08:18:33.963Z"
   },
   {
    "duration": 2,
    "start_time": "2024-10-23T08:18:34.144Z"
   },
   {
    "duration": 771,
    "start_time": "2024-10-23T08:18:34.148Z"
   },
   {
    "duration": 18,
    "start_time": "2024-10-23T08:18:34.920Z"
   },
   {
    "duration": 5,
    "start_time": "2024-10-23T08:18:34.940Z"
   },
   {
    "duration": 117,
    "start_time": "2024-10-23T08:18:34.946Z"
   },
   {
    "duration": 102,
    "start_time": "2024-10-23T08:18:35.064Z"
   },
   {
    "duration": 28,
    "start_time": "2024-10-23T08:18:35.168Z"
   },
   {
    "duration": 25,
    "start_time": "2024-10-23T08:18:35.199Z"
   },
   {
    "duration": 99,
    "start_time": "2024-10-23T08:18:35.225Z"
   },
   {
    "duration": 805,
    "start_time": "2024-10-23T08:18:35.325Z"
   },
   {
    "duration": 13,
    "start_time": "2024-10-23T08:18:36.131Z"
   },
   {
    "duration": 58,
    "start_time": "2024-10-23T08:18:36.146Z"
   },
   {
    "duration": 26,
    "start_time": "2024-10-23T08:18:36.206Z"
   },
   {
    "duration": 29,
    "start_time": "2024-10-23T08:18:36.234Z"
   },
   {
    "duration": 46,
    "start_time": "2024-10-23T08:18:36.264Z"
   },
   {
    "duration": 67,
    "start_time": "2024-10-23T08:18:36.311Z"
   },
   {
    "duration": 7,
    "start_time": "2024-10-23T08:18:36.379Z"
   },
   {
    "duration": 32,
    "start_time": "2024-10-23T08:18:36.387Z"
   },
   {
    "duration": 123,
    "start_time": "2024-10-23T08:18:36.420Z"
   },
   {
    "duration": 0,
    "start_time": "2024-10-23T08:18:36.545Z"
   },
   {
    "duration": 0,
    "start_time": "2024-10-23T08:18:36.546Z"
   },
   {
    "duration": 2,
    "start_time": "2024-10-23T08:35:08.469Z"
   },
   {
    "duration": 23,
    "start_time": "2024-10-23T08:36:12.038Z"
   },
   {
    "duration": 11,
    "start_time": "2024-10-23T09:13:04.081Z"
   },
   {
    "duration": 36,
    "start_time": "2024-10-23T09:22:16.069Z"
   },
   {
    "duration": 7,
    "start_time": "2024-10-23T10:17:39.150Z"
   },
   {
    "duration": 8,
    "start_time": "2024-10-23T10:19:17.179Z"
   },
   {
    "duration": 3,
    "start_time": "2024-10-23T10:20:32.111Z"
   },
   {
    "duration": 6,
    "start_time": "2024-10-23T10:21:01.707Z"
   },
   {
    "duration": 965,
    "start_time": "2024-10-23T10:21:09.610Z"
   },
   {
    "duration": 177,
    "start_time": "2024-10-23T10:21:10.576Z"
   },
   {
    "duration": 4,
    "start_time": "2024-10-23T10:21:10.754Z"
   },
   {
    "duration": 720,
    "start_time": "2024-10-23T10:21:10.760Z"
   },
   {
    "duration": 19,
    "start_time": "2024-10-23T10:21:11.481Z"
   },
   {
    "duration": 62,
    "start_time": "2024-10-23T10:21:11.501Z"
   },
   {
    "duration": 108,
    "start_time": "2024-10-23T10:21:11.565Z"
   },
   {
    "duration": 102,
    "start_time": "2024-10-23T10:21:11.675Z"
   },
   {
    "duration": 29,
    "start_time": "2024-10-23T10:21:11.779Z"
   },
   {
    "duration": 25,
    "start_time": "2024-10-23T10:21:11.811Z"
   },
   {
    "duration": 102,
    "start_time": "2024-10-23T10:21:11.837Z"
   },
   {
    "duration": 838,
    "start_time": "2024-10-23T10:21:11.941Z"
   },
   {
    "duration": 14,
    "start_time": "2024-10-23T10:21:12.781Z"
   },
   {
    "duration": 3,
    "start_time": "2024-10-23T10:21:12.796Z"
   },
   {
    "duration": 29,
    "start_time": "2024-10-23T10:21:12.800Z"
   },
   {
    "duration": 43,
    "start_time": "2024-10-23T10:21:12.830Z"
   },
   {
    "duration": 29,
    "start_time": "2024-10-23T10:21:12.874Z"
   },
   {
    "duration": 71,
    "start_time": "2024-10-23T10:21:12.905Z"
   },
   {
    "duration": 7,
    "start_time": "2024-10-23T10:21:12.978Z"
   },
   {
    "duration": 24,
    "start_time": "2024-10-23T10:21:12.986Z"
   },
   {
    "duration": 47,
    "start_time": "2024-10-23T10:21:13.011Z"
   },
   {
    "duration": 12,
    "start_time": "2024-10-23T10:21:13.060Z"
   },
   {
    "duration": 19,
    "start_time": "2024-10-23T10:21:13.073Z"
   },
   {
    "duration": 7,
    "start_time": "2024-10-23T10:21:13.093Z"
   },
   {
    "duration": 96,
    "start_time": "2024-10-23T10:21:13.101Z"
   },
   {
    "duration": 1045,
    "start_time": "2024-10-23T10:21:43.347Z"
   },
   {
    "duration": 175,
    "start_time": "2024-10-23T10:21:44.393Z"
   },
   {
    "duration": 3,
    "start_time": "2024-10-23T10:21:44.569Z"
   },
   {
    "duration": 831,
    "start_time": "2024-10-23T10:21:44.573Z"
   },
   {
    "duration": 18,
    "start_time": "2024-10-23T10:21:45.406Z"
   },
   {
    "duration": 132,
    "start_time": "2024-10-23T10:21:45.425Z"
   },
   {
    "duration": 116,
    "start_time": "2024-10-23T10:21:45.558Z"
   },
   {
    "duration": 99,
    "start_time": "2024-10-23T10:21:45.676Z"
   },
   {
    "duration": 28,
    "start_time": "2024-10-23T10:21:45.777Z"
   },
   {
    "duration": 24,
    "start_time": "2024-10-23T10:21:45.806Z"
   },
   {
    "duration": 98,
    "start_time": "2024-10-23T10:21:45.831Z"
   },
   {
    "duration": 841,
    "start_time": "2024-10-23T10:21:45.931Z"
   },
   {
    "duration": 13,
    "start_time": "2024-10-23T10:21:46.773Z"
   },
   {
    "duration": 10,
    "start_time": "2024-10-23T10:21:46.788Z"
   },
   {
    "duration": 54,
    "start_time": "2024-10-23T10:21:46.799Z"
   },
   {
    "duration": 24,
    "start_time": "2024-10-23T10:21:46.854Z"
   },
   {
    "duration": 28,
    "start_time": "2024-10-23T10:21:46.880Z"
   },
   {
    "duration": 75,
    "start_time": "2024-10-23T10:21:46.909Z"
   },
   {
    "duration": 8,
    "start_time": "2024-10-23T10:21:46.985Z"
   },
   {
    "duration": 27,
    "start_time": "2024-10-23T10:21:46.994Z"
   },
   {
    "duration": 65,
    "start_time": "2024-10-23T10:21:47.022Z"
   },
   {
    "duration": 11,
    "start_time": "2024-10-23T10:21:47.088Z"
   },
   {
    "duration": 40,
    "start_time": "2024-10-23T10:21:47.101Z"
   },
   {
    "duration": 17,
    "start_time": "2024-10-23T10:21:47.142Z"
   },
   {
    "duration": 94,
    "start_time": "2024-10-23T10:21:47.160Z"
   },
   {
    "duration": 57,
    "start_time": "2024-10-23T10:22:31.175Z"
   },
   {
    "duration": 64,
    "start_time": "2024-10-23T10:24:47.019Z"
   },
   {
    "duration": 95,
    "start_time": "2024-10-23T10:24:52.043Z"
   },
   {
    "duration": 11,
    "start_time": "2024-10-23T10:24:56.431Z"
   },
   {
    "duration": 9,
    "start_time": "2024-10-23T10:25:00.666Z"
   },
   {
    "duration": 3,
    "start_time": "2024-10-23T10:25:09.467Z"
   },
   {
    "duration": 10,
    "start_time": "2024-10-23T10:25:14.138Z"
   },
   {
    "duration": 975,
    "start_time": "2024-10-23T10:25:19.106Z"
   },
   {
    "duration": 177,
    "start_time": "2024-10-23T10:25:20.083Z"
   },
   {
    "duration": 3,
    "start_time": "2024-10-23T10:25:20.261Z"
   },
   {
    "duration": 739,
    "start_time": "2024-10-23T10:25:20.267Z"
   },
   {
    "duration": 21,
    "start_time": "2024-10-23T10:25:21.007Z"
   },
   {
    "duration": 14,
    "start_time": "2024-10-23T10:25:21.030Z"
   },
   {
    "duration": 114,
    "start_time": "2024-10-23T10:25:21.046Z"
   },
   {
    "duration": 109,
    "start_time": "2024-10-23T10:25:21.162Z"
   },
   {
    "duration": 29,
    "start_time": "2024-10-23T10:25:21.273Z"
   },
   {
    "duration": 24,
    "start_time": "2024-10-23T10:25:21.305Z"
   },
   {
    "duration": 96,
    "start_time": "2024-10-23T10:25:21.330Z"
   },
   {
    "duration": 814,
    "start_time": "2024-10-23T10:25:21.427Z"
   },
   {
    "duration": 19,
    "start_time": "2024-10-23T10:25:22.243Z"
   },
   {
    "duration": 2,
    "start_time": "2024-10-23T10:25:22.264Z"
   },
   {
    "duration": 30,
    "start_time": "2024-10-23T10:25:22.267Z"
   },
   {
    "duration": 29,
    "start_time": "2024-10-23T10:25:22.298Z"
   },
   {
    "duration": 41,
    "start_time": "2024-10-23T10:25:22.329Z"
   },
   {
    "duration": 57,
    "start_time": "2024-10-23T10:25:22.372Z"
   },
   {
    "duration": 7,
    "start_time": "2024-10-23T10:25:22.430Z"
   },
   {
    "duration": 105,
    "start_time": "2024-10-23T10:25:22.438Z"
   },
   {
    "duration": 130,
    "start_time": "2024-10-23T10:25:22.544Z"
   },
   {
    "duration": 10,
    "start_time": "2024-10-23T10:25:22.676Z"
   },
   {
    "duration": 12,
    "start_time": "2024-10-23T10:25:22.687Z"
   },
   {
    "duration": 8,
    "start_time": "2024-10-23T10:25:22.700Z"
   },
   {
    "duration": 93,
    "start_time": "2024-10-23T10:25:22.710Z"
   },
   {
    "duration": 8,
    "start_time": "2024-10-23T10:26:34.003Z"
   },
   {
    "duration": 69,
    "start_time": "2024-10-23T10:26:46.271Z"
   },
   {
    "duration": 8,
    "start_time": "2024-10-23T10:26:50.235Z"
   },
   {
    "duration": 100,
    "start_time": "2024-10-23T10:28:24.858Z"
   },
   {
    "duration": 7,
    "start_time": "2024-10-23T10:32:55.291Z"
   },
   {
    "duration": 1048,
    "start_time": "2024-10-23T10:33:20.831Z"
   },
   {
    "duration": 172,
    "start_time": "2024-10-23T10:33:21.881Z"
   },
   {
    "duration": 2,
    "start_time": "2024-10-23T10:33:22.054Z"
   },
   {
    "duration": 689,
    "start_time": "2024-10-23T10:33:22.058Z"
   },
   {
    "duration": 20,
    "start_time": "2024-10-23T10:33:22.749Z"
   },
   {
    "duration": 5,
    "start_time": "2024-10-23T10:33:22.770Z"
   },
   {
    "duration": 113,
    "start_time": "2024-10-23T10:33:22.776Z"
   },
   {
    "duration": 103,
    "start_time": "2024-10-23T10:33:22.890Z"
   },
   {
    "duration": 28,
    "start_time": "2024-10-23T10:33:22.994Z"
   },
   {
    "duration": 34,
    "start_time": "2024-10-23T10:33:23.024Z"
   },
   {
    "duration": 82,
    "start_time": "2024-10-23T10:33:23.060Z"
   },
   {
    "duration": 820,
    "start_time": "2024-10-23T10:33:23.143Z"
   },
   {
    "duration": 14,
    "start_time": "2024-10-23T10:33:23.964Z"
   },
   {
    "duration": 3,
    "start_time": "2024-10-23T10:33:23.979Z"
   },
   {
    "duration": 28,
    "start_time": "2024-10-23T10:33:23.983Z"
   },
   {
    "duration": 24,
    "start_time": "2024-10-23T10:33:24.013Z"
   },
   {
    "duration": 28,
    "start_time": "2024-10-23T10:33:24.057Z"
   },
   {
    "duration": 56,
    "start_time": "2024-10-23T10:33:24.086Z"
   },
   {
    "duration": 7,
    "start_time": "2024-10-23T10:33:24.157Z"
   },
   {
    "duration": 20,
    "start_time": "2024-10-23T10:33:24.165Z"
   },
   {
    "duration": 58,
    "start_time": "2024-10-23T10:33:24.186Z"
   },
   {
    "duration": 11,
    "start_time": "2024-10-23T10:33:24.246Z"
   },
   {
    "duration": 16,
    "start_time": "2024-10-23T10:33:24.258Z"
   },
   {
    "duration": 46,
    "start_time": "2024-10-23T10:33:24.275Z"
   },
   {
    "duration": 0,
    "start_time": "2024-10-23T10:33:24.322Z"
   },
   {
    "duration": 387,
    "start_time": "2024-10-23T10:33:32.410Z"
   },
   {
    "duration": 6,
    "start_time": "2024-10-23T10:33:41.574Z"
   },
   {
    "duration": 328,
    "start_time": "2024-10-23T10:35:15.146Z"
   },
   {
    "duration": 52,
    "start_time": "2024-10-23T10:39:39.090Z"
   },
   {
    "duration": 45,
    "start_time": "2024-10-23T10:40:29.839Z"
   },
   {
    "duration": 47,
    "start_time": "2024-10-23T10:40:36.590Z"
   },
   {
    "duration": 47,
    "start_time": "2024-10-23T10:41:59.704Z"
   },
   {
    "duration": 49,
    "start_time": "2024-10-23T10:44:30.776Z"
   },
   {
    "duration": 4,
    "start_time": "2024-10-23T10:49:20.987Z"
   },
   {
    "duration": 9,
    "start_time": "2024-10-23T10:49:27.720Z"
   },
   {
    "duration": 4,
    "start_time": "2024-10-23T10:49:32.723Z"
   },
   {
    "duration": 6,
    "start_time": "2024-10-23T10:52:19.691Z"
   },
   {
    "duration": 6,
    "start_time": "2024-10-23T10:53:32.151Z"
   },
   {
    "duration": 5,
    "start_time": "2024-10-23T12:08:55.149Z"
   },
   {
    "duration": 5,
    "start_time": "2024-10-23T12:09:58.269Z"
   },
   {
    "duration": 11,
    "start_time": "2024-10-23T12:12:34.097Z"
   },
   {
    "duration": 1052,
    "start_time": "2024-10-23T12:13:41.629Z"
   },
   {
    "duration": 167,
    "start_time": "2024-10-23T12:13:42.683Z"
   },
   {
    "duration": 3,
    "start_time": "2024-10-23T12:13:42.857Z"
   },
   {
    "duration": 800,
    "start_time": "2024-10-23T12:13:42.861Z"
   },
   {
    "duration": 19,
    "start_time": "2024-10-23T12:13:43.662Z"
   },
   {
    "duration": 15,
    "start_time": "2024-10-23T12:13:43.682Z"
   },
   {
    "duration": 118,
    "start_time": "2024-10-23T12:13:43.698Z"
   },
   {
    "duration": 96,
    "start_time": "2024-10-23T12:13:43.818Z"
   },
   {
    "duration": 27,
    "start_time": "2024-10-23T12:13:43.915Z"
   },
   {
    "duration": 71,
    "start_time": "2024-10-23T12:13:43.944Z"
   },
   {
    "duration": 82,
    "start_time": "2024-10-23T12:13:44.016Z"
   },
   {
    "duration": 834,
    "start_time": "2024-10-23T12:13:44.099Z"
   },
   {
    "duration": 32,
    "start_time": "2024-10-23T12:13:44.934Z"
   },
   {
    "duration": 29,
    "start_time": "2024-10-23T12:13:44.967Z"
   },
   {
    "duration": 86,
    "start_time": "2024-10-23T12:13:44.997Z"
   },
   {
    "duration": 37,
    "start_time": "2024-10-23T12:13:45.084Z"
   },
   {
    "duration": 53,
    "start_time": "2024-10-23T12:13:45.122Z"
   },
   {
    "duration": 52,
    "start_time": "2024-10-23T12:13:45.177Z"
   },
   {
    "duration": 7,
    "start_time": "2024-10-23T12:13:45.231Z"
   },
   {
    "duration": 36,
    "start_time": "2024-10-23T12:13:45.240Z"
   },
   {
    "duration": 56,
    "start_time": "2024-10-23T12:13:45.277Z"
   },
   {
    "duration": 44,
    "start_time": "2024-10-23T12:13:45.334Z"
   },
   {
    "duration": 6,
    "start_time": "2024-10-23T12:13:45.380Z"
   },
   {
    "duration": 14,
    "start_time": "2024-10-23T12:13:45.387Z"
   },
   {
    "duration": 29,
    "start_time": "2024-10-23T12:13:45.402Z"
   },
   {
    "duration": 121,
    "start_time": "2024-10-23T12:13:45.432Z"
   },
   {
    "duration": 340,
    "start_time": "2024-10-23T12:16:02.924Z"
   },
   {
    "duration": 53,
    "start_time": "2024-10-23T12:16:17.454Z"
   },
   {
    "duration": 1047,
    "start_time": "2024-10-23T12:16:50.534Z"
   },
   {
    "duration": 174,
    "start_time": "2024-10-23T12:16:51.582Z"
   },
   {
    "duration": 3,
    "start_time": "2024-10-23T12:16:51.757Z"
   },
   {
    "duration": 698,
    "start_time": "2024-10-23T12:16:51.761Z"
   },
   {
    "duration": 20,
    "start_time": "2024-10-23T12:16:52.460Z"
   },
   {
    "duration": 6,
    "start_time": "2024-10-23T12:16:52.482Z"
   },
   {
    "duration": 123,
    "start_time": "2024-10-23T12:16:52.490Z"
   },
   {
    "duration": 106,
    "start_time": "2024-10-23T12:16:52.615Z"
   },
   {
    "duration": 40,
    "start_time": "2024-10-23T12:16:52.722Z"
   },
   {
    "duration": 24,
    "start_time": "2024-10-23T12:16:52.766Z"
   },
   {
    "duration": 95,
    "start_time": "2024-10-23T12:16:52.792Z"
   },
   {
    "duration": 827,
    "start_time": "2024-10-23T12:16:52.888Z"
   },
   {
    "duration": 25,
    "start_time": "2024-10-23T12:16:53.716Z"
   },
   {
    "duration": 3,
    "start_time": "2024-10-23T12:16:53.743Z"
   },
   {
    "duration": 25,
    "start_time": "2024-10-23T12:16:53.757Z"
   },
   {
    "duration": 30,
    "start_time": "2024-10-23T12:16:53.784Z"
   },
   {
    "duration": 28,
    "start_time": "2024-10-23T12:16:53.815Z"
   },
   {
    "duration": 123,
    "start_time": "2024-10-23T12:16:53.845Z"
   },
   {
    "duration": 60,
    "start_time": "2024-10-23T12:16:53.969Z"
   },
   {
    "duration": 13,
    "start_time": "2024-10-23T12:16:54.030Z"
   },
   {
    "duration": 33,
    "start_time": "2024-10-23T12:16:54.044Z"
   },
   {
    "duration": 43,
    "start_time": "2024-10-23T12:16:54.079Z"
   },
   {
    "duration": 7,
    "start_time": "2024-10-23T12:16:54.123Z"
   },
   {
    "duration": 18,
    "start_time": "2024-10-23T12:16:54.131Z"
   },
   {
    "duration": 15,
    "start_time": "2024-10-23T12:16:54.150Z"
   },
   {
    "duration": 366,
    "start_time": "2024-10-23T12:16:54.166Z"
   },
   {
    "duration": 43,
    "start_time": "2024-10-23T12:16:59.835Z"
   },
   {
    "duration": 45,
    "start_time": "2024-10-23T12:17:35.754Z"
   },
   {
    "duration": 44,
    "start_time": "2024-10-23T12:18:27.981Z"
   },
   {
    "duration": 45,
    "start_time": "2024-10-23T12:18:41.885Z"
   },
   {
    "duration": 44,
    "start_time": "2024-10-23T12:18:45.546Z"
   },
   {
    "duration": 1038,
    "start_time": "2024-10-23T12:19:31.936Z"
   },
   {
    "duration": 174,
    "start_time": "2024-10-23T12:19:32.975Z"
   },
   {
    "duration": 6,
    "start_time": "2024-10-23T12:19:33.151Z"
   },
   {
    "duration": 689,
    "start_time": "2024-10-23T12:19:33.159Z"
   },
   {
    "duration": 19,
    "start_time": "2024-10-23T12:19:33.850Z"
   },
   {
    "duration": 63,
    "start_time": "2024-10-23T12:19:33.870Z"
   },
   {
    "duration": 201,
    "start_time": "2024-10-23T12:19:33.934Z"
   },
   {
    "duration": 107,
    "start_time": "2024-10-23T12:19:34.136Z"
   },
   {
    "duration": 36,
    "start_time": "2024-10-23T12:19:34.245Z"
   },
   {
    "duration": 26,
    "start_time": "2024-10-23T12:19:34.284Z"
   },
   {
    "duration": 95,
    "start_time": "2024-10-23T12:19:34.311Z"
   },
   {
    "duration": 821,
    "start_time": "2024-10-23T12:19:34.408Z"
   },
   {
    "duration": 31,
    "start_time": "2024-10-23T12:19:35.230Z"
   },
   {
    "duration": 3,
    "start_time": "2024-10-23T12:19:35.262Z"
   },
   {
    "duration": 62,
    "start_time": "2024-10-23T12:19:35.267Z"
   },
   {
    "duration": 33,
    "start_time": "2024-10-23T12:19:35.331Z"
   },
   {
    "duration": 34,
    "start_time": "2024-10-23T12:19:35.366Z"
   },
   {
    "duration": 64,
    "start_time": "2024-10-23T12:19:35.402Z"
   },
   {
    "duration": 8,
    "start_time": "2024-10-23T12:19:35.468Z"
   },
   {
    "duration": 46,
    "start_time": "2024-10-23T12:19:35.478Z"
   },
   {
    "duration": 41,
    "start_time": "2024-10-23T12:19:35.525Z"
   },
   {
    "duration": 45,
    "start_time": "2024-10-23T12:19:35.567Z"
   },
   {
    "duration": 6,
    "start_time": "2024-10-23T12:19:35.614Z"
   },
   {
    "duration": 19,
    "start_time": "2024-10-23T12:19:35.621Z"
   },
   {
    "duration": 17,
    "start_time": "2024-10-23T12:19:35.641Z"
   },
   {
    "duration": 45,
    "start_time": "2024-10-23T12:19:35.659Z"
   },
   {
    "duration": 60,
    "start_time": "2024-10-23T12:23:44.250Z"
   },
   {
    "duration": 67,
    "start_time": "2024-10-23T12:24:13.818Z"
   },
   {
    "duration": 67,
    "start_time": "2024-10-23T12:25:19.933Z"
   },
   {
    "duration": 151,
    "start_time": "2024-10-23T12:26:23.097Z"
   },
   {
    "duration": 1033,
    "start_time": "2024-10-23T12:26:33.740Z"
   },
   {
    "duration": 170,
    "start_time": "2024-10-23T12:26:34.775Z"
   },
   {
    "duration": 2,
    "start_time": "2024-10-23T12:26:34.947Z"
   },
   {
    "duration": 736,
    "start_time": "2024-10-23T12:26:34.957Z"
   },
   {
    "duration": 18,
    "start_time": "2024-10-23T12:26:35.695Z"
   },
   {
    "duration": 54,
    "start_time": "2024-10-23T12:26:35.714Z"
   },
   {
    "duration": 132,
    "start_time": "2024-10-23T12:26:35.770Z"
   },
   {
    "duration": 100,
    "start_time": "2024-10-23T12:26:35.903Z"
   },
   {
    "duration": 28,
    "start_time": "2024-10-23T12:26:36.005Z"
   },
   {
    "duration": 38,
    "start_time": "2024-10-23T12:26:36.035Z"
   },
   {
    "duration": 85,
    "start_time": "2024-10-23T12:26:36.074Z"
   },
   {
    "duration": 850,
    "start_time": "2024-10-23T12:26:36.161Z"
   },
   {
    "duration": 25,
    "start_time": "2024-10-23T12:26:37.012Z"
   },
   {
    "duration": 3,
    "start_time": "2024-10-23T12:26:37.038Z"
   },
   {
    "duration": 36,
    "start_time": "2024-10-23T12:26:37.043Z"
   },
   {
    "duration": 24,
    "start_time": "2024-10-23T12:26:37.080Z"
   },
   {
    "duration": 28,
    "start_time": "2024-10-23T12:26:37.106Z"
   },
   {
    "duration": 51,
    "start_time": "2024-10-23T12:26:37.158Z"
   },
   {
    "duration": 7,
    "start_time": "2024-10-23T12:26:37.211Z"
   },
   {
    "duration": 31,
    "start_time": "2024-10-23T12:26:37.219Z"
   },
   {
    "duration": 54,
    "start_time": "2024-10-23T12:26:37.251Z"
   },
   {
    "duration": 43,
    "start_time": "2024-10-23T12:26:37.307Z"
   },
   {
    "duration": 7,
    "start_time": "2024-10-23T12:26:37.351Z"
   },
   {
    "duration": 16,
    "start_time": "2024-10-23T12:26:37.359Z"
   },
   {
    "duration": 28,
    "start_time": "2024-10-23T12:26:37.376Z"
   },
   {
    "duration": 150,
    "start_time": "2024-10-23T12:26:37.406Z"
   },
   {
    "duration": 66,
    "start_time": "2024-10-23T12:27:03.289Z"
   },
   {
    "duration": 66,
    "start_time": "2024-10-23T12:27:12.905Z"
   },
   {
    "duration": 64,
    "start_time": "2024-10-23T12:27:43.177Z"
   },
   {
    "duration": 68,
    "start_time": "2024-10-23T12:28:13.885Z"
   },
   {
    "duration": 67,
    "start_time": "2024-10-23T12:28:35.018Z"
   },
   {
    "duration": 288,
    "start_time": "2024-10-23T12:28:45.738Z"
   },
   {
    "duration": 64,
    "start_time": "2024-10-23T12:29:04.473Z"
   },
   {
    "duration": 66,
    "start_time": "2024-10-23T12:29:13.914Z"
   },
   {
    "duration": 68,
    "start_time": "2024-10-23T12:29:55.865Z"
   },
   {
    "duration": 69,
    "start_time": "2024-10-23T12:33:35.121Z"
   },
   {
    "duration": 66,
    "start_time": "2024-10-23T12:34:53.401Z"
   },
   {
    "duration": 14,
    "start_time": "2024-10-23T12:37:35.400Z"
   },
   {
    "duration": 10,
    "start_time": "2024-10-23T12:38:34.525Z"
   },
   {
    "duration": 83,
    "start_time": "2024-10-23T12:41:38.378Z"
   },
   {
    "duration": 15,
    "start_time": "2024-10-23T12:41:53.833Z"
   },
   {
    "duration": 15,
    "start_time": "2024-10-23T12:42:08.328Z"
   },
   {
    "duration": 15,
    "start_time": "2024-10-23T12:42:46.941Z"
   },
   {
    "duration": 30,
    "start_time": "2024-10-23T12:43:17.514Z"
   },
   {
    "duration": 31,
    "start_time": "2024-10-23T12:45:53.975Z"
   },
   {
    "duration": 24,
    "start_time": "2024-10-23T12:46:35.207Z"
   },
   {
    "duration": 1018,
    "start_time": "2024-10-23T13:14:47.249Z"
   },
   {
    "duration": 201,
    "start_time": "2024-10-23T13:14:48.268Z"
   },
   {
    "duration": 3,
    "start_time": "2024-10-23T13:14:48.470Z"
   },
   {
    "duration": 703,
    "start_time": "2024-10-23T13:14:48.474Z"
   },
   {
    "duration": 18,
    "start_time": "2024-10-23T13:14:49.179Z"
   },
   {
    "duration": 4,
    "start_time": "2024-10-23T13:14:49.199Z"
   },
   {
    "duration": 131,
    "start_time": "2024-10-23T13:14:49.204Z"
   },
   {
    "duration": 102,
    "start_time": "2024-10-23T13:14:49.337Z"
   },
   {
    "duration": 34,
    "start_time": "2024-10-23T13:14:49.440Z"
   },
   {
    "duration": 23,
    "start_time": "2024-10-23T13:14:49.477Z"
   },
   {
    "duration": 106,
    "start_time": "2024-10-23T13:14:49.501Z"
   },
   {
    "duration": 824,
    "start_time": "2024-10-23T13:14:49.608Z"
   },
   {
    "duration": 32,
    "start_time": "2024-10-23T13:14:50.434Z"
   },
   {
    "duration": 3,
    "start_time": "2024-10-23T13:14:50.467Z"
   },
   {
    "duration": 53,
    "start_time": "2024-10-23T13:14:50.472Z"
   },
   {
    "duration": 25,
    "start_time": "2024-10-23T13:14:50.526Z"
   },
   {
    "duration": 28,
    "start_time": "2024-10-23T13:14:50.553Z"
   },
   {
    "duration": 51,
    "start_time": "2024-10-23T13:14:50.583Z"
   },
   {
    "duration": 23,
    "start_time": "2024-10-23T13:14:50.635Z"
   },
   {
    "duration": 28,
    "start_time": "2024-10-23T13:14:50.659Z"
   },
   {
    "duration": 69,
    "start_time": "2024-10-23T13:14:50.688Z"
   },
   {
    "duration": 44,
    "start_time": "2024-10-23T13:14:50.759Z"
   },
   {
    "duration": 8,
    "start_time": "2024-10-23T13:14:50.804Z"
   },
   {
    "duration": 40,
    "start_time": "2024-10-23T13:14:50.814Z"
   },
   {
    "duration": 87,
    "start_time": "2024-10-23T13:14:50.856Z"
   },
   {
    "duration": 30,
    "start_time": "2024-10-23T13:14:50.945Z"
   },
   {
    "duration": 1226,
    "start_time": "2024-10-23T15:26:12.226Z"
   },
   {
    "duration": 677,
    "start_time": "2024-10-23T15:26:13.454Z"
   },
   {
    "duration": 2,
    "start_time": "2024-10-23T15:26:14.133Z"
   },
   {
    "duration": 760,
    "start_time": "2024-10-23T15:26:14.137Z"
   },
   {
    "duration": 19,
    "start_time": "2024-10-23T15:26:14.899Z"
   },
   {
    "duration": 37,
    "start_time": "2024-10-23T15:26:14.919Z"
   },
   {
    "duration": 111,
    "start_time": "2024-10-23T15:26:14.958Z"
   },
   {
    "duration": 116,
    "start_time": "2024-10-23T15:26:15.070Z"
   },
   {
    "duration": 179,
    "start_time": "2024-10-23T15:26:15.188Z"
   },
   {
    "duration": 113,
    "start_time": "2024-10-23T15:26:15.370Z"
   },
   {
    "duration": 122,
    "start_time": "2024-10-23T15:26:15.485Z"
   },
   {
    "duration": 862,
    "start_time": "2024-10-23T15:26:15.609Z"
   },
   {
    "duration": 26,
    "start_time": "2024-10-23T15:26:16.472Z"
   },
   {
    "duration": 8,
    "start_time": "2024-10-23T15:26:16.500Z"
   },
   {
    "duration": 45,
    "start_time": "2024-10-23T15:26:16.509Z"
   },
   {
    "duration": 26,
    "start_time": "2024-10-23T15:26:16.555Z"
   },
   {
    "duration": 31,
    "start_time": "2024-10-23T15:26:16.582Z"
   },
   {
    "duration": 58,
    "start_time": "2024-10-23T15:26:16.615Z"
   },
   {
    "duration": 53,
    "start_time": "2024-10-23T15:26:16.674Z"
   },
   {
    "duration": 43,
    "start_time": "2024-10-23T15:26:16.729Z"
   },
   {
    "duration": 56,
    "start_time": "2024-10-23T15:26:16.774Z"
   },
   {
    "duration": 42,
    "start_time": "2024-10-23T15:26:16.831Z"
   },
   {
    "duration": 70,
    "start_time": "2024-10-23T15:26:16.875Z"
   },
   {
    "duration": 30,
    "start_time": "2024-10-23T15:26:16.947Z"
   },
   {
    "duration": 71,
    "start_time": "2024-10-23T15:26:16.979Z"
   },
   {
    "duration": 32,
    "start_time": "2024-10-23T15:26:17.052Z"
   },
   {
    "duration": 55,
    "start_time": "2024-10-24T08:51:19.283Z"
   },
   {
    "duration": 1368,
    "start_time": "2024-10-24T08:51:23.081Z"
   },
   {
    "duration": 966,
    "start_time": "2024-10-24T08:51:24.454Z"
   },
   {
    "duration": 3,
    "start_time": "2024-10-24T08:51:25.422Z"
   },
   {
    "duration": 778,
    "start_time": "2024-10-24T08:51:25.427Z"
   },
   {
    "duration": 21,
    "start_time": "2024-10-24T08:51:26.207Z"
   },
   {
    "duration": 23,
    "start_time": "2024-10-24T08:51:26.230Z"
   },
   {
    "duration": 124,
    "start_time": "2024-10-24T08:51:26.254Z"
   },
   {
    "duration": 118,
    "start_time": "2024-10-24T08:51:26.379Z"
   },
   {
    "duration": 32,
    "start_time": "2024-10-24T08:51:26.499Z"
   },
   {
    "duration": 48,
    "start_time": "2024-10-24T08:51:26.532Z"
   },
   {
    "duration": 34,
    "start_time": "2024-10-24T08:51:26.581Z"
   },
   {
    "duration": 121,
    "start_time": "2024-10-24T08:51:26.617Z"
   },
   {
    "duration": 1056,
    "start_time": "2024-10-24T08:51:26.739Z"
   },
   {
    "duration": 75,
    "start_time": "2024-10-24T08:51:27.796Z"
   },
   {
    "duration": 4,
    "start_time": "2024-10-24T08:51:27.872Z"
   },
   {
    "duration": 79,
    "start_time": "2024-10-24T08:51:27.877Z"
   },
   {
    "duration": 32,
    "start_time": "2024-10-24T08:51:27.958Z"
   },
   {
    "duration": 37,
    "start_time": "2024-10-24T08:51:27.992Z"
   },
   {
    "duration": 81,
    "start_time": "2024-10-24T08:51:28.031Z"
   },
   {
    "duration": 10,
    "start_time": "2024-10-24T08:51:28.114Z"
   },
   {
    "duration": 37,
    "start_time": "2024-10-24T08:51:28.126Z"
   },
   {
    "duration": 51,
    "start_time": "2024-10-24T08:51:28.165Z"
   },
   {
    "duration": 65,
    "start_time": "2024-10-24T08:51:28.218Z"
   },
   {
    "duration": 8,
    "start_time": "2024-10-24T08:51:28.285Z"
   },
   {
    "duration": 10,
    "start_time": "2024-10-24T08:51:28.295Z"
   },
   {
    "duration": 93,
    "start_time": "2024-10-24T08:51:28.306Z"
   },
   {
    "duration": 37,
    "start_time": "2024-10-24T08:51:28.402Z"
   },
   {
    "duration": 82,
    "start_time": "2024-10-24T08:51:28.452Z"
   },
   {
    "duration": 84,
    "start_time": "2024-10-24T09:40:00.265Z"
   },
   {
    "duration": 110,
    "start_time": "2024-10-24T11:02:10.214Z"
   },
   {
    "duration": 14,
    "start_time": "2024-10-24T11:02:25.263Z"
   },
   {
    "duration": 903,
    "start_time": "2024-10-24T11:02:29.376Z"
   },
   {
    "duration": 887,
    "start_time": "2024-10-24T11:02:38.307Z"
   },
   {
    "duration": 882,
    "start_time": "2024-10-24T11:05:32.111Z"
   },
   {
    "duration": 3,
    "start_time": "2024-10-24T11:05:55.888Z"
   },
   {
    "duration": 4,
    "start_time": "2024-10-24T11:06:00.057Z"
   },
   {
    "duration": 4,
    "start_time": "2024-10-24T11:06:27.424Z"
   },
   {
    "duration": 9,
    "start_time": "2024-10-24T11:08:21.630Z"
   },
   {
    "duration": 6,
    "start_time": "2024-10-24T11:08:55.744Z"
   },
   {
    "duration": 2,
    "start_time": "2024-10-24T11:10:26.224Z"
   },
   {
    "duration": 6,
    "start_time": "2024-10-24T11:10:30.109Z"
   },
   {
    "duration": 7,
    "start_time": "2024-10-24T11:10:35.617Z"
   },
   {
    "duration": 2,
    "start_time": "2024-10-24T11:10:43.248Z"
   },
   {
    "duration": 14,
    "start_time": "2024-10-24T11:10:46.064Z"
   },
   {
    "duration": 3,
    "start_time": "2024-10-24T11:10:46.672Z"
   },
   {
    "duration": 6,
    "start_time": "2024-10-24T11:10:47.220Z"
   },
   {
    "duration": 19,
    "start_time": "2024-10-24T11:16:52.383Z"
   },
   {
    "duration": 16,
    "start_time": "2024-10-24T11:17:11.918Z"
   },
   {
    "duration": 54,
    "start_time": "2024-10-24T11:17:24.977Z"
   },
   {
    "duration": 56,
    "start_time": "2024-10-24T11:17:51.054Z"
   },
   {
    "duration": 36,
    "start_time": "2024-10-24T11:18:35.630Z"
   },
   {
    "duration": 41,
    "start_time": "2024-10-24T11:18:38.797Z"
   },
   {
    "duration": 20,
    "start_time": "2024-10-24T12:20:39.967Z"
   },
   {
    "duration": 1153,
    "start_time": "2024-10-24T12:20:59.600Z"
   },
   {
    "duration": 226,
    "start_time": "2024-10-24T12:21:00.755Z"
   },
   {
    "duration": 3,
    "start_time": "2024-10-24T12:21:00.983Z"
   },
   {
    "duration": 828,
    "start_time": "2024-10-24T12:21:00.988Z"
   },
   {
    "duration": 21,
    "start_time": "2024-10-24T12:21:01.818Z"
   },
   {
    "duration": 33,
    "start_time": "2024-10-24T12:21:01.841Z"
   },
   {
    "duration": 133,
    "start_time": "2024-10-24T12:21:01.876Z"
   },
   {
    "duration": 131,
    "start_time": "2024-10-24T12:21:02.010Z"
   },
   {
    "duration": 33,
    "start_time": "2024-10-24T12:21:02.143Z"
   },
   {
    "duration": 35,
    "start_time": "2024-10-24T12:21:02.179Z"
   },
   {
    "duration": 52,
    "start_time": "2024-10-24T12:21:02.216Z"
   },
   {
    "duration": 121,
    "start_time": "2024-10-24T12:21:02.269Z"
   },
   {
    "duration": 999,
    "start_time": "2024-10-24T12:21:02.392Z"
   },
   {
    "duration": 30,
    "start_time": "2024-10-24T12:21:03.393Z"
   },
   {
    "duration": 3,
    "start_time": "2024-10-24T12:21:03.425Z"
   },
   {
    "duration": 135,
    "start_time": "2024-10-24T12:21:03.430Z"
   },
   {
    "duration": 27,
    "start_time": "2024-10-24T12:21:03.567Z"
   },
   {
    "duration": 32,
    "start_time": "2024-10-24T12:21:03.596Z"
   },
   {
    "duration": 72,
    "start_time": "2024-10-24T12:21:03.630Z"
   },
   {
    "duration": 20,
    "start_time": "2024-10-24T12:21:03.704Z"
   },
   {
    "duration": 34,
    "start_time": "2024-10-24T12:21:03.726Z"
   },
   {
    "duration": 55,
    "start_time": "2024-10-24T12:21:03.762Z"
   },
   {
    "duration": 36,
    "start_time": "2024-10-24T12:21:03.819Z"
   },
   {
    "duration": 118,
    "start_time": "2024-10-24T12:21:03.857Z"
   },
   {
    "duration": 9,
    "start_time": "2024-10-24T12:21:03.977Z"
   },
   {
    "duration": 86,
    "start_time": "2024-10-24T12:21:03.988Z"
   },
   {
    "duration": 99,
    "start_time": "2024-10-24T12:21:04.076Z"
   },
   {
    "duration": 0,
    "start_time": "2024-10-24T12:21:04.177Z"
   },
   {
    "duration": 0,
    "start_time": "2024-10-24T12:21:04.178Z"
   },
   {
    "duration": 0,
    "start_time": "2024-10-24T12:21:04.179Z"
   },
   {
    "duration": 0,
    "start_time": "2024-10-24T12:21:04.181Z"
   },
   {
    "duration": 0,
    "start_time": "2024-10-24T12:21:04.182Z"
   },
   {
    "duration": 0,
    "start_time": "2024-10-24T12:21:04.183Z"
   },
   {
    "duration": 0,
    "start_time": "2024-10-24T12:21:04.184Z"
   },
   {
    "duration": 9,
    "start_time": "2024-10-24T12:21:35.729Z"
   },
   {
    "duration": 7,
    "start_time": "2024-10-24T12:25:48.360Z"
   },
   {
    "duration": 7,
    "start_time": "2024-10-24T12:38:50.934Z"
   },
   {
    "duration": 1159,
    "start_time": "2024-10-24T12:38:56.170Z"
   },
   {
    "duration": 239,
    "start_time": "2024-10-24T12:38:57.331Z"
   },
   {
    "duration": 3,
    "start_time": "2024-10-24T12:38:57.572Z"
   },
   {
    "duration": 845,
    "start_time": "2024-10-24T12:38:57.578Z"
   },
   {
    "duration": 40,
    "start_time": "2024-10-24T12:38:58.425Z"
   },
   {
    "duration": 5,
    "start_time": "2024-10-24T12:38:58.467Z"
   },
   {
    "duration": 131,
    "start_time": "2024-10-24T12:38:58.473Z"
   },
   {
    "duration": 127,
    "start_time": "2024-10-24T12:38:58.605Z"
   },
   {
    "duration": 49,
    "start_time": "2024-10-24T12:38:58.733Z"
   },
   {
    "duration": 35,
    "start_time": "2024-10-24T12:38:58.784Z"
   },
   {
    "duration": 90,
    "start_time": "2024-10-24T12:38:58.820Z"
   },
   {
    "duration": 111,
    "start_time": "2024-10-24T12:38:58.911Z"
   },
   {
    "duration": 1072,
    "start_time": "2024-10-24T12:38:59.023Z"
   },
   {
    "duration": 30,
    "start_time": "2024-10-24T12:39:00.098Z"
   },
   {
    "duration": 39,
    "start_time": "2024-10-24T12:39:00.129Z"
   },
   {
    "duration": 48,
    "start_time": "2024-10-24T12:39:00.170Z"
   },
   {
    "duration": 77,
    "start_time": "2024-10-24T12:39:00.220Z"
   },
   {
    "duration": 73,
    "start_time": "2024-10-24T12:39:00.299Z"
   },
   {
    "duration": 61,
    "start_time": "2024-10-24T12:39:00.374Z"
   },
   {
    "duration": 27,
    "start_time": "2024-10-24T12:39:00.437Z"
   },
   {
    "duration": 13,
    "start_time": "2024-10-24T12:39:00.466Z"
   },
   {
    "duration": 64,
    "start_time": "2024-10-24T12:39:00.481Z"
   },
   {
    "duration": 42,
    "start_time": "2024-10-24T12:39:00.546Z"
   },
   {
    "duration": 83,
    "start_time": "2024-10-24T12:39:00.589Z"
   },
   {
    "duration": 8,
    "start_time": "2024-10-24T12:39:00.673Z"
   },
   {
    "duration": 31,
    "start_time": "2024-10-24T12:39:00.683Z"
   },
   {
    "duration": 15,
    "start_time": "2024-10-24T12:39:00.716Z"
   },
   {
    "duration": 65,
    "start_time": "2024-10-24T12:39:00.735Z"
   },
   {
    "duration": 3,
    "start_time": "2024-10-24T12:39:00.802Z"
   },
   {
    "duration": 80,
    "start_time": "2024-10-24T12:39:00.807Z"
   },
   {
    "duration": 74,
    "start_time": "2024-10-24T12:39:00.889Z"
   },
   {
    "duration": 0,
    "start_time": "2024-10-24T12:39:00.965Z"
   },
   {
    "duration": 15,
    "start_time": "2024-10-24T13:09:13.830Z"
   },
   {
    "duration": 1179,
    "start_time": "2024-10-24T13:09:30.816Z"
   },
   {
    "duration": 239,
    "start_time": "2024-10-24T13:09:31.997Z"
   },
   {
    "duration": 3,
    "start_time": "2024-10-24T13:09:32.238Z"
   },
   {
    "duration": 892,
    "start_time": "2024-10-24T13:09:32.252Z"
   },
   {
    "duration": 26,
    "start_time": "2024-10-24T13:09:33.145Z"
   },
   {
    "duration": 8,
    "start_time": "2024-10-24T13:09:33.173Z"
   },
   {
    "duration": 153,
    "start_time": "2024-10-24T13:09:33.183Z"
   },
   {
    "duration": 125,
    "start_time": "2024-10-24T13:09:33.338Z"
   },
   {
    "duration": 34,
    "start_time": "2024-10-24T13:09:33.465Z"
   },
   {
    "duration": 57,
    "start_time": "2024-10-24T13:09:33.502Z"
   },
   {
    "duration": 37,
    "start_time": "2024-10-24T13:09:33.561Z"
   },
   {
    "duration": 137,
    "start_time": "2024-10-24T13:09:33.600Z"
   },
   {
    "duration": 1122,
    "start_time": "2024-10-24T13:09:33.739Z"
   },
   {
    "duration": 30,
    "start_time": "2024-10-24T13:09:34.863Z"
   },
   {
    "duration": 21,
    "start_time": "2024-10-24T13:09:34.895Z"
   },
   {
    "duration": 43,
    "start_time": "2024-10-24T13:09:34.917Z"
   },
   {
    "duration": 29,
    "start_time": "2024-10-24T13:09:34.962Z"
   },
   {
    "duration": 72,
    "start_time": "2024-10-24T13:09:34.993Z"
   },
   {
    "duration": 65,
    "start_time": "2024-10-24T13:09:35.067Z"
   },
   {
    "duration": 24,
    "start_time": "2024-10-24T13:09:35.134Z"
   },
   {
    "duration": 24,
    "start_time": "2024-10-24T13:09:35.161Z"
   },
   {
    "duration": 70,
    "start_time": "2024-10-24T13:09:35.187Z"
   },
   {
    "duration": 46,
    "start_time": "2024-10-24T13:09:35.259Z"
   },
   {
    "duration": 103,
    "start_time": "2024-10-24T13:09:35.307Z"
   },
   {
    "duration": 8,
    "start_time": "2024-10-24T13:09:35.412Z"
   },
   {
    "duration": 53,
    "start_time": "2024-10-24T13:09:35.421Z"
   },
   {
    "duration": 7,
    "start_time": "2024-10-24T13:09:35.476Z"
   },
   {
    "duration": 68,
    "start_time": "2024-10-24T13:09:35.487Z"
   },
   {
    "duration": 4,
    "start_time": "2024-10-24T13:09:35.557Z"
   },
   {
    "duration": 16,
    "start_time": "2024-10-24T13:09:35.562Z"
   },
   {
    "duration": 50,
    "start_time": "2024-10-24T13:09:35.580Z"
   },
   {
    "duration": 0,
    "start_time": "2024-10-24T13:09:35.632Z"
   },
   {
    "duration": 131,
    "start_time": "2024-10-24T13:35:50.456Z"
   },
   {
    "duration": 30,
    "start_time": "2024-10-24T13:49:13.088Z"
   },
   {
    "duration": 1162,
    "start_time": "2024-10-24T13:49:29.590Z"
   },
   {
    "duration": 236,
    "start_time": "2024-10-24T13:49:30.754Z"
   },
   {
    "duration": 3,
    "start_time": "2024-10-24T13:49:30.992Z"
   },
   {
    "duration": 860,
    "start_time": "2024-10-24T13:49:30.997Z"
   },
   {
    "duration": 22,
    "start_time": "2024-10-24T13:49:31.858Z"
   },
   {
    "duration": 19,
    "start_time": "2024-10-24T13:49:31.882Z"
   },
   {
    "duration": 138,
    "start_time": "2024-10-24T13:49:31.903Z"
   },
   {
    "duration": 132,
    "start_time": "2024-10-24T13:49:32.042Z"
   },
   {
    "duration": 34,
    "start_time": "2024-10-24T13:49:32.176Z"
   },
   {
    "duration": 87,
    "start_time": "2024-10-24T13:49:32.213Z"
   },
   {
    "duration": 56,
    "start_time": "2024-10-24T13:49:32.302Z"
   },
   {
    "duration": 131,
    "start_time": "2024-10-24T13:49:32.359Z"
   },
   {
    "duration": 1035,
    "start_time": "2024-10-24T13:49:32.492Z"
   },
   {
    "duration": 39,
    "start_time": "2024-10-24T13:49:33.529Z"
   },
   {
    "duration": 3,
    "start_time": "2024-10-24T13:49:33.570Z"
   },
   {
    "duration": 104,
    "start_time": "2024-10-24T13:49:33.574Z"
   },
   {
    "duration": 29,
    "start_time": "2024-10-24T13:49:33.680Z"
   },
   {
    "duration": 49,
    "start_time": "2024-10-24T13:49:33.711Z"
   },
   {
    "duration": 63,
    "start_time": "2024-10-24T13:49:33.762Z"
   },
   {
    "duration": 9,
    "start_time": "2024-10-24T13:49:33.827Z"
   },
   {
    "duration": 37,
    "start_time": "2024-10-24T13:49:33.852Z"
   },
   {
    "duration": 102,
    "start_time": "2024-10-24T13:49:33.892Z"
   },
   {
    "duration": 41,
    "start_time": "2024-10-24T13:49:33.997Z"
   },
   {
    "duration": 87,
    "start_time": "2024-10-24T13:49:34.040Z"
   },
   {
    "duration": 8,
    "start_time": "2024-10-24T13:49:34.129Z"
   },
   {
    "duration": 7,
    "start_time": "2024-10-24T13:49:34.152Z"
   },
   {
    "duration": 7,
    "start_time": "2024-10-24T13:49:34.161Z"
   },
   {
    "duration": 64,
    "start_time": "2024-10-24T13:49:34.171Z"
   },
   {
    "duration": 8,
    "start_time": "2024-10-24T13:49:34.237Z"
   },
   {
    "duration": 181,
    "start_time": "2024-10-24T13:49:34.246Z"
   },
   {
    "duration": 0,
    "start_time": "2024-10-24T13:49:34.429Z"
   },
   {
    "duration": 9,
    "start_time": "2024-10-24T13:53:24.807Z"
   },
   {
    "duration": 16,
    "start_time": "2024-10-24T13:53:28.461Z"
   },
   {
    "duration": 3,
    "start_time": "2024-10-24T14:00:52.973Z"
   },
   {
    "duration": 1163,
    "start_time": "2024-10-24T15:14:55.989Z"
   },
   {
    "duration": 234,
    "start_time": "2024-10-24T15:14:57.154Z"
   },
   {
    "duration": 4,
    "start_time": "2024-10-24T15:14:57.390Z"
   },
   {
    "duration": 816,
    "start_time": "2024-10-24T15:14:57.396Z"
   },
   {
    "duration": 21,
    "start_time": "2024-10-24T15:14:58.214Z"
   },
   {
    "duration": 17,
    "start_time": "2024-10-24T15:14:58.237Z"
   },
   {
    "duration": 138,
    "start_time": "2024-10-24T15:14:58.256Z"
   },
   {
    "duration": 119,
    "start_time": "2024-10-24T15:14:58.396Z"
   },
   {
    "duration": 42,
    "start_time": "2024-10-24T15:14:58.517Z"
   },
   {
    "duration": 58,
    "start_time": "2024-10-24T15:14:58.562Z"
   },
   {
    "duration": 36,
    "start_time": "2024-10-24T15:14:58.622Z"
   },
   {
    "duration": 133,
    "start_time": "2024-10-24T15:14:58.660Z"
   },
   {
    "duration": 1023,
    "start_time": "2024-10-24T15:14:58.795Z"
   },
   {
    "duration": 46,
    "start_time": "2024-10-24T15:14:59.821Z"
   },
   {
    "duration": 4,
    "start_time": "2024-10-24T15:14:59.869Z"
   },
   {
    "duration": 53,
    "start_time": "2024-10-24T15:14:59.874Z"
   },
   {
    "duration": 73,
    "start_time": "2024-10-24T15:14:59.929Z"
   },
   {
    "duration": 42,
    "start_time": "2024-10-24T15:15:00.004Z"
   },
   {
    "duration": 90,
    "start_time": "2024-10-24T15:15:00.048Z"
   },
   {
    "duration": 80,
    "start_time": "2024-10-24T15:15:00.140Z"
   },
   {
    "duration": 21,
    "start_time": "2024-10-24T15:15:00.222Z"
   },
   {
    "duration": 206,
    "start_time": "2024-10-24T15:15:00.245Z"
   },
   {
    "duration": 40,
    "start_time": "2024-10-24T15:15:00.453Z"
   },
   {
    "duration": 95,
    "start_time": "2024-10-24T15:15:00.495Z"
   },
   {
    "duration": 8,
    "start_time": "2024-10-24T15:15:00.593Z"
   },
   {
    "duration": 25,
    "start_time": "2024-10-24T15:15:00.603Z"
   },
   {
    "duration": 12,
    "start_time": "2024-10-24T15:15:00.630Z"
   },
   {
    "duration": 82,
    "start_time": "2024-10-24T15:15:00.646Z"
   },
   {
    "duration": 17,
    "start_time": "2024-10-24T15:15:00.729Z"
   },
   {
    "duration": 33,
    "start_time": "2024-10-24T15:15:00.748Z"
   },
   {
    "duration": 30,
    "start_time": "2024-10-24T15:15:00.783Z"
   },
   {
    "duration": 122,
    "start_time": "2024-10-24T15:15:00.815Z"
   },
   {
    "duration": 135,
    "start_time": "2024-10-24T15:15:00.939Z"
   },
   {
    "duration": 4,
    "start_time": "2024-10-24T15:32:40.407Z"
   },
   {
    "duration": 11,
    "start_time": "2024-10-24T16:18:53.409Z"
   },
   {
    "duration": 846,
    "start_time": "2024-10-24T16:19:57.440Z"
   },
   {
    "duration": 13,
    "start_time": "2024-10-24T16:21:23.688Z"
   },
   {
    "duration": 537,
    "start_time": "2024-10-24T16:21:28.808Z"
   },
   {
    "duration": 6,
    "start_time": "2024-10-24T16:30:06.812Z"
   },
   {
    "duration": 5,
    "start_time": "2024-10-24T16:31:56.804Z"
   },
   {
    "duration": 5,
    "start_time": "2024-10-24T16:35:40.036Z"
   },
   {
    "duration": 13,
    "start_time": "2024-10-24T16:37:19.392Z"
   },
   {
    "duration": 5,
    "start_time": "2024-10-24T16:37:26.308Z"
   },
   {
    "duration": 4,
    "start_time": "2024-10-24T16:37:26.964Z"
   },
   {
    "duration": 950,
    "start_time": "2024-10-24T16:40:20.073Z"
   },
   {
    "duration": 6,
    "start_time": "2024-10-24T16:40:41.263Z"
   },
   {
    "duration": 5,
    "start_time": "2024-10-24T16:41:34.608Z"
   },
   {
    "duration": 6,
    "start_time": "2024-10-24T16:42:43.236Z"
   },
   {
    "duration": 5,
    "start_time": "2024-10-24T16:42:49.508Z"
   },
   {
    "duration": 6,
    "start_time": "2024-10-24T16:43:05.576Z"
   },
   {
    "duration": 6,
    "start_time": "2024-10-24T16:43:08.861Z"
   },
   {
    "duration": 41,
    "start_time": "2024-10-24T16:44:08.016Z"
   },
   {
    "duration": 41,
    "start_time": "2024-10-24T16:44:12.960Z"
   },
   {
    "duration": 6,
    "start_time": "2024-10-24T16:44:27.952Z"
   },
   {
    "duration": 1206,
    "start_time": "2024-10-24T16:44:32.129Z"
   },
   {
    "duration": 239,
    "start_time": "2024-10-24T16:44:33.337Z"
   },
   {
    "duration": 3,
    "start_time": "2024-10-24T16:44:33.578Z"
   },
   {
    "duration": 844,
    "start_time": "2024-10-24T16:44:33.583Z"
   },
   {
    "duration": 28,
    "start_time": "2024-10-24T16:44:34.429Z"
   },
   {
    "duration": 5,
    "start_time": "2024-10-24T16:44:34.459Z"
   },
   {
    "duration": 131,
    "start_time": "2024-10-24T16:44:34.465Z"
   },
   {
    "duration": 127,
    "start_time": "2024-10-24T16:44:34.597Z"
   },
   {
    "duration": 38,
    "start_time": "2024-10-24T16:44:34.726Z"
   },
   {
    "duration": 36,
    "start_time": "2024-10-24T16:44:34.767Z"
   },
   {
    "duration": 56,
    "start_time": "2024-10-24T16:44:34.804Z"
   },
   {
    "duration": 145,
    "start_time": "2024-10-24T16:44:34.862Z"
   },
   {
    "duration": 1003,
    "start_time": "2024-10-24T16:44:35.009Z"
   },
   {
    "duration": 39,
    "start_time": "2024-10-24T16:44:36.013Z"
   },
   {
    "duration": 54,
    "start_time": "2024-10-24T16:44:36.055Z"
   },
   {
    "duration": 78,
    "start_time": "2024-10-24T16:44:36.111Z"
   },
   {
    "duration": 46,
    "start_time": "2024-10-24T16:44:36.191Z"
   },
   {
    "duration": 34,
    "start_time": "2024-10-24T16:44:36.239Z"
   },
   {
    "duration": 61,
    "start_time": "2024-10-24T16:44:36.275Z"
   },
   {
    "duration": 34,
    "start_time": "2024-10-24T16:44:36.338Z"
   },
   {
    "duration": 54,
    "start_time": "2024-10-24T16:44:36.374Z"
   },
   {
    "duration": 45,
    "start_time": "2024-10-24T16:44:36.430Z"
   },
   {
    "duration": 39,
    "start_time": "2024-10-24T16:44:36.477Z"
   },
   {
    "duration": 162,
    "start_time": "2024-10-24T16:44:36.518Z"
   },
   {
    "duration": 7,
    "start_time": "2024-10-24T16:44:36.682Z"
   },
   {
    "duration": 35,
    "start_time": "2024-10-24T16:44:36.691Z"
   },
   {
    "duration": 14,
    "start_time": "2024-10-24T16:44:36.728Z"
   },
   {
    "duration": 38,
    "start_time": "2024-10-24T16:44:36.745Z"
   },
   {
    "duration": 3,
    "start_time": "2024-10-24T16:44:36.784Z"
   },
   {
    "duration": 19,
    "start_time": "2024-10-24T16:44:36.789Z"
   },
   {
    "duration": 89,
    "start_time": "2024-10-24T16:44:36.810Z"
   },
   {
    "duration": 27,
    "start_time": "2024-10-24T16:44:36.900Z"
   },
   {
    "duration": 4,
    "start_time": "2024-10-24T16:44:36.929Z"
   },
   {
    "duration": 129,
    "start_time": "2024-10-24T16:44:36.935Z"
   },
   {
    "duration": 0,
    "start_time": "2024-10-24T16:44:37.066Z"
   },
   {
    "duration": 0,
    "start_time": "2024-10-24T16:44:37.067Z"
   },
   {
    "duration": 0,
    "start_time": "2024-10-24T16:44:37.068Z"
   },
   {
    "duration": 5,
    "start_time": "2024-10-24T16:54:30.957Z"
   },
   {
    "duration": 5,
    "start_time": "2024-10-24T16:54:31.677Z"
   },
   {
    "duration": 1200,
    "start_time": "2024-10-24T16:55:00.233Z"
   },
   {
    "duration": 224,
    "start_time": "2024-10-24T16:55:01.435Z"
   },
   {
    "duration": 4,
    "start_time": "2024-10-24T16:55:01.661Z"
   },
   {
    "duration": 894,
    "start_time": "2024-10-24T16:55:01.667Z"
   },
   {
    "duration": 22,
    "start_time": "2024-10-24T16:55:02.563Z"
   },
   {
    "duration": 76,
    "start_time": "2024-10-24T16:55:02.586Z"
   },
   {
    "duration": 171,
    "start_time": "2024-10-24T16:55:02.664Z"
   },
   {
    "duration": 124,
    "start_time": "2024-10-24T16:55:02.837Z"
   },
   {
    "duration": 33,
    "start_time": "2024-10-24T16:55:02.963Z"
   },
   {
    "duration": 45,
    "start_time": "2024-10-24T16:55:02.999Z"
   },
   {
    "duration": 39,
    "start_time": "2024-10-24T16:55:03.052Z"
   },
   {
    "duration": 120,
    "start_time": "2024-10-24T16:55:03.092Z"
   },
   {
    "duration": 1047,
    "start_time": "2024-10-24T16:55:03.213Z"
   },
   {
    "duration": 29,
    "start_time": "2024-10-24T16:55:04.262Z"
   },
   {
    "duration": 3,
    "start_time": "2024-10-24T16:55:04.293Z"
   },
   {
    "duration": 66,
    "start_time": "2024-10-24T16:55:04.297Z"
   },
   {
    "duration": 28,
    "start_time": "2024-10-24T16:55:04.364Z"
   },
   {
    "duration": 85,
    "start_time": "2024-10-24T16:55:04.394Z"
   },
   {
    "duration": 61,
    "start_time": "2024-10-24T16:55:04.481Z"
   },
   {
    "duration": 14,
    "start_time": "2024-10-24T16:55:04.543Z"
   },
   {
    "duration": 118,
    "start_time": "2024-10-24T16:55:04.559Z"
   },
   {
    "duration": 70,
    "start_time": "2024-10-24T16:55:04.679Z"
   },
   {
    "duration": 39,
    "start_time": "2024-10-24T16:55:04.750Z"
   },
   {
    "duration": 85,
    "start_time": "2024-10-24T16:55:04.790Z"
   },
   {
    "duration": 7,
    "start_time": "2024-10-24T16:55:04.877Z"
   },
   {
    "duration": 59,
    "start_time": "2024-10-24T16:55:04.886Z"
   },
   {
    "duration": 37,
    "start_time": "2024-10-24T16:55:04.946Z"
   },
   {
    "duration": 67,
    "start_time": "2024-10-24T16:55:04.986Z"
   },
   {
    "duration": 3,
    "start_time": "2024-10-24T16:55:05.054Z"
   },
   {
    "duration": 19,
    "start_time": "2024-10-24T16:55:05.058Z"
   },
   {
    "duration": 22,
    "start_time": "2024-10-24T16:55:05.078Z"
   },
   {
    "duration": 12,
    "start_time": "2024-10-24T16:55:05.102Z"
   },
   {
    "duration": 21,
    "start_time": "2024-10-24T16:55:05.115Z"
   },
   {
    "duration": 18,
    "start_time": "2024-10-24T16:55:05.138Z"
   },
   {
    "duration": 8,
    "start_time": "2024-10-24T16:55:05.158Z"
   },
   {
    "duration": 40,
    "start_time": "2024-10-24T16:55:05.168Z"
   },
   {
    "duration": 110,
    "start_time": "2024-10-24T16:55:05.210Z"
   },
   {
    "duration": 10,
    "start_time": "2024-10-24T16:55:39.973Z"
   },
   {
    "duration": 37,
    "start_time": "2024-10-24T16:56:08.605Z"
   },
   {
    "duration": 11,
    "start_time": "2024-10-24T16:56:12.093Z"
   },
   {
    "duration": 77,
    "start_time": "2024-10-24T16:56:52.302Z"
   },
   {
    "duration": 7,
    "start_time": "2024-10-24T16:57:39.133Z"
   },
   {
    "duration": 1162,
    "start_time": "2024-10-24T16:57:43.690Z"
   },
   {
    "duration": 228,
    "start_time": "2024-10-24T16:57:44.854Z"
   },
   {
    "duration": 4,
    "start_time": "2024-10-24T16:57:45.084Z"
   },
   {
    "duration": 820,
    "start_time": "2024-10-24T16:57:45.090Z"
   },
   {
    "duration": 21,
    "start_time": "2024-10-24T16:57:45.912Z"
   },
   {
    "duration": 18,
    "start_time": "2024-10-24T16:57:45.935Z"
   },
   {
    "duration": 136,
    "start_time": "2024-10-24T16:57:45.955Z"
   },
   {
    "duration": 127,
    "start_time": "2024-10-24T16:57:46.093Z"
   },
   {
    "duration": 37,
    "start_time": "2024-10-24T16:57:46.222Z"
   },
   {
    "duration": 38,
    "start_time": "2024-10-24T16:57:46.262Z"
   },
   {
    "duration": 50,
    "start_time": "2024-10-24T16:57:46.302Z"
   },
   {
    "duration": 114,
    "start_time": "2024-10-24T16:57:46.353Z"
   },
   {
    "duration": 984,
    "start_time": "2024-10-24T16:57:46.468Z"
   },
   {
    "duration": 28,
    "start_time": "2024-10-24T16:57:47.453Z"
   },
   {
    "duration": 3,
    "start_time": "2024-10-24T16:57:47.483Z"
   },
   {
    "duration": 38,
    "start_time": "2024-10-24T16:57:47.487Z"
   },
   {
    "duration": 48,
    "start_time": "2024-10-24T16:57:47.527Z"
   },
   {
    "duration": 33,
    "start_time": "2024-10-24T16:57:47.576Z"
   },
   {
    "duration": 81,
    "start_time": "2024-10-24T16:57:47.611Z"
   },
   {
    "duration": 9,
    "start_time": "2024-10-24T16:57:47.693Z"
   },
   {
    "duration": 17,
    "start_time": "2024-10-24T16:57:47.704Z"
   },
   {
    "duration": 57,
    "start_time": "2024-10-24T16:57:47.723Z"
   },
   {
    "duration": 38,
    "start_time": "2024-10-24T16:57:47.782Z"
   },
   {
    "duration": 91,
    "start_time": "2024-10-24T16:57:47.822Z"
   },
   {
    "duration": 9,
    "start_time": "2024-10-24T16:57:47.915Z"
   },
   {
    "duration": 6,
    "start_time": "2024-10-24T16:57:47.926Z"
   },
   {
    "duration": 7,
    "start_time": "2024-10-24T16:57:47.953Z"
   },
   {
    "duration": 38,
    "start_time": "2024-10-24T16:57:47.963Z"
   },
   {
    "duration": 2,
    "start_time": "2024-10-24T16:57:48.003Z"
   },
   {
    "duration": 17,
    "start_time": "2024-10-24T16:57:48.007Z"
   },
   {
    "duration": 28,
    "start_time": "2024-10-24T16:57:48.025Z"
   },
   {
    "duration": 5,
    "start_time": "2024-10-24T16:57:48.055Z"
   },
   {
    "duration": 9,
    "start_time": "2024-10-24T16:57:48.061Z"
   },
   {
    "duration": 12,
    "start_time": "2024-10-24T16:57:48.072Z"
   },
   {
    "duration": 86,
    "start_time": "2024-10-24T16:57:48.085Z"
   },
   {
    "duration": 102,
    "start_time": "2024-10-24T16:57:48.172Z"
   },
   {
    "duration": 816,
    "start_time": "2024-10-24T16:59:50.702Z"
   },
   {
    "duration": 38,
    "start_time": "2024-10-24T17:00:05.537Z"
   },
   {
    "duration": 35,
    "start_time": "2024-10-24T17:00:12.194Z"
   },
   {
    "duration": 36,
    "start_time": "2024-10-24T17:00:43.804Z"
   },
   {
    "duration": 36,
    "start_time": "2024-10-24T17:02:31.836Z"
   },
   {
    "duration": 1142,
    "start_time": "2024-10-24T17:02:38.801Z"
   },
   {
    "duration": 233,
    "start_time": "2024-10-24T17:02:39.945Z"
   },
   {
    "duration": 3,
    "start_time": "2024-10-24T17:02:40.179Z"
   },
   {
    "duration": 792,
    "start_time": "2024-10-24T17:02:40.184Z"
   },
   {
    "duration": 20,
    "start_time": "2024-10-24T17:02:40.978Z"
   },
   {
    "duration": 5,
    "start_time": "2024-10-24T17:02:41.000Z"
   },
   {
    "duration": 149,
    "start_time": "2024-10-24T17:02:41.006Z"
   },
   {
    "duration": 125,
    "start_time": "2024-10-24T17:02:41.157Z"
   },
   {
    "duration": 33,
    "start_time": "2024-10-24T17:02:41.283Z"
   },
   {
    "duration": 47,
    "start_time": "2024-10-24T17:02:41.319Z"
   },
   {
    "duration": 66,
    "start_time": "2024-10-24T17:02:41.368Z"
   },
   {
    "duration": 115,
    "start_time": "2024-10-24T17:02:41.436Z"
   },
   {
    "duration": 991,
    "start_time": "2024-10-24T17:02:41.553Z"
   },
   {
    "duration": 28,
    "start_time": "2024-10-24T17:02:42.545Z"
   },
   {
    "duration": 3,
    "start_time": "2024-10-24T17:02:42.575Z"
   },
   {
    "duration": 121,
    "start_time": "2024-10-24T17:02:42.579Z"
   },
   {
    "duration": 27,
    "start_time": "2024-10-24T17:02:42.701Z"
   },
   {
    "duration": 31,
    "start_time": "2024-10-24T17:02:42.729Z"
   },
   {
    "duration": 60,
    "start_time": "2024-10-24T17:02:42.762Z"
   },
   {
    "duration": 8,
    "start_time": "2024-10-24T17:02:42.824Z"
   },
   {
    "duration": 34,
    "start_time": "2024-10-24T17:02:42.833Z"
   },
   {
    "duration": 137,
    "start_time": "2024-10-24T17:02:42.868Z"
   },
   {
    "duration": 37,
    "start_time": "2024-10-24T17:02:43.006Z"
   },
   {
    "duration": 73,
    "start_time": "2024-10-24T17:02:43.045Z"
   },
   {
    "duration": 7,
    "start_time": "2024-10-24T17:02:43.120Z"
   },
   {
    "duration": 14,
    "start_time": "2024-10-24T17:02:43.129Z"
   },
   {
    "duration": 7,
    "start_time": "2024-10-24T17:02:43.153Z"
   },
   {
    "duration": 51,
    "start_time": "2024-10-24T17:02:43.162Z"
   },
   {
    "duration": 3,
    "start_time": "2024-10-24T17:02:43.214Z"
   },
   {
    "duration": 14,
    "start_time": "2024-10-24T17:02:43.218Z"
   },
   {
    "duration": 8,
    "start_time": "2024-10-24T17:02:43.233Z"
   },
   {
    "duration": 5,
    "start_time": "2024-10-24T17:02:43.252Z"
   },
   {
    "duration": 20,
    "start_time": "2024-10-24T17:02:43.258Z"
   },
   {
    "duration": 41,
    "start_time": "2024-10-24T17:06:29.693Z"
   },
   {
    "duration": 79,
    "start_time": "2024-10-24T17:07:57.084Z"
   },
   {
    "duration": 78,
    "start_time": "2024-10-24T17:08:47.838Z"
   },
   {
    "duration": 82,
    "start_time": "2024-10-24T17:09:51.454Z"
   },
   {
    "duration": 1181,
    "start_time": "2024-10-24T17:09:57.449Z"
   },
   {
    "duration": 227,
    "start_time": "2024-10-24T17:09:58.631Z"
   },
   {
    "duration": 3,
    "start_time": "2024-10-24T17:09:58.859Z"
   },
   {
    "duration": 941,
    "start_time": "2024-10-24T17:09:58.864Z"
   },
   {
    "duration": 21,
    "start_time": "2024-10-24T17:09:59.806Z"
   },
   {
    "duration": 24,
    "start_time": "2024-10-24T17:09:59.829Z"
   },
   {
    "duration": 180,
    "start_time": "2024-10-24T17:09:59.854Z"
   },
   {
    "duration": 130,
    "start_time": "2024-10-24T17:10:00.035Z"
   },
   {
    "duration": 34,
    "start_time": "2024-10-24T17:10:00.166Z"
   },
   {
    "duration": 91,
    "start_time": "2024-10-24T17:10:00.203Z"
   },
   {
    "duration": 36,
    "start_time": "2024-10-24T17:10:00.296Z"
   },
   {
    "duration": 143,
    "start_time": "2024-10-24T17:10:00.333Z"
   },
   {
    "duration": 1015,
    "start_time": "2024-10-24T17:10:00.478Z"
   },
   {
    "duration": 30,
    "start_time": "2024-10-24T17:10:01.495Z"
   },
   {
    "duration": 26,
    "start_time": "2024-10-24T17:10:01.526Z"
   },
   {
    "duration": 41,
    "start_time": "2024-10-24T17:10:01.553Z"
   },
   {
    "duration": 63,
    "start_time": "2024-10-24T17:10:01.595Z"
   },
   {
    "duration": 34,
    "start_time": "2024-10-24T17:10:01.659Z"
   },
   {
    "duration": 79,
    "start_time": "2024-10-24T17:10:01.694Z"
   },
   {
    "duration": 8,
    "start_time": "2024-10-24T17:10:01.775Z"
   },
   {
    "duration": 38,
    "start_time": "2024-10-24T17:10:01.785Z"
   },
   {
    "duration": 176,
    "start_time": "2024-10-24T17:10:01.825Z"
   },
   {
    "duration": 39,
    "start_time": "2024-10-24T17:10:02.003Z"
   },
   {
    "duration": 87,
    "start_time": "2024-10-24T17:10:02.043Z"
   },
   {
    "duration": 22,
    "start_time": "2024-10-24T17:10:02.131Z"
   },
   {
    "duration": 98,
    "start_time": "2024-10-24T17:10:02.155Z"
   },
   {
    "duration": 66,
    "start_time": "2024-10-24T17:10:02.255Z"
   },
   {
    "duration": 37,
    "start_time": "2024-10-24T17:10:02.326Z"
   },
   {
    "duration": 55,
    "start_time": "2024-10-24T17:10:02.365Z"
   },
   {
    "duration": 3,
    "start_time": "2024-10-24T17:10:02.422Z"
   },
   {
    "duration": 106,
    "start_time": "2024-10-24T17:10:02.426Z"
   },
   {
    "duration": 128,
    "start_time": "2024-10-24T17:10:02.534Z"
   },
   {
    "duration": 0,
    "start_time": "2024-10-24T17:10:02.664Z"
   },
   {
    "duration": 0,
    "start_time": "2024-10-24T17:10:02.665Z"
   },
   {
    "duration": 39,
    "start_time": "2024-10-24T17:15:57.182Z"
   },
   {
    "duration": 1201,
    "start_time": "2024-10-24T17:16:20.235Z"
   },
   {
    "duration": 237,
    "start_time": "2024-10-24T17:16:21.438Z"
   },
   {
    "duration": 2,
    "start_time": "2024-10-24T17:16:21.677Z"
   },
   {
    "duration": 828,
    "start_time": "2024-10-24T17:16:21.681Z"
   },
   {
    "duration": 21,
    "start_time": "2024-10-24T17:16:22.511Z"
   },
   {
    "duration": 27,
    "start_time": "2024-10-24T17:16:22.533Z"
   },
   {
    "duration": 128,
    "start_time": "2024-10-24T17:16:22.562Z"
   },
   {
    "duration": 127,
    "start_time": "2024-10-24T17:16:22.692Z"
   },
   {
    "duration": 40,
    "start_time": "2024-10-24T17:16:22.821Z"
   },
   {
    "duration": 36,
    "start_time": "2024-10-24T17:16:22.864Z"
   },
   {
    "duration": 56,
    "start_time": "2024-10-24T17:16:22.902Z"
   },
   {
    "duration": 122,
    "start_time": "2024-10-24T17:16:22.960Z"
   },
   {
    "duration": 1069,
    "start_time": "2024-10-24T17:16:23.084Z"
   },
   {
    "duration": 30,
    "start_time": "2024-10-24T17:16:24.154Z"
   },
   {
    "duration": 3,
    "start_time": "2024-10-24T17:16:24.186Z"
   },
   {
    "duration": 81,
    "start_time": "2024-10-24T17:16:24.191Z"
   },
   {
    "duration": 29,
    "start_time": "2024-10-24T17:16:24.274Z"
   },
   {
    "duration": 53,
    "start_time": "2024-10-24T17:16:24.304Z"
   },
   {
    "duration": 62,
    "start_time": "2024-10-24T17:16:24.358Z"
   },
   {
    "duration": 9,
    "start_time": "2024-10-24T17:16:24.422Z"
   },
   {
    "duration": 30,
    "start_time": "2024-10-24T17:16:24.433Z"
   },
   {
    "duration": 112,
    "start_time": "2024-10-24T17:16:24.465Z"
   },
   {
    "duration": 39,
    "start_time": "2024-10-24T17:16:24.579Z"
   },
   {
    "duration": 97,
    "start_time": "2024-10-24T17:16:24.619Z"
   },
   {
    "duration": 22,
    "start_time": "2024-10-24T17:16:24.717Z"
   },
   {
    "duration": 12,
    "start_time": "2024-10-24T17:16:24.741Z"
   },
   {
    "duration": 20,
    "start_time": "2024-10-24T17:16:24.754Z"
   },
   {
    "duration": 40,
    "start_time": "2024-10-24T17:16:24.777Z"
   },
   {
    "duration": 2,
    "start_time": "2024-10-24T17:16:24.819Z"
   },
   {
    "duration": 15,
    "start_time": "2024-10-24T17:16:24.823Z"
   },
   {
    "duration": 120,
    "start_time": "2024-10-24T17:16:24.839Z"
   },
   {
    "duration": 0,
    "start_time": "2024-10-24T17:16:24.961Z"
   },
   {
    "duration": 0,
    "start_time": "2024-10-24T17:16:24.963Z"
   },
   {
    "duration": 5,
    "start_time": "2024-10-24T17:17:11.532Z"
   },
   {
    "duration": 5,
    "start_time": "2024-10-24T17:17:14.556Z"
   },
   {
    "duration": 4,
    "start_time": "2024-10-24T17:18:57.880Z"
   },
   {
    "duration": 11,
    "start_time": "2024-10-24T17:19:01.611Z"
   },
   {
    "duration": 6,
    "start_time": "2024-10-24T17:19:15.867Z"
   },
   {
    "duration": 7,
    "start_time": "2024-10-24T17:19:32.699Z"
   },
   {
    "duration": 6,
    "start_time": "2024-10-24T17:23:26.010Z"
   },
   {
    "duration": 6,
    "start_time": "2024-10-24T17:24:19.562Z"
   },
   {
    "duration": 19,
    "start_time": "2024-10-24T17:24:23.082Z"
   },
   {
    "duration": 17,
    "start_time": "2024-10-24T17:25:18.891Z"
   },
   {
    "duration": 17,
    "start_time": "2024-10-24T17:25:26.499Z"
   },
   {
    "duration": 8,
    "start_time": "2024-10-24T17:26:03.052Z"
   },
   {
    "duration": 1201,
    "start_time": "2024-10-24T17:26:14.634Z"
   },
   {
    "duration": 230,
    "start_time": "2024-10-24T17:26:15.837Z"
   },
   {
    "duration": 6,
    "start_time": "2024-10-24T17:26:16.069Z"
   },
   {
    "duration": 875,
    "start_time": "2024-10-24T17:26:16.078Z"
   },
   {
    "duration": 20,
    "start_time": "2024-10-24T17:26:16.955Z"
   },
   {
    "duration": 39,
    "start_time": "2024-10-24T17:26:16.977Z"
   },
   {
    "duration": 154,
    "start_time": "2024-10-24T17:26:17.018Z"
   },
   {
    "duration": 123,
    "start_time": "2024-10-24T17:26:17.174Z"
   },
   {
    "duration": 32,
    "start_time": "2024-10-24T17:26:17.299Z"
   },
   {
    "duration": 50,
    "start_time": "2024-10-24T17:26:17.333Z"
   },
   {
    "duration": 35,
    "start_time": "2024-10-24T17:26:17.385Z"
   },
   {
    "duration": 127,
    "start_time": "2024-10-24T17:26:17.422Z"
   },
   {
    "duration": 1004,
    "start_time": "2024-10-24T17:26:17.551Z"
   },
   {
    "duration": 29,
    "start_time": "2024-10-24T17:26:18.558Z"
   },
   {
    "duration": 3,
    "start_time": "2024-10-24T17:26:18.589Z"
   },
   {
    "duration": 65,
    "start_time": "2024-10-24T17:26:18.594Z"
   },
   {
    "duration": 28,
    "start_time": "2024-10-24T17:26:18.661Z"
   },
   {
    "duration": 103,
    "start_time": "2024-10-24T17:26:18.690Z"
   },
   {
    "duration": 61,
    "start_time": "2024-10-24T17:26:18.795Z"
   },
   {
    "duration": 11,
    "start_time": "2024-10-24T17:26:18.858Z"
   },
   {
    "duration": 29,
    "start_time": "2024-10-24T17:26:18.871Z"
   },
   {
    "duration": 41,
    "start_time": "2024-10-24T17:26:18.901Z"
   },
   {
    "duration": 43,
    "start_time": "2024-10-24T17:26:18.944Z"
   },
   {
    "duration": 108,
    "start_time": "2024-10-24T17:26:18.989Z"
   },
   {
    "duration": 8,
    "start_time": "2024-10-24T17:26:19.098Z"
   },
   {
    "duration": 11,
    "start_time": "2024-10-24T17:26:19.107Z"
   },
   {
    "duration": 8,
    "start_time": "2024-10-24T17:26:19.119Z"
   },
   {
    "duration": 56,
    "start_time": "2024-10-24T17:26:19.128Z"
   },
   {
    "duration": 3,
    "start_time": "2024-10-24T17:26:19.185Z"
   },
   {
    "duration": 19,
    "start_time": "2024-10-24T17:26:19.190Z"
   },
   {
    "duration": 7,
    "start_time": "2024-10-24T17:26:19.211Z"
   },
   {
    "duration": 125,
    "start_time": "2024-10-24T17:26:19.219Z"
   },
   {
    "duration": 7,
    "start_time": "2024-10-24T17:27:24.802Z"
   },
   {
    "duration": 633,
    "start_time": "2024-10-24T17:28:07.469Z"
   },
   {
    "duration": 9,
    "start_time": "2024-10-24T17:28:15.725Z"
   },
   {
    "duration": 9,
    "start_time": "2024-10-24T17:28:27.566Z"
   },
   {
    "duration": 9,
    "start_time": "2024-10-24T17:28:34.459Z"
   },
   {
    "duration": 11,
    "start_time": "2024-10-24T17:29:20.377Z"
   },
   {
    "duration": 4,
    "start_time": "2024-10-24T17:29:30.841Z"
   },
   {
    "duration": 18,
    "start_time": "2024-10-24T17:29:37.097Z"
   },
   {
    "duration": 4,
    "start_time": "2024-10-24T17:30:03.209Z"
   },
   {
    "duration": 6,
    "start_time": "2024-10-24T17:30:07.193Z"
   },
   {
    "duration": 5,
    "start_time": "2024-10-24T17:31:32.619Z"
   },
   {
    "duration": 5,
    "start_time": "2024-10-24T17:31:40.281Z"
   },
   {
    "duration": 6,
    "start_time": "2024-10-24T17:31:42.377Z"
   },
   {
    "duration": 7,
    "start_time": "2024-10-24T17:35:03.001Z"
   },
   {
    "duration": 9,
    "start_time": "2024-10-24T17:35:06.600Z"
   },
   {
    "duration": 7,
    "start_time": "2024-10-24T17:36:51.992Z"
   },
   {
    "duration": 7,
    "start_time": "2024-10-24T17:44:47.145Z"
   },
   {
    "duration": 6,
    "start_time": "2024-10-24T17:45:14.519Z"
   },
   {
    "duration": 6,
    "start_time": "2024-10-24T17:45:57.143Z"
   },
   {
    "duration": 8,
    "start_time": "2024-10-24T17:47:05.014Z"
   },
   {
    "duration": 8,
    "start_time": "2024-10-24T17:58:07.383Z"
   },
   {
    "duration": 11,
    "start_time": "2024-10-24T17:58:34.950Z"
   },
   {
    "duration": 7,
    "start_time": "2024-10-24T17:59:04.566Z"
   },
   {
    "duration": 6,
    "start_time": "2024-10-24T17:59:23.462Z"
   },
   {
    "duration": 9,
    "start_time": "2024-10-24T18:00:11.399Z"
   },
   {
    "duration": 6,
    "start_time": "2024-10-24T18:00:20.614Z"
   },
   {
    "duration": 7,
    "start_time": "2024-10-24T18:01:14.774Z"
   },
   {
    "duration": 6,
    "start_time": "2024-10-24T18:04:27.694Z"
   },
   {
    "duration": 7,
    "start_time": "2024-10-24T18:05:24.922Z"
   },
   {
    "duration": 10,
    "start_time": "2024-10-24T18:06:18.314Z"
   },
   {
    "duration": 9,
    "start_time": "2024-10-24T18:06:30.694Z"
   },
   {
    "duration": 1212,
    "start_time": "2024-10-24T18:06:35.470Z"
   },
   {
    "duration": 228,
    "start_time": "2024-10-24T18:06:36.684Z"
   },
   {
    "duration": 3,
    "start_time": "2024-10-24T18:06:36.913Z"
   },
   {
    "duration": 852,
    "start_time": "2024-10-24T18:06:36.918Z"
   },
   {
    "duration": 21,
    "start_time": "2024-10-24T18:06:37.773Z"
   },
   {
    "duration": 5,
    "start_time": "2024-10-24T18:06:37.796Z"
   },
   {
    "duration": 161,
    "start_time": "2024-10-24T18:06:37.803Z"
   },
   {
    "duration": 141,
    "start_time": "2024-10-24T18:06:37.966Z"
   },
   {
    "duration": 50,
    "start_time": "2024-10-24T18:06:38.108Z"
   },
   {
    "duration": 39,
    "start_time": "2024-10-24T18:06:38.161Z"
   },
   {
    "duration": 56,
    "start_time": "2024-10-24T18:06:38.202Z"
   },
   {
    "duration": 132,
    "start_time": "2024-10-24T18:06:38.260Z"
   },
   {
    "duration": 1039,
    "start_time": "2024-10-24T18:06:38.394Z"
   },
   {
    "duration": 40,
    "start_time": "2024-10-24T18:06:39.435Z"
   },
   {
    "duration": 4,
    "start_time": "2024-10-24T18:06:39.477Z"
   },
   {
    "duration": 39,
    "start_time": "2024-10-24T18:06:39.483Z"
   },
   {
    "duration": 56,
    "start_time": "2024-10-24T18:06:39.524Z"
   },
   {
    "duration": 35,
    "start_time": "2024-10-24T18:06:39.582Z"
   },
   {
    "duration": 140,
    "start_time": "2024-10-24T18:06:39.619Z"
   },
   {
    "duration": 10,
    "start_time": "2024-10-24T18:06:39.761Z"
   },
   {
    "duration": 26,
    "start_time": "2024-10-24T18:06:39.773Z"
   },
   {
    "duration": 71,
    "start_time": "2024-10-24T18:06:39.801Z"
   },
   {
    "duration": 41,
    "start_time": "2024-10-24T18:06:39.874Z"
   },
   {
    "duration": 99,
    "start_time": "2024-10-24T18:06:39.917Z"
   },
   {
    "duration": 7,
    "start_time": "2024-10-24T18:06:40.018Z"
   },
   {
    "duration": 66,
    "start_time": "2024-10-24T18:06:40.028Z"
   },
   {
    "duration": 30,
    "start_time": "2024-10-24T18:06:40.096Z"
   },
   {
    "duration": 20,
    "start_time": "2024-10-24T18:06:40.131Z"
   },
   {
    "duration": 44,
    "start_time": "2024-10-24T18:06:40.153Z"
   },
   {
    "duration": 7,
    "start_time": "2024-10-24T18:06:40.199Z"
   },
   {
    "duration": 9,
    "start_time": "2024-10-24T18:06:40.208Z"
   },
   {
    "duration": 19,
    "start_time": "2024-10-24T18:06:40.219Z"
   },
   {
    "duration": 6,
    "start_time": "2024-10-24T18:06:40.253Z"
   },
   {
    "duration": 14,
    "start_time": "2024-10-24T18:06:40.261Z"
   },
   {
    "duration": 12,
    "start_time": "2024-10-24T18:06:40.277Z"
   },
   {
    "duration": 8,
    "start_time": "2024-10-24T18:06:40.291Z"
   },
   {
    "duration": 16,
    "start_time": "2024-10-24T18:06:40.300Z"
   },
   {
    "duration": 8,
    "start_time": "2024-10-24T18:06:40.318Z"
   },
   {
    "duration": 125,
    "start_time": "2024-10-24T18:06:40.328Z"
   },
   {
    "duration": 0,
    "start_time": "2024-10-24T18:06:40.455Z"
   },
   {
    "duration": 0,
    "start_time": "2024-10-24T18:06:40.456Z"
   },
   {
    "duration": 7,
    "start_time": "2024-10-24T18:06:51.982Z"
   },
   {
    "duration": 14,
    "start_time": "2024-10-24T18:07:02.549Z"
   },
   {
    "duration": 1180,
    "start_time": "2024-10-24T18:07:55.365Z"
   },
   {
    "duration": 226,
    "start_time": "2024-10-24T18:07:56.547Z"
   },
   {
    "duration": 3,
    "start_time": "2024-10-24T18:07:56.775Z"
   },
   {
    "duration": 785,
    "start_time": "2024-10-24T18:07:56.780Z"
   },
   {
    "duration": 22,
    "start_time": "2024-10-24T18:07:57.567Z"
   },
   {
    "duration": 17,
    "start_time": "2024-10-24T18:07:57.590Z"
   },
   {
    "duration": 207,
    "start_time": "2024-10-24T18:07:57.609Z"
   },
   {
    "duration": 123,
    "start_time": "2024-10-24T18:07:57.818Z"
   },
   {
    "duration": 38,
    "start_time": "2024-10-24T18:07:57.943Z"
   },
   {
    "duration": 36,
    "start_time": "2024-10-24T18:07:57.984Z"
   },
   {
    "duration": 60,
    "start_time": "2024-10-24T18:07:58.022Z"
   },
   {
    "duration": 123,
    "start_time": "2024-10-24T18:07:58.084Z"
   },
   {
    "duration": 1080,
    "start_time": "2024-10-24T18:07:58.209Z"
   },
   {
    "duration": 29,
    "start_time": "2024-10-24T18:07:59.291Z"
   },
   {
    "duration": 3,
    "start_time": "2024-10-24T18:07:59.322Z"
   },
   {
    "duration": 61,
    "start_time": "2024-10-24T18:07:59.327Z"
   },
   {
    "duration": 28,
    "start_time": "2024-10-24T18:07:59.390Z"
   },
   {
    "duration": 48,
    "start_time": "2024-10-24T18:07:59.419Z"
   },
   {
    "duration": 80,
    "start_time": "2024-10-24T18:07:59.469Z"
   },
   {
    "duration": 9,
    "start_time": "2024-10-24T18:07:59.551Z"
   },
   {
    "duration": 16,
    "start_time": "2024-10-24T18:07:59.562Z"
   },
   {
    "duration": 149,
    "start_time": "2024-10-24T18:07:59.580Z"
   },
   {
    "duration": 38,
    "start_time": "2024-10-24T18:07:59.731Z"
   },
   {
    "duration": 86,
    "start_time": "2024-10-24T18:07:59.771Z"
   },
   {
    "duration": 6,
    "start_time": "2024-10-24T18:07:59.858Z"
   },
   {
    "duration": 23,
    "start_time": "2024-10-24T18:07:59.866Z"
   },
   {
    "duration": 11,
    "start_time": "2024-10-24T18:07:59.891Z"
   },
   {
    "duration": 7,
    "start_time": "2024-10-24T18:07:59.906Z"
   },
   {
    "duration": 46,
    "start_time": "2024-10-24T18:07:59.914Z"
   },
   {
    "duration": 6,
    "start_time": "2024-10-24T18:07:59.962Z"
   },
   {
    "duration": 6,
    "start_time": "2024-10-24T18:07:59.970Z"
   },
   {
    "duration": 14,
    "start_time": "2024-10-24T18:07:59.978Z"
   },
   {
    "duration": 8,
    "start_time": "2024-10-24T18:07:59.993Z"
   },
   {
    "duration": 120,
    "start_time": "2024-10-24T18:08:00.003Z"
   },
   {
    "duration": 20,
    "start_time": "2024-10-24T18:08:00.125Z"
   },
   {
    "duration": 13,
    "start_time": "2024-10-24T18:08:00.146Z"
   },
   {
    "duration": 37,
    "start_time": "2024-10-24T18:08:00.160Z"
   },
   {
    "duration": 60,
    "start_time": "2024-10-24T18:08:00.199Z"
   },
   {
    "duration": 71,
    "start_time": "2024-10-24T18:08:00.261Z"
   },
   {
    "duration": 44,
    "start_time": "2024-10-24T18:08:00.334Z"
   },
   {
    "duration": 75,
    "start_time": "2024-10-24T18:08:00.380Z"
   },
   {
    "duration": 6,
    "start_time": "2024-10-24T18:10:17.521Z"
   },
   {
    "duration": 16,
    "start_time": "2024-10-24T18:50:17.445Z"
   },
   {
    "duration": 12,
    "start_time": "2024-10-24T18:53:53.303Z"
   },
   {
    "duration": 12,
    "start_time": "2024-10-24T18:54:25.047Z"
   },
   {
    "duration": 7,
    "start_time": "2024-10-24T18:56:17.079Z"
   },
   {
    "duration": 7,
    "start_time": "2024-10-24T18:56:44.507Z"
   },
   {
    "duration": 7,
    "start_time": "2024-10-24T18:57:24.115Z"
   },
   {
    "duration": 6,
    "start_time": "2024-10-24T18:57:58.967Z"
   },
   {
    "duration": 6,
    "start_time": "2024-10-24T19:13:00.619Z"
   },
   {
    "duration": 6,
    "start_time": "2024-10-24T19:13:05.283Z"
   },
   {
    "duration": 1207,
    "start_time": "2024-10-24T19:38:57.948Z"
   },
   {
    "duration": 239,
    "start_time": "2024-10-24T19:38:59.157Z"
   },
   {
    "duration": 3,
    "start_time": "2024-10-24T19:38:59.398Z"
   },
   {
    "duration": 829,
    "start_time": "2024-10-24T19:38:59.404Z"
   },
   {
    "duration": 27,
    "start_time": "2024-10-24T19:39:00.235Z"
   },
   {
    "duration": 59,
    "start_time": "2024-10-24T19:39:00.264Z"
   },
   {
    "duration": 200,
    "start_time": "2024-10-24T19:39:00.325Z"
   },
   {
    "duration": 121,
    "start_time": "2024-10-24T19:39:00.528Z"
   },
   {
    "duration": 34,
    "start_time": "2024-10-24T19:39:00.652Z"
   },
   {
    "duration": 83,
    "start_time": "2024-10-24T19:39:00.689Z"
   },
   {
    "duration": 36,
    "start_time": "2024-10-24T19:39:00.774Z"
   },
   {
    "duration": 169,
    "start_time": "2024-10-24T19:39:00.812Z"
   },
   {
    "duration": 1040,
    "start_time": "2024-10-24T19:39:00.983Z"
   },
   {
    "duration": 38,
    "start_time": "2024-10-24T19:39:02.025Z"
   },
   {
    "duration": 3,
    "start_time": "2024-10-24T19:39:02.065Z"
   },
   {
    "duration": 118,
    "start_time": "2024-10-24T19:39:02.070Z"
   },
   {
    "duration": 33,
    "start_time": "2024-10-24T19:39:02.190Z"
   },
   {
    "duration": 49,
    "start_time": "2024-10-24T19:39:02.225Z"
   },
   {
    "duration": 63,
    "start_time": "2024-10-24T19:39:02.276Z"
   },
   {
    "duration": 13,
    "start_time": "2024-10-24T19:39:02.353Z"
   },
   {
    "duration": 110,
    "start_time": "2024-10-24T19:39:02.368Z"
   },
   {
    "duration": 72,
    "start_time": "2024-10-24T19:39:02.479Z"
   },
   {
    "duration": 40,
    "start_time": "2024-10-24T19:39:02.553Z"
   },
   {
    "duration": 101,
    "start_time": "2024-10-24T19:39:02.595Z"
   },
   {
    "duration": 6,
    "start_time": "2024-10-24T19:39:02.698Z"
   },
   {
    "duration": 85,
    "start_time": "2024-10-24T19:39:02.706Z"
   },
   {
    "duration": 29,
    "start_time": "2024-10-24T19:39:02.793Z"
   },
   {
    "duration": 32,
    "start_time": "2024-10-24T19:39:02.825Z"
   },
   {
    "duration": 50,
    "start_time": "2024-10-24T19:39:02.859Z"
   },
   {
    "duration": 16,
    "start_time": "2024-10-24T19:39:02.911Z"
   },
   {
    "duration": 96,
    "start_time": "2024-10-24T19:39:02.929Z"
   },
   {
    "duration": 55,
    "start_time": "2024-10-24T19:39:03.027Z"
   },
   {
    "duration": 49,
    "start_time": "2024-10-24T19:39:03.083Z"
   },
   {
    "duration": 85,
    "start_time": "2024-10-24T19:39:03.134Z"
   },
   {
    "duration": 56,
    "start_time": "2024-10-24T19:39:03.221Z"
   },
   {
    "duration": 43,
    "start_time": "2024-10-24T19:39:03.279Z"
   },
   {
    "duration": 19,
    "start_time": "2024-10-24T19:39:03.324Z"
   },
   {
    "duration": 103,
    "start_time": "2024-10-24T19:39:03.345Z"
   },
   {
    "duration": 16,
    "start_time": "2024-10-24T19:39:03.450Z"
   },
   {
    "duration": 8,
    "start_time": "2024-10-24T19:39:03.468Z"
   },
   {
    "duration": 27,
    "start_time": "2024-10-24T19:39:03.478Z"
   },
   {
    "duration": 31,
    "start_time": "2024-10-24T19:39:03.507Z"
   },
   {
    "duration": 21,
    "start_time": "2024-10-24T19:39:03.540Z"
   },
   {
    "duration": 18,
    "start_time": "2024-10-24T19:39:03.563Z"
   },
   {
    "duration": 30,
    "start_time": "2024-10-24T19:39:03.582Z"
   },
   {
    "duration": 7,
    "start_time": "2024-10-24T19:39:03.614Z"
   },
   {
    "duration": 1186,
    "start_time": "2024-10-25T10:11:07.450Z"
   },
   {
    "duration": 225,
    "start_time": "2024-10-25T10:11:08.638Z"
   },
   {
    "duration": 4,
    "start_time": "2024-10-25T10:11:08.864Z"
   },
   {
    "duration": 808,
    "start_time": "2024-10-25T10:11:08.869Z"
   },
   {
    "duration": 22,
    "start_time": "2024-10-25T10:11:09.678Z"
   },
   {
    "duration": 5,
    "start_time": "2024-10-25T10:11:09.702Z"
   },
   {
    "duration": 197,
    "start_time": "2024-10-25T10:11:09.721Z"
   },
   {
    "duration": 123,
    "start_time": "2024-10-25T10:11:09.920Z"
   },
   {
    "duration": 34,
    "start_time": "2024-10-25T10:11:10.045Z"
   },
   {
    "duration": 53,
    "start_time": "2024-10-25T10:11:10.083Z"
   },
   {
    "duration": 36,
    "start_time": "2024-10-25T10:11:10.138Z"
   },
   {
    "duration": 163,
    "start_time": "2024-10-25T10:11:10.176Z"
   },
   {
    "duration": 985,
    "start_time": "2024-10-25T10:11:10.341Z"
   },
   {
    "duration": 27,
    "start_time": "2024-10-25T10:11:11.328Z"
   },
   {
    "duration": 3,
    "start_time": "2024-10-25T10:11:11.357Z"
   },
   {
    "duration": 60,
    "start_time": "2024-10-25T10:11:11.361Z"
   },
   {
    "duration": 27,
    "start_time": "2024-10-25T10:11:11.423Z"
   },
   {
    "duration": 42,
    "start_time": "2024-10-25T10:11:11.451Z"
   },
   {
    "duration": 69,
    "start_time": "2024-10-25T10:11:11.494Z"
   },
   {
    "duration": 9,
    "start_time": "2024-10-25T10:11:11.564Z"
   },
   {
    "duration": 16,
    "start_time": "2024-10-25T10:11:11.574Z"
   },
   {
    "duration": 60,
    "start_time": "2024-10-25T10:11:11.591Z"
   },
   {
    "duration": 39,
    "start_time": "2024-10-25T10:11:11.652Z"
   },
   {
    "duration": 96,
    "start_time": "2024-10-25T10:11:11.692Z"
   },
   {
    "duration": 6,
    "start_time": "2024-10-25T10:11:11.789Z"
   },
   {
    "duration": 40,
    "start_time": "2024-10-25T10:11:11.797Z"
   },
   {
    "duration": 13,
    "start_time": "2024-10-25T10:11:11.839Z"
   },
   {
    "duration": 40,
    "start_time": "2024-10-25T10:11:11.855Z"
   },
   {
    "duration": 40,
    "start_time": "2024-10-25T10:11:11.897Z"
   },
   {
    "duration": 28,
    "start_time": "2024-10-25T10:11:11.938Z"
   },
   {
    "duration": 35,
    "start_time": "2024-10-25T10:11:11.967Z"
   },
   {
    "duration": 36,
    "start_time": "2024-10-25T10:11:12.004Z"
   },
   {
    "duration": 22,
    "start_time": "2024-10-25T10:11:12.041Z"
   },
   {
    "duration": 11,
    "start_time": "2024-10-25T10:11:12.065Z"
   },
   {
    "duration": 15,
    "start_time": "2024-10-25T10:11:12.077Z"
   },
   {
    "duration": 8,
    "start_time": "2024-10-25T10:11:12.094Z"
   },
   {
    "duration": 14,
    "start_time": "2024-10-25T10:11:12.103Z"
   },
   {
    "duration": 20,
    "start_time": "2024-10-25T10:11:12.119Z"
   },
   {
    "duration": 6,
    "start_time": "2024-10-25T10:11:12.141Z"
   },
   {
    "duration": 13,
    "start_time": "2024-10-25T10:11:12.148Z"
   },
   {
    "duration": 11,
    "start_time": "2024-10-25T10:11:12.163Z"
   },
   {
    "duration": 27,
    "start_time": "2024-10-25T10:11:12.175Z"
   },
   {
    "duration": 26,
    "start_time": "2024-10-25T10:11:12.204Z"
   },
   {
    "duration": 8,
    "start_time": "2024-10-25T10:11:12.232Z"
   },
   {
    "duration": 9,
    "start_time": "2024-10-25T10:11:12.242Z"
   },
   {
    "duration": 10,
    "start_time": "2024-10-25T10:11:12.256Z"
   },
   {
    "duration": 1163,
    "start_time": "2024-10-25T10:36:18.135Z"
   },
   {
    "duration": 221,
    "start_time": "2024-10-25T10:36:19.300Z"
   },
   {
    "duration": 4,
    "start_time": "2024-10-25T10:36:19.523Z"
   },
   {
    "duration": 791,
    "start_time": "2024-10-25T10:36:19.528Z"
   },
   {
    "duration": 22,
    "start_time": "2024-10-25T10:36:20.321Z"
   },
   {
    "duration": 26,
    "start_time": "2024-10-25T10:36:20.344Z"
   },
   {
    "duration": 141,
    "start_time": "2024-10-25T10:36:20.371Z"
   },
   {
    "duration": 116,
    "start_time": "2024-10-25T10:36:20.513Z"
   },
   {
    "duration": 32,
    "start_time": "2024-10-25T10:36:20.630Z"
   },
   {
    "duration": 33,
    "start_time": "2024-10-25T10:36:20.664Z"
   },
   {
    "duration": 54,
    "start_time": "2024-10-25T10:36:20.699Z"
   },
   {
    "duration": 123,
    "start_time": "2024-10-25T10:36:20.755Z"
   },
   {
    "duration": 1033,
    "start_time": "2024-10-25T10:36:20.879Z"
   },
   {
    "duration": 29,
    "start_time": "2024-10-25T10:36:21.921Z"
   },
   {
    "duration": 3,
    "start_time": "2024-10-25T10:36:21.952Z"
   },
   {
    "duration": 80,
    "start_time": "2024-10-25T10:36:21.956Z"
   },
   {
    "duration": 27,
    "start_time": "2024-10-25T10:36:22.038Z"
   },
   {
    "duration": 30,
    "start_time": "2024-10-25T10:36:22.067Z"
   },
   {
    "duration": 72,
    "start_time": "2024-10-25T10:36:22.099Z"
   },
   {
    "duration": 8,
    "start_time": "2024-10-25T10:36:22.173Z"
   },
   {
    "duration": 39,
    "start_time": "2024-10-25T10:36:22.183Z"
   },
   {
    "duration": 51,
    "start_time": "2024-10-25T10:36:22.224Z"
   },
   {
    "duration": 37,
    "start_time": "2024-10-25T10:36:22.276Z"
   },
   {
    "duration": 78,
    "start_time": "2024-10-25T10:36:22.315Z"
   },
   {
    "duration": 5,
    "start_time": "2024-10-25T10:36:22.395Z"
   },
   {
    "duration": 23,
    "start_time": "2024-10-25T10:36:22.402Z"
   },
   {
    "duration": 7,
    "start_time": "2024-10-25T10:36:22.427Z"
   },
   {
    "duration": 8,
    "start_time": "2024-10-25T10:36:22.436Z"
   },
   {
    "duration": 37,
    "start_time": "2024-10-25T10:36:22.445Z"
   },
   {
    "duration": 6,
    "start_time": "2024-10-25T10:36:22.483Z"
   },
   {
    "duration": 34,
    "start_time": "2024-10-25T10:36:22.491Z"
   },
   {
    "duration": 15,
    "start_time": "2024-10-25T10:36:22.527Z"
   },
   {
    "duration": 16,
    "start_time": "2024-10-25T10:36:22.543Z"
   },
   {
    "duration": 29,
    "start_time": "2024-10-25T10:36:22.561Z"
   },
   {
    "duration": 11,
    "start_time": "2024-10-25T10:36:22.592Z"
   },
   {
    "duration": 9,
    "start_time": "2024-10-25T10:36:22.605Z"
   },
   {
    "duration": 6,
    "start_time": "2024-10-25T10:36:22.616Z"
   },
   {
    "duration": 6,
    "start_time": "2024-10-25T10:36:22.624Z"
   },
   {
    "duration": 12,
    "start_time": "2024-10-25T10:36:22.632Z"
   },
   {
    "duration": 8,
    "start_time": "2024-10-25T10:36:22.645Z"
   },
   {
    "duration": 8,
    "start_time": "2024-10-25T10:36:22.657Z"
   },
   {
    "duration": 15,
    "start_time": "2024-10-25T10:36:22.666Z"
   },
   {
    "duration": 37,
    "start_time": "2024-10-25T10:36:22.683Z"
   },
   {
    "duration": 6,
    "start_time": "2024-10-25T10:36:22.722Z"
   },
   {
    "duration": 14,
    "start_time": "2024-10-25T10:36:22.730Z"
   },
   {
    "duration": 10,
    "start_time": "2024-10-25T10:36:22.746Z"
   },
   {
    "duration": 53,
    "start_time": "2024-10-25T14:57:39.135Z"
   },
   {
    "duration": 48,
    "start_time": "2024-10-25T15:07:10.896Z"
   },
   {
    "duration": 1316,
    "start_time": "2024-10-25T15:07:15.493Z"
   },
   {
    "duration": 1224,
    "start_time": "2024-10-25T15:07:16.811Z"
   },
   {
    "duration": 4,
    "start_time": "2024-10-25T15:07:18.039Z"
   },
   {
    "duration": 920,
    "start_time": "2024-10-25T15:07:18.046Z"
   },
   {
    "duration": 26,
    "start_time": "2024-10-25T15:07:18.968Z"
   },
   {
    "duration": 30,
    "start_time": "2024-10-25T15:07:18.996Z"
   },
   {
    "duration": 126,
    "start_time": "2024-10-25T15:07:19.032Z"
   },
   {
    "duration": 122,
    "start_time": "2024-10-25T15:07:19.160Z"
   },
   {
    "duration": 39,
    "start_time": "2024-10-25T15:07:19.283Z"
   },
   {
    "duration": 37,
    "start_time": "2024-10-25T15:07:19.328Z"
   },
   {
    "duration": 38,
    "start_time": "2024-10-25T15:07:19.366Z"
   },
   {
    "duration": 128,
    "start_time": "2024-10-25T15:07:19.424Z"
   },
   {
    "duration": 1004,
    "start_time": "2024-10-25T15:07:19.553Z"
   },
   {
    "duration": 7,
    "start_time": "2024-10-25T15:07:20.559Z"
   },
   {
    "duration": 1000,
    "start_time": "2024-10-25T15:07:20.567Z"
   },
   {
    "duration": 26,
    "start_time": "2024-10-25T15:07:21.569Z"
   },
   {
    "duration": 9,
    "start_time": "2024-10-25T15:07:21.596Z"
   },
   {
    "duration": 37,
    "start_time": "2024-10-25T15:07:21.627Z"
   },
   {
    "duration": 34,
    "start_time": "2024-10-25T15:07:21.666Z"
   },
   {
    "duration": 41,
    "start_time": "2024-10-25T15:07:21.702Z"
   },
   {
    "duration": 56,
    "start_time": "2024-10-25T15:07:21.745Z"
   },
   {
    "duration": 27,
    "start_time": "2024-10-25T15:07:21.803Z"
   },
   {
    "duration": 35,
    "start_time": "2024-10-25T15:07:21.832Z"
   },
   {
    "duration": 77,
    "start_time": "2024-10-25T15:07:21.870Z"
   },
   {
    "duration": 37,
    "start_time": "2024-10-25T15:07:21.949Z"
   },
   {
    "duration": 98,
    "start_time": "2024-10-25T15:07:21.988Z"
   },
   {
    "duration": 6,
    "start_time": "2024-10-25T15:07:22.087Z"
   },
   {
    "duration": 120,
    "start_time": "2024-10-25T15:07:22.097Z"
   },
   {
    "duration": 23,
    "start_time": "2024-10-25T15:07:22.219Z"
   },
   {
    "duration": 11,
    "start_time": "2024-10-25T15:07:22.244Z"
   },
   {
    "duration": 57,
    "start_time": "2024-10-25T15:07:22.257Z"
   },
   {
    "duration": 20,
    "start_time": "2024-10-25T15:07:22.316Z"
   },
   {
    "duration": 36,
    "start_time": "2024-10-25T15:07:22.337Z"
   },
   {
    "duration": 20,
    "start_time": "2024-10-25T15:07:22.375Z"
   },
   {
    "duration": 10,
    "start_time": "2024-10-25T15:07:22.396Z"
   },
   {
    "duration": 33,
    "start_time": "2024-10-25T15:07:22.407Z"
   },
   {
    "duration": 25,
    "start_time": "2024-10-25T15:07:22.442Z"
   },
   {
    "duration": 20,
    "start_time": "2024-10-25T15:07:22.469Z"
   },
   {
    "duration": 13,
    "start_time": "2024-10-25T15:07:22.491Z"
   },
   {
    "duration": 27,
    "start_time": "2024-10-25T15:07:22.506Z"
   },
   {
    "duration": 43,
    "start_time": "2024-10-25T15:07:22.538Z"
   },
   {
    "duration": 98,
    "start_time": "2024-10-25T15:07:22.583Z"
   },
   {
    "duration": 20,
    "start_time": "2024-10-25T15:07:22.683Z"
   },
   {
    "duration": 26,
    "start_time": "2024-10-25T15:07:22.705Z"
   },
   {
    "duration": 8,
    "start_time": "2024-10-25T15:07:22.735Z"
   },
   {
    "duration": 36,
    "start_time": "2024-10-25T15:07:22.745Z"
   },
   {
    "duration": 22,
    "start_time": "2024-10-25T15:07:22.783Z"
   },
   {
    "duration": 27,
    "start_time": "2024-10-25T15:07:22.807Z"
   },
   {
    "duration": 6,
    "start_time": "2024-10-25T15:09:39.689Z"
   },
   {
    "duration": 12,
    "start_time": "2024-10-25T15:09:50.606Z"
   },
   {
    "duration": 12,
    "start_time": "2024-10-25T15:10:02.779Z"
   },
   {
    "duration": 104,
    "start_time": "2024-10-25T15:12:21.913Z"
   },
   {
    "duration": 7,
    "start_time": "2024-10-25T15:14:19.943Z"
   },
   {
    "duration": 7,
    "start_time": "2024-10-25T15:14:55.220Z"
   },
   {
    "duration": 8,
    "start_time": "2024-10-25T15:15:15.453Z"
   },
   {
    "duration": 20,
    "start_time": "2024-10-25T15:15:47.299Z"
   },
   {
    "duration": 13,
    "start_time": "2024-10-25T15:19:58.334Z"
   },
   {
    "duration": 68,
    "start_time": "2024-10-25T15:21:07.995Z"
   },
   {
    "duration": 50,
    "start_time": "2024-10-25T15:21:21.916Z"
   },
   {
    "duration": 51,
    "start_time": "2024-10-25T15:21:28.028Z"
   },
   {
    "duration": 54,
    "start_time": "2024-10-25T15:22:00.149Z"
   },
   {
    "duration": 8,
    "start_time": "2024-10-25T15:22:27.607Z"
   },
   {
    "duration": 1079,
    "start_time": "2024-10-25T15:22:54.136Z"
   },
   {
    "duration": 214,
    "start_time": "2024-10-25T15:22:55.217Z"
   },
   {
    "duration": 3,
    "start_time": "2024-10-25T15:22:55.433Z"
   },
   {
    "duration": 1418,
    "start_time": "2024-10-25T15:22:55.438Z"
   },
   {
    "duration": 19,
    "start_time": "2024-10-25T15:22:56.858Z"
   },
   {
    "duration": 10,
    "start_time": "2024-10-25T15:22:56.879Z"
   },
   {
    "duration": 219,
    "start_time": "2024-10-25T15:22:56.921Z"
   },
   {
    "duration": 217,
    "start_time": "2024-10-25T15:22:57.141Z"
   },
   {
    "duration": 88,
    "start_time": "2024-10-25T15:22:57.361Z"
   },
   {
    "duration": 86,
    "start_time": "2024-10-25T15:22:57.451Z"
   },
   {
    "duration": 109,
    "start_time": "2024-10-25T15:22:57.539Z"
   },
   {
    "duration": 203,
    "start_time": "2024-10-25T15:22:57.650Z"
   },
   {
    "duration": 1257,
    "start_time": "2024-10-25T15:22:57.855Z"
   },
   {
    "duration": 17,
    "start_time": "2024-10-25T15:22:59.114Z"
   },
   {
    "duration": 7,
    "start_time": "2024-10-25T15:22:59.133Z"
   },
   {
    "duration": 66,
    "start_time": "2024-10-25T15:22:59.142Z"
   },
   {
    "duration": 903,
    "start_time": "2024-10-25T15:22:59.221Z"
   },
   {
    "duration": 27,
    "start_time": "2024-10-25T15:23:00.126Z"
   },
   {
    "duration": 9,
    "start_time": "2024-10-25T15:23:00.155Z"
   },
   {
    "duration": 48,
    "start_time": "2024-10-25T15:23:00.166Z"
   },
   {
    "duration": 197,
    "start_time": "2024-10-25T15:23:00.221Z"
   },
   {
    "duration": 32,
    "start_time": "2024-10-25T15:23:00.420Z"
   },
   {
    "duration": 74,
    "start_time": "2024-10-25T15:23:00.454Z"
   },
   {
    "duration": 9,
    "start_time": "2024-10-25T15:23:00.530Z"
   },
   {
    "duration": 42,
    "start_time": "2024-10-25T15:23:00.540Z"
   },
   {
    "duration": 91,
    "start_time": "2024-10-25T15:23:00.584Z"
   },
   {
    "duration": 37,
    "start_time": "2024-10-25T15:23:00.677Z"
   },
   {
    "duration": 108,
    "start_time": "2024-10-25T15:23:00.719Z"
   },
   {
    "duration": 6,
    "start_time": "2024-10-25T15:23:00.829Z"
   },
   {
    "duration": 44,
    "start_time": "2024-10-25T15:23:00.836Z"
   },
   {
    "duration": 24,
    "start_time": "2024-10-25T15:23:00.881Z"
   },
   {
    "duration": 35,
    "start_time": "2024-10-25T15:23:00.906Z"
   },
   {
    "duration": 56,
    "start_time": "2024-10-25T15:23:00.943Z"
   },
   {
    "duration": 5,
    "start_time": "2024-10-25T15:23:01.001Z"
   },
   {
    "duration": 32,
    "start_time": "2024-10-25T15:23:01.008Z"
   },
   {
    "duration": 29,
    "start_time": "2024-10-25T15:23:01.042Z"
   },
   {
    "duration": 38,
    "start_time": "2024-10-25T15:23:01.072Z"
   },
   {
    "duration": 21,
    "start_time": "2024-10-25T15:23:01.112Z"
   },
   {
    "duration": 43,
    "start_time": "2024-10-25T15:23:01.134Z"
   },
   {
    "duration": 34,
    "start_time": "2024-10-25T15:23:01.178Z"
   },
   {
    "duration": 88,
    "start_time": "2024-10-25T15:23:01.213Z"
   },
   {
    "duration": 50,
    "start_time": "2024-10-25T15:23:01.303Z"
   },
   {
    "duration": 29,
    "start_time": "2024-10-25T15:23:01.354Z"
   },
   {
    "duration": 22,
    "start_time": "2024-10-25T15:23:01.384Z"
   },
   {
    "duration": 36,
    "start_time": "2024-10-25T15:23:01.408Z"
   },
   {
    "duration": 25,
    "start_time": "2024-10-25T15:23:01.446Z"
   },
   {
    "duration": 23,
    "start_time": "2024-10-25T15:23:01.472Z"
   },
   {
    "duration": 29,
    "start_time": "2024-10-25T15:23:01.497Z"
   },
   {
    "duration": 42,
    "start_time": "2024-10-25T15:23:01.528Z"
   },
   {
    "duration": 29,
    "start_time": "2024-10-25T15:23:01.572Z"
   },
   {
    "duration": 110,
    "start_time": "2024-10-25T15:29:05.615Z"
   },
   {
    "duration": 1147,
    "start_time": "2024-10-25T15:29:18.105Z"
   },
   {
    "duration": 217,
    "start_time": "2024-10-25T15:29:19.254Z"
   },
   {
    "duration": 3,
    "start_time": "2024-10-25T15:29:19.472Z"
   },
   {
    "duration": 764,
    "start_time": "2024-10-25T15:29:19.477Z"
   },
   {
    "duration": 19,
    "start_time": "2024-10-25T15:29:20.242Z"
   },
   {
    "duration": 82,
    "start_time": "2024-10-25T15:29:20.263Z"
   },
   {
    "duration": 215,
    "start_time": "2024-10-25T15:29:20.346Z"
   },
   {
    "duration": 284,
    "start_time": "2024-10-25T15:29:20.562Z"
   },
   {
    "duration": 94,
    "start_time": "2024-10-25T15:29:20.849Z"
   },
   {
    "duration": 85,
    "start_time": "2024-10-25T15:29:20.947Z"
   },
   {
    "duration": 115,
    "start_time": "2024-10-25T15:29:21.034Z"
   },
   {
    "duration": 269,
    "start_time": "2024-10-25T15:29:21.152Z"
   },
   {
    "duration": 1185,
    "start_time": "2024-10-25T15:29:21.423Z"
   },
   {
    "duration": 72,
    "start_time": "2024-10-25T15:29:22.610Z"
   },
   {
    "duration": 132,
    "start_time": "2024-10-25T15:29:22.684Z"
   },
   {
    "duration": 0,
    "start_time": "2024-10-25T15:29:22.821Z"
   },
   {
    "duration": 0,
    "start_time": "2024-10-25T15:29:22.823Z"
   },
   {
    "duration": 0,
    "start_time": "2024-10-25T15:29:22.824Z"
   },
   {
    "duration": 0,
    "start_time": "2024-10-25T15:29:22.826Z"
   },
   {
    "duration": 0,
    "start_time": "2024-10-25T15:29:22.827Z"
   },
   {
    "duration": 0,
    "start_time": "2024-10-25T15:29:22.828Z"
   },
   {
    "duration": 0,
    "start_time": "2024-10-25T15:29:22.830Z"
   },
   {
    "duration": 0,
    "start_time": "2024-10-25T15:29:22.831Z"
   },
   {
    "duration": 0,
    "start_time": "2024-10-25T15:29:22.832Z"
   },
   {
    "duration": 0,
    "start_time": "2024-10-25T15:29:22.833Z"
   },
   {
    "duration": 0,
    "start_time": "2024-10-25T15:29:22.835Z"
   },
   {
    "duration": 0,
    "start_time": "2024-10-25T15:29:22.836Z"
   },
   {
    "duration": 0,
    "start_time": "2024-10-25T15:29:22.837Z"
   },
   {
    "duration": 0,
    "start_time": "2024-10-25T15:29:22.838Z"
   },
   {
    "duration": 0,
    "start_time": "2024-10-25T15:29:22.839Z"
   },
   {
    "duration": 0,
    "start_time": "2024-10-25T15:29:22.840Z"
   },
   {
    "duration": 0,
    "start_time": "2024-10-25T15:29:22.841Z"
   },
   {
    "duration": 0,
    "start_time": "2024-10-25T15:29:22.842Z"
   },
   {
    "duration": 0,
    "start_time": "2024-10-25T15:29:22.843Z"
   },
   {
    "duration": 0,
    "start_time": "2024-10-25T15:29:22.847Z"
   },
   {
    "duration": 0,
    "start_time": "2024-10-25T15:29:22.851Z"
   },
   {
    "duration": 1,
    "start_time": "2024-10-25T15:29:22.852Z"
   },
   {
    "duration": 0,
    "start_time": "2024-10-25T15:29:22.854Z"
   },
   {
    "duration": 0,
    "start_time": "2024-10-25T15:29:22.855Z"
   },
   {
    "duration": 0,
    "start_time": "2024-10-25T15:29:22.857Z"
   },
   {
    "duration": 0,
    "start_time": "2024-10-25T15:29:22.858Z"
   },
   {
    "duration": 0,
    "start_time": "2024-10-25T15:29:22.859Z"
   },
   {
    "duration": 0,
    "start_time": "2024-10-25T15:29:22.861Z"
   },
   {
    "duration": 0,
    "start_time": "2024-10-25T15:29:22.921Z"
   },
   {
    "duration": 0,
    "start_time": "2024-10-25T15:29:22.922Z"
   },
   {
    "duration": 0,
    "start_time": "2024-10-25T15:29:22.924Z"
   },
   {
    "duration": 0,
    "start_time": "2024-10-25T15:29:22.926Z"
   },
   {
    "duration": 0,
    "start_time": "2024-10-25T15:29:22.927Z"
   },
   {
    "duration": 0,
    "start_time": "2024-10-25T15:29:22.928Z"
   },
   {
    "duration": 0,
    "start_time": "2024-10-25T15:29:22.929Z"
   },
   {
    "duration": 1110,
    "start_time": "2024-10-25T15:29:52.869Z"
   },
   {
    "duration": 218,
    "start_time": "2024-10-25T15:29:53.981Z"
   },
   {
    "duration": 3,
    "start_time": "2024-10-25T15:29:54.201Z"
   },
   {
    "duration": 1040,
    "start_time": "2024-10-25T15:29:54.206Z"
   },
   {
    "duration": 20,
    "start_time": "2024-10-25T15:29:55.248Z"
   },
   {
    "duration": 67,
    "start_time": "2024-10-25T15:29:55.270Z"
   },
   {
    "duration": 218,
    "start_time": "2024-10-25T15:29:55.338Z"
   },
   {
    "duration": 263,
    "start_time": "2024-10-25T15:29:55.558Z"
   },
   {
    "duration": 36,
    "start_time": "2024-10-25T15:29:55.823Z"
   },
   {
    "duration": 96,
    "start_time": "2024-10-25T15:29:55.862Z"
   },
   {
    "duration": 87,
    "start_time": "2024-10-25T15:29:55.959Z"
   },
   {
    "duration": 207,
    "start_time": "2024-10-25T15:29:56.047Z"
   },
   {
    "duration": 1033,
    "start_time": "2024-10-25T15:29:56.255Z"
   },
   {
    "duration": 93,
    "start_time": "2024-10-25T15:29:57.291Z"
   },
   {
    "duration": 131,
    "start_time": "2024-10-25T15:29:57.386Z"
   },
   {
    "duration": 0,
    "start_time": "2024-10-25T15:29:57.521Z"
   },
   {
    "duration": 0,
    "start_time": "2024-10-25T15:29:57.522Z"
   },
   {
    "duration": 0,
    "start_time": "2024-10-25T15:29:57.523Z"
   },
   {
    "duration": 0,
    "start_time": "2024-10-25T15:29:57.524Z"
   },
   {
    "duration": 0,
    "start_time": "2024-10-25T15:29:57.526Z"
   },
   {
    "duration": 0,
    "start_time": "2024-10-25T15:29:57.527Z"
   },
   {
    "duration": 0,
    "start_time": "2024-10-25T15:29:57.527Z"
   },
   {
    "duration": 0,
    "start_time": "2024-10-25T15:29:57.529Z"
   },
   {
    "duration": 0,
    "start_time": "2024-10-25T15:29:57.529Z"
   },
   {
    "duration": 0,
    "start_time": "2024-10-25T15:29:57.530Z"
   },
   {
    "duration": 0,
    "start_time": "2024-10-25T15:29:57.531Z"
   },
   {
    "duration": 0,
    "start_time": "2024-10-25T15:29:57.532Z"
   },
   {
    "duration": 0,
    "start_time": "2024-10-25T15:29:57.534Z"
   },
   {
    "duration": 0,
    "start_time": "2024-10-25T15:29:57.535Z"
   },
   {
    "duration": 0,
    "start_time": "2024-10-25T15:29:57.536Z"
   },
   {
    "duration": 0,
    "start_time": "2024-10-25T15:29:57.537Z"
   },
   {
    "duration": 0,
    "start_time": "2024-10-25T15:29:57.538Z"
   },
   {
    "duration": 0,
    "start_time": "2024-10-25T15:29:57.539Z"
   },
   {
    "duration": 0,
    "start_time": "2024-10-25T15:29:57.541Z"
   },
   {
    "duration": 0,
    "start_time": "2024-10-25T15:29:57.542Z"
   },
   {
    "duration": 0,
    "start_time": "2024-10-25T15:29:57.543Z"
   },
   {
    "duration": 0,
    "start_time": "2024-10-25T15:29:57.545Z"
   },
   {
    "duration": 0,
    "start_time": "2024-10-25T15:29:57.546Z"
   },
   {
    "duration": 0,
    "start_time": "2024-10-25T15:29:57.548Z"
   },
   {
    "duration": 0,
    "start_time": "2024-10-25T15:29:57.549Z"
   },
   {
    "duration": 0,
    "start_time": "2024-10-25T15:29:57.550Z"
   },
   {
    "duration": 0,
    "start_time": "2024-10-25T15:29:57.553Z"
   },
   {
    "duration": 0,
    "start_time": "2024-10-25T15:29:57.555Z"
   },
   {
    "duration": 0,
    "start_time": "2024-10-25T15:29:57.556Z"
   },
   {
    "duration": 0,
    "start_time": "2024-10-25T15:29:57.558Z"
   },
   {
    "duration": 0,
    "start_time": "2024-10-25T15:29:57.559Z"
   },
   {
    "duration": 0,
    "start_time": "2024-10-25T15:29:57.560Z"
   },
   {
    "duration": 0,
    "start_time": "2024-10-25T15:29:57.622Z"
   },
   {
    "duration": 0,
    "start_time": "2024-10-25T15:29:57.623Z"
   },
   {
    "duration": 777,
    "start_time": "2024-10-25T15:33:41.559Z"
   },
   {
    "duration": 12,
    "start_time": "2024-10-25T15:33:53.328Z"
   },
   {
    "duration": 62,
    "start_time": "2024-10-25T15:34:34.358Z"
   },
   {
    "duration": 58,
    "start_time": "2024-10-25T15:34:42.464Z"
   },
   {
    "duration": 785,
    "start_time": "2024-10-25T15:34:56.209Z"
   },
   {
    "duration": 60,
    "start_time": "2024-10-25T15:35:10.027Z"
   },
   {
    "duration": 73,
    "start_time": "2024-10-25T15:35:17.309Z"
   },
   {
    "duration": 1011,
    "start_time": "2024-10-25T15:35:46.565Z"
   },
   {
    "duration": 1184,
    "start_time": "2024-10-25T15:35:56.696Z"
   },
   {
    "duration": 217,
    "start_time": "2024-10-25T15:35:57.882Z"
   },
   {
    "duration": 3,
    "start_time": "2024-10-25T15:35:58.101Z"
   },
   {
    "duration": 764,
    "start_time": "2024-10-25T15:35:58.120Z"
   },
   {
    "duration": 21,
    "start_time": "2024-10-25T15:35:58.885Z"
   },
   {
    "duration": 43,
    "start_time": "2024-10-25T15:35:58.908Z"
   },
   {
    "duration": 162,
    "start_time": "2024-10-25T15:35:58.952Z"
   },
   {
    "duration": 109,
    "start_time": "2024-10-25T15:35:59.115Z"
   },
   {
    "duration": 31,
    "start_time": "2024-10-25T15:35:59.226Z"
   },
   {
    "duration": 33,
    "start_time": "2024-10-25T15:35:59.260Z"
   },
   {
    "duration": 46,
    "start_time": "2024-10-25T15:35:59.295Z"
   },
   {
    "duration": 121,
    "start_time": "2024-10-25T15:35:59.343Z"
   },
   {
    "duration": 944,
    "start_time": "2024-10-25T15:35:59.466Z"
   },
   {
    "duration": 65,
    "start_time": "2024-10-25T15:36:00.412Z"
   },
   {
    "duration": 920,
    "start_time": "2024-10-25T15:36:00.479Z"
   },
   {
    "duration": 0,
    "start_time": "2024-10-25T15:36:01.402Z"
   },
   {
    "duration": 0,
    "start_time": "2024-10-25T15:36:01.404Z"
   },
   {
    "duration": 0,
    "start_time": "2024-10-25T15:36:01.405Z"
   },
   {
    "duration": 0,
    "start_time": "2024-10-25T15:36:01.406Z"
   },
   {
    "duration": 0,
    "start_time": "2024-10-25T15:36:01.407Z"
   },
   {
    "duration": 0,
    "start_time": "2024-10-25T15:36:01.409Z"
   },
   {
    "duration": 0,
    "start_time": "2024-10-25T15:36:01.410Z"
   },
   {
    "duration": 0,
    "start_time": "2024-10-25T15:36:01.412Z"
   },
   {
    "duration": 0,
    "start_time": "2024-10-25T15:36:01.414Z"
   },
   {
    "duration": 0,
    "start_time": "2024-10-25T15:36:01.414Z"
   },
   {
    "duration": 0,
    "start_time": "2024-10-25T15:36:01.415Z"
   },
   {
    "duration": 0,
    "start_time": "2024-10-25T15:36:01.416Z"
   },
   {
    "duration": 0,
    "start_time": "2024-10-25T15:36:01.418Z"
   },
   {
    "duration": 0,
    "start_time": "2024-10-25T15:36:01.419Z"
   },
   {
    "duration": 0,
    "start_time": "2024-10-25T15:36:01.420Z"
   },
   {
    "duration": 0,
    "start_time": "2024-10-25T15:36:01.421Z"
   },
   {
    "duration": 0,
    "start_time": "2024-10-25T15:36:01.422Z"
   },
   {
    "duration": 0,
    "start_time": "2024-10-25T15:36:01.423Z"
   },
   {
    "duration": 0,
    "start_time": "2024-10-25T15:36:01.424Z"
   },
   {
    "duration": 0,
    "start_time": "2024-10-25T15:36:01.425Z"
   },
   {
    "duration": 0,
    "start_time": "2024-10-25T15:36:01.427Z"
   },
   {
    "duration": 0,
    "start_time": "2024-10-25T15:36:01.428Z"
   },
   {
    "duration": 0,
    "start_time": "2024-10-25T15:36:01.429Z"
   },
   {
    "duration": 0,
    "start_time": "2024-10-25T15:36:01.430Z"
   },
   {
    "duration": 0,
    "start_time": "2024-10-25T15:36:01.431Z"
   },
   {
    "duration": 0,
    "start_time": "2024-10-25T15:36:01.432Z"
   },
   {
    "duration": 0,
    "start_time": "2024-10-25T15:36:01.433Z"
   },
   {
    "duration": 0,
    "start_time": "2024-10-25T15:36:01.434Z"
   },
   {
    "duration": 0,
    "start_time": "2024-10-25T15:36:01.435Z"
   },
   {
    "duration": 0,
    "start_time": "2024-10-25T15:36:01.436Z"
   },
   {
    "duration": 0,
    "start_time": "2024-10-25T15:36:01.437Z"
   },
   {
    "duration": 0,
    "start_time": "2024-10-25T15:36:01.438Z"
   },
   {
    "duration": 0,
    "start_time": "2024-10-25T15:36:01.439Z"
   },
   {
    "duration": 0,
    "start_time": "2024-10-25T15:36:01.440Z"
   },
   {
    "duration": 0,
    "start_time": "2024-10-25T15:36:01.441Z"
   },
   {
    "duration": 61,
    "start_time": "2024-10-25T15:38:04.690Z"
   },
   {
    "duration": 58,
    "start_time": "2024-10-25T15:38:09.696Z"
   },
   {
    "duration": 1127,
    "start_time": "2024-10-25T15:38:23.965Z"
   },
   {
    "duration": 214,
    "start_time": "2024-10-25T15:38:25.094Z"
   },
   {
    "duration": 3,
    "start_time": "2024-10-25T15:38:25.309Z"
   },
   {
    "duration": 844,
    "start_time": "2024-10-25T15:38:25.314Z"
   },
   {
    "duration": 22,
    "start_time": "2024-10-25T15:38:26.160Z"
   },
   {
    "duration": 10,
    "start_time": "2024-10-25T15:38:26.183Z"
   },
   {
    "duration": 140,
    "start_time": "2024-10-25T15:38:26.195Z"
   },
   {
    "duration": 116,
    "start_time": "2024-10-25T15:38:26.337Z"
   },
   {
    "duration": 31,
    "start_time": "2024-10-25T15:38:26.455Z"
   },
   {
    "duration": 50,
    "start_time": "2024-10-25T15:38:26.488Z"
   },
   {
    "duration": 35,
    "start_time": "2024-10-25T15:38:26.539Z"
   },
   {
    "duration": 127,
    "start_time": "2024-10-25T15:38:26.576Z"
   },
   {
    "duration": 1041,
    "start_time": "2024-10-25T15:38:26.705Z"
   },
   {
    "duration": 79,
    "start_time": "2024-10-25T15:38:27.749Z"
   },
   {
    "duration": 902,
    "start_time": "2024-10-25T15:38:27.830Z"
   },
   {
    "duration": 0,
    "start_time": "2024-10-25T15:38:28.734Z"
   },
   {
    "duration": 0,
    "start_time": "2024-10-25T15:38:28.735Z"
   },
   {
    "duration": 0,
    "start_time": "2024-10-25T15:38:28.737Z"
   },
   {
    "duration": 0,
    "start_time": "2024-10-25T15:38:28.738Z"
   },
   {
    "duration": 0,
    "start_time": "2024-10-25T15:38:28.739Z"
   },
   {
    "duration": 0,
    "start_time": "2024-10-25T15:38:28.740Z"
   },
   {
    "duration": 1,
    "start_time": "2024-10-25T15:38:28.741Z"
   },
   {
    "duration": 0,
    "start_time": "2024-10-25T15:38:28.743Z"
   },
   {
    "duration": 0,
    "start_time": "2024-10-25T15:38:28.744Z"
   },
   {
    "duration": 0,
    "start_time": "2024-10-25T15:38:28.745Z"
   },
   {
    "duration": 0,
    "start_time": "2024-10-25T15:38:28.745Z"
   },
   {
    "duration": 0,
    "start_time": "2024-10-25T15:38:28.746Z"
   },
   {
    "duration": 0,
    "start_time": "2024-10-25T15:38:28.747Z"
   },
   {
    "duration": 0,
    "start_time": "2024-10-25T15:38:28.749Z"
   },
   {
    "duration": 0,
    "start_time": "2024-10-25T15:38:28.750Z"
   },
   {
    "duration": 0,
    "start_time": "2024-10-25T15:38:28.750Z"
   },
   {
    "duration": 0,
    "start_time": "2024-10-25T15:38:28.752Z"
   },
   {
    "duration": 0,
    "start_time": "2024-10-25T15:38:28.752Z"
   },
   {
    "duration": 0,
    "start_time": "2024-10-25T15:38:28.753Z"
   },
   {
    "duration": 0,
    "start_time": "2024-10-25T15:38:28.754Z"
   },
   {
    "duration": 0,
    "start_time": "2024-10-25T15:38:28.755Z"
   },
   {
    "duration": 0,
    "start_time": "2024-10-25T15:38:28.756Z"
   },
   {
    "duration": 0,
    "start_time": "2024-10-25T15:38:28.757Z"
   },
   {
    "duration": 0,
    "start_time": "2024-10-25T15:38:28.758Z"
   },
   {
    "duration": 0,
    "start_time": "2024-10-25T15:38:28.759Z"
   },
   {
    "duration": 0,
    "start_time": "2024-10-25T15:38:28.760Z"
   },
   {
    "duration": 0,
    "start_time": "2024-10-25T15:38:28.761Z"
   },
   {
    "duration": 0,
    "start_time": "2024-10-25T15:38:28.762Z"
   },
   {
    "duration": 0,
    "start_time": "2024-10-25T15:38:28.763Z"
   },
   {
    "duration": 0,
    "start_time": "2024-10-25T15:38:28.764Z"
   },
   {
    "duration": 0,
    "start_time": "2024-10-25T15:38:28.765Z"
   },
   {
    "duration": 0,
    "start_time": "2024-10-25T15:38:28.766Z"
   },
   {
    "duration": 0,
    "start_time": "2024-10-25T15:38:28.767Z"
   },
   {
    "duration": 0,
    "start_time": "2024-10-25T15:38:28.768Z"
   },
   {
    "duration": 0,
    "start_time": "2024-10-25T15:38:28.769Z"
   },
   {
    "duration": 95,
    "start_time": "2024-10-25T15:38:41.562Z"
   },
   {
    "duration": 72,
    "start_time": "2024-10-25T15:39:21.155Z"
   },
   {
    "duration": 71,
    "start_time": "2024-10-25T15:40:30.640Z"
   },
   {
    "duration": 60,
    "start_time": "2024-10-25T15:41:01.743Z"
   },
   {
    "duration": 5,
    "start_time": "2024-10-25T15:41:51.407Z"
   },
   {
    "duration": 66,
    "start_time": "2024-10-25T15:43:32.200Z"
   },
   {
    "duration": 346,
    "start_time": "2024-10-25T15:47:52.877Z"
   },
   {
    "duration": 256,
    "start_time": "2024-10-25T15:48:09.580Z"
   },
   {
    "duration": 373,
    "start_time": "2024-10-25T15:48:26.306Z"
   },
   {
    "duration": 438,
    "start_time": "2024-10-25T15:49:26.100Z"
   },
   {
    "duration": 516,
    "start_time": "2024-10-25T15:49:48.344Z"
   },
   {
    "duration": 471,
    "start_time": "2024-10-25T15:51:27.734Z"
   },
   {
    "duration": 550,
    "start_time": "2024-10-25T15:51:38.523Z"
   },
   {
    "duration": 459,
    "start_time": "2024-10-25T15:51:47.102Z"
   },
   {
    "duration": 1140,
    "start_time": "2024-10-25T15:53:02.915Z"
   },
   {
    "duration": 220,
    "start_time": "2024-10-25T15:53:04.057Z"
   },
   {
    "duration": 3,
    "start_time": "2024-10-25T15:53:04.279Z"
   },
   {
    "duration": 742,
    "start_time": "2024-10-25T15:53:04.284Z"
   },
   {
    "duration": 18,
    "start_time": "2024-10-25T15:53:05.028Z"
   },
   {
    "duration": 11,
    "start_time": "2024-10-25T15:53:05.048Z"
   },
   {
    "duration": 139,
    "start_time": "2024-10-25T15:53:05.060Z"
   },
   {
    "duration": 115,
    "start_time": "2024-10-25T15:53:05.201Z"
   },
   {
    "duration": 31,
    "start_time": "2024-10-25T15:53:05.320Z"
   },
   {
    "duration": 97,
    "start_time": "2024-10-25T15:53:05.353Z"
   },
   {
    "duration": 69,
    "start_time": "2024-10-25T15:53:05.452Z"
   },
   {
    "duration": 176,
    "start_time": "2024-10-25T15:53:05.523Z"
   },
   {
    "duration": 981,
    "start_time": "2024-10-25T15:53:05.701Z"
   },
   {
    "duration": 86,
    "start_time": "2024-10-25T15:53:06.684Z"
   },
   {
    "duration": 463,
    "start_time": "2024-10-25T15:53:06.772Z"
   },
   {
    "duration": 899,
    "start_time": "2024-10-25T15:53:07.236Z"
   },
   {
    "duration": 29,
    "start_time": "2024-10-25T15:53:08.136Z"
   },
   {
    "duration": 4,
    "start_time": "2024-10-25T15:53:08.166Z"
   },
   {
    "duration": 58,
    "start_time": "2024-10-25T15:53:08.172Z"
   },
   {
    "duration": 27,
    "start_time": "2024-10-25T15:53:08.232Z"
   },
   {
    "duration": 32,
    "start_time": "2024-10-25T15:53:08.261Z"
   },
   {
    "duration": 81,
    "start_time": "2024-10-25T15:53:08.295Z"
   },
   {
    "duration": 8,
    "start_time": "2024-10-25T15:53:08.378Z"
   },
   {
    "duration": 58,
    "start_time": "2024-10-25T15:53:08.387Z"
   },
   {
    "duration": 82,
    "start_time": "2024-10-25T15:53:08.447Z"
   },
   {
    "duration": 37,
    "start_time": "2024-10-25T15:53:08.530Z"
   },
   {
    "duration": 98,
    "start_time": "2024-10-25T15:53:08.569Z"
   },
   {
    "duration": 6,
    "start_time": "2024-10-25T15:53:08.670Z"
   },
   {
    "duration": 40,
    "start_time": "2024-10-25T15:53:08.677Z"
   },
   {
    "duration": 18,
    "start_time": "2024-10-25T15:53:08.718Z"
   },
   {
    "duration": 8,
    "start_time": "2024-10-25T15:53:08.738Z"
   },
   {
    "duration": 38,
    "start_time": "2024-10-25T15:53:08.748Z"
   },
   {
    "duration": 119,
    "start_time": "2024-10-25T15:53:08.788Z"
   },
   {
    "duration": 27,
    "start_time": "2024-10-25T15:53:08.909Z"
   },
   {
    "duration": 17,
    "start_time": "2024-10-25T15:53:08.938Z"
   },
   {
    "duration": 8,
    "start_time": "2024-10-25T15:53:08.958Z"
   },
   {
    "duration": 14,
    "start_time": "2024-10-25T15:53:08.968Z"
   },
   {
    "duration": 12,
    "start_time": "2024-10-25T15:53:08.984Z"
   },
   {
    "duration": 13,
    "start_time": "2024-10-25T15:53:08.998Z"
   },
   {
    "duration": 22,
    "start_time": "2024-10-25T15:53:09.013Z"
   },
   {
    "duration": 11,
    "start_time": "2024-10-25T15:53:09.037Z"
   },
   {
    "duration": 12,
    "start_time": "2024-10-25T15:53:09.050Z"
   },
   {
    "duration": 9,
    "start_time": "2024-10-25T15:53:09.064Z"
   },
   {
    "duration": 7,
    "start_time": "2024-10-25T15:53:09.075Z"
   },
   {
    "duration": 13,
    "start_time": "2024-10-25T15:53:09.084Z"
   },
   {
    "duration": 41,
    "start_time": "2024-10-25T15:53:09.099Z"
   },
   {
    "duration": 9,
    "start_time": "2024-10-25T15:53:09.142Z"
   },
   {
    "duration": 13,
    "start_time": "2024-10-25T15:53:09.153Z"
   },
   {
    "duration": 8,
    "start_time": "2024-10-25T15:53:09.168Z"
   },
   {
    "duration": 64,
    "start_time": "2024-10-25T15:59:35.044Z"
   },
   {
    "duration": 107,
    "start_time": "2024-10-25T15:59:40.690Z"
   },
   {
    "duration": 11,
    "start_time": "2024-10-25T15:59:45.364Z"
   },
   {
    "duration": 14,
    "start_time": "2024-10-25T16:00:06.814Z"
   },
   {
    "duration": 6,
    "start_time": "2024-10-25T16:00:45.394Z"
   },
   {
    "duration": 6,
    "start_time": "2024-10-25T16:01:11.084Z"
   },
   {
    "duration": 5,
    "start_time": "2024-10-25T16:01:18.983Z"
   },
   {
    "duration": 6,
    "start_time": "2024-10-25T16:01:37.438Z"
   },
   {
    "duration": 5,
    "start_time": "2024-10-25T16:03:06.346Z"
   },
   {
    "duration": 5,
    "start_time": "2024-10-25T16:03:12.414Z"
   },
   {
    "duration": 14,
    "start_time": "2024-10-25T16:04:55.020Z"
   },
   {
    "duration": 10,
    "start_time": "2024-10-25T16:05:08.157Z"
   },
   {
    "duration": 8,
    "start_time": "2024-10-25T16:06:04.812Z"
   },
   {
    "duration": 16,
    "start_time": "2024-10-25T16:07:23.301Z"
   },
   {
    "duration": 58,
    "start_time": "2024-10-25T16:08:54.782Z"
   },
   {
    "duration": 12,
    "start_time": "2024-10-25T16:09:09.314Z"
   },
   {
    "duration": 4,
    "start_time": "2024-10-25T16:09:33.189Z"
   },
   {
    "duration": 13,
    "start_time": "2024-10-25T16:10:46.351Z"
   },
   {
    "duration": 12,
    "start_time": "2024-10-25T16:10:55.799Z"
   },
   {
    "duration": 22,
    "start_time": "2024-10-25T16:11:02.913Z"
   },
   {
    "duration": 12,
    "start_time": "2024-10-25T16:11:09.838Z"
   },
   {
    "duration": 15,
    "start_time": "2024-10-25T16:11:17.891Z"
   },
   {
    "duration": 17,
    "start_time": "2024-10-25T16:11:28.855Z"
   },
   {
    "duration": 10,
    "start_time": "2024-10-25T16:11:41.681Z"
   },
   {
    "duration": 13,
    "start_time": "2024-10-25T16:11:53.008Z"
   },
   {
    "duration": 11,
    "start_time": "2024-10-25T16:11:58.810Z"
   },
   {
    "duration": 11,
    "start_time": "2024-10-25T16:13:01.645Z"
   },
   {
    "duration": 10,
    "start_time": "2024-10-25T16:13:55.200Z"
   },
   {
    "duration": 10,
    "start_time": "2024-10-25T16:14:36.941Z"
   },
   {
    "duration": 4,
    "start_time": "2024-10-25T16:15:03.392Z"
   },
   {
    "duration": 4,
    "start_time": "2024-10-25T16:15:05.581Z"
   },
   {
    "duration": 15,
    "start_time": "2024-10-25T16:16:06.179Z"
   },
   {
    "duration": 1130,
    "start_time": "2024-10-25T16:16:53.597Z"
   },
   {
    "duration": 233,
    "start_time": "2024-10-25T16:16:54.730Z"
   },
   {
    "duration": 4,
    "start_time": "2024-10-25T16:16:54.966Z"
   },
   {
    "duration": 782,
    "start_time": "2024-10-25T16:16:54.972Z"
   },
   {
    "duration": 20,
    "start_time": "2024-10-25T16:16:55.757Z"
   },
   {
    "duration": 6,
    "start_time": "2024-10-25T16:16:55.779Z"
   },
   {
    "duration": 138,
    "start_time": "2024-10-25T16:16:55.786Z"
   },
   {
    "duration": 123,
    "start_time": "2024-10-25T16:16:55.926Z"
   },
   {
    "duration": 38,
    "start_time": "2024-10-25T16:16:56.051Z"
   },
   {
    "duration": 68,
    "start_time": "2024-10-25T16:16:56.090Z"
   },
   {
    "duration": 66,
    "start_time": "2024-10-25T16:16:56.160Z"
   },
   {
    "duration": 115,
    "start_time": "2024-10-25T16:16:56.228Z"
   },
   {
    "duration": 1088,
    "start_time": "2024-10-25T16:16:56.345Z"
   },
   {
    "duration": 67,
    "start_time": "2024-10-25T16:16:57.437Z"
   },
   {
    "duration": 509,
    "start_time": "2024-10-25T16:16:57.520Z"
   },
   {
    "duration": 40,
    "start_time": "2024-10-25T16:16:58.032Z"
   },
   {
    "duration": 4,
    "start_time": "2024-10-25T16:16:58.074Z"
   },
   {
    "duration": 14,
    "start_time": "2024-10-25T16:16:58.080Z"
   },
   {
    "duration": 39,
    "start_time": "2024-10-25T16:16:58.121Z"
   },
   {
    "duration": 27,
    "start_time": "2024-10-25T16:16:58.161Z"
   },
   {
    "duration": 63,
    "start_time": "2024-10-25T16:16:58.191Z"
   },
   {
    "duration": 115,
    "start_time": "2024-10-25T16:16:58.256Z"
   },
   {
    "duration": 12,
    "start_time": "2024-10-25T16:16:58.373Z"
   },
   {
    "duration": 17,
    "start_time": "2024-10-25T16:16:58.386Z"
   },
   {
    "duration": 56,
    "start_time": "2024-10-25T16:16:58.422Z"
   },
   {
    "duration": 65,
    "start_time": "2024-10-25T16:16:58.480Z"
   },
   {
    "duration": 94,
    "start_time": "2024-10-25T16:16:58.547Z"
   },
   {
    "duration": 8,
    "start_time": "2024-10-25T16:16:58.643Z"
   },
   {
    "duration": 10,
    "start_time": "2024-10-25T16:16:58.653Z"
   },
   {
    "duration": 8,
    "start_time": "2024-10-25T16:16:58.665Z"
   },
   {
    "duration": 15,
    "start_time": "2024-10-25T16:16:58.675Z"
   },
   {
    "duration": 64,
    "start_time": "2024-10-25T16:16:58.692Z"
   },
   {
    "duration": 6,
    "start_time": "2024-10-25T16:16:58.757Z"
   },
   {
    "duration": 9,
    "start_time": "2024-10-25T16:16:58.765Z"
   },
   {
    "duration": 13,
    "start_time": "2024-10-25T16:16:58.775Z"
   },
   {
    "duration": 33,
    "start_time": "2024-10-25T16:16:58.790Z"
   },
   {
    "duration": 123,
    "start_time": "2024-10-25T16:16:58.824Z"
   },
   {
    "duration": 16,
    "start_time": "2024-10-25T16:16:58.949Z"
   },
   {
    "duration": 20,
    "start_time": "2024-10-25T16:16:58.967Z"
   },
   {
    "duration": 9,
    "start_time": "2024-10-25T16:16:58.989Z"
   },
   {
    "duration": 15,
    "start_time": "2024-10-25T16:16:59.003Z"
   },
   {
    "duration": 28,
    "start_time": "2024-10-25T16:16:59.019Z"
   },
   {
    "duration": 12,
    "start_time": "2024-10-25T16:16:59.049Z"
   },
   {
    "duration": 6,
    "start_time": "2024-10-25T16:16:59.063Z"
   },
   {
    "duration": 20,
    "start_time": "2024-10-25T16:16:59.071Z"
   },
   {
    "duration": 30,
    "start_time": "2024-10-25T16:16:59.093Z"
   },
   {
    "duration": 32,
    "start_time": "2024-10-25T16:16:59.125Z"
   },
   {
    "duration": 10,
    "start_time": "2024-10-25T16:16:59.159Z"
   },
   {
    "duration": 23,
    "start_time": "2024-10-25T16:16:59.171Z"
   },
   {
    "duration": 11,
    "start_time": "2024-10-25T16:17:19.510Z"
   },
   {
    "duration": 51,
    "start_time": "2024-10-25T16:30:13.821Z"
   },
   {
    "duration": 1171,
    "start_time": "2024-10-25T16:47:08.205Z"
   },
   {
    "duration": 213,
    "start_time": "2024-10-25T16:47:09.378Z"
   },
   {
    "duration": 3,
    "start_time": "2024-10-25T16:47:09.593Z"
   },
   {
    "duration": 873,
    "start_time": "2024-10-25T16:47:09.599Z"
   },
   {
    "duration": 22,
    "start_time": "2024-10-25T16:47:10.474Z"
   },
   {
    "duration": 6,
    "start_time": "2024-10-25T16:47:10.498Z"
   },
   {
    "duration": 144,
    "start_time": "2024-10-25T16:47:10.505Z"
   },
   {
    "duration": 114,
    "start_time": "2024-10-25T16:47:10.651Z"
   },
   {
    "duration": 31,
    "start_time": "2024-10-25T16:47:10.766Z"
   },
   {
    "duration": 47,
    "start_time": "2024-10-25T16:47:10.800Z"
   },
   {
    "duration": 38,
    "start_time": "2024-10-25T16:47:10.849Z"
   },
   {
    "duration": 132,
    "start_time": "2024-10-25T16:47:10.889Z"
   },
   {
    "duration": 963,
    "start_time": "2024-10-25T16:47:11.022Z"
   },
   {
    "duration": 71,
    "start_time": "2024-10-25T16:47:11.987Z"
   },
   {
    "duration": 435,
    "start_time": "2024-10-25T16:47:12.059Z"
   },
   {
    "duration": 36,
    "start_time": "2024-10-25T16:47:12.496Z"
   },
   {
    "duration": 3,
    "start_time": "2024-10-25T16:47:12.534Z"
   },
   {
    "duration": 24,
    "start_time": "2024-10-25T16:47:12.539Z"
   },
   {
    "duration": 65,
    "start_time": "2024-10-25T16:47:12.565Z"
   },
   {
    "duration": 25,
    "start_time": "2024-10-25T16:47:12.631Z"
   },
   {
    "duration": 29,
    "start_time": "2024-10-25T16:47:12.657Z"
   },
   {
    "duration": 79,
    "start_time": "2024-10-25T16:47:12.687Z"
   },
   {
    "duration": 16,
    "start_time": "2024-10-25T16:47:12.768Z"
   },
   {
    "duration": 17,
    "start_time": "2024-10-25T16:47:12.785Z"
   },
   {
    "duration": 59,
    "start_time": "2024-10-25T16:47:12.804Z"
   },
   {
    "duration": 37,
    "start_time": "2024-10-25T16:47:12.864Z"
   },
   {
    "duration": 103,
    "start_time": "2024-10-25T16:47:12.904Z"
   },
   {
    "duration": 9,
    "start_time": "2024-10-25T16:47:13.012Z"
   },
   {
    "duration": 6,
    "start_time": "2024-10-25T16:47:13.022Z"
   },
   {
    "duration": 13,
    "start_time": "2024-10-25T16:47:13.030Z"
   },
   {
    "duration": 72,
    "start_time": "2024-10-25T16:47:13.044Z"
   },
   {
    "duration": 36,
    "start_time": "2024-10-25T16:47:13.118Z"
   },
   {
    "duration": 7,
    "start_time": "2024-10-25T16:47:13.155Z"
   },
   {
    "duration": 6,
    "start_time": "2024-10-25T16:47:13.163Z"
   },
   {
    "duration": 7,
    "start_time": "2024-10-25T16:47:13.171Z"
   },
   {
    "duration": 5,
    "start_time": "2024-10-25T16:47:13.179Z"
   },
   {
    "duration": 5,
    "start_time": "2024-10-25T16:47:13.186Z"
   },
   {
    "duration": 6,
    "start_time": "2024-10-25T16:47:13.221Z"
   },
   {
    "duration": 9,
    "start_time": "2024-10-25T16:47:13.228Z"
   },
   {
    "duration": 14,
    "start_time": "2024-10-25T16:47:13.238Z"
   },
   {
    "duration": 6,
    "start_time": "2024-10-25T16:47:13.254Z"
   },
   {
    "duration": 7,
    "start_time": "2024-10-25T16:47:13.261Z"
   },
   {
    "duration": 7,
    "start_time": "2024-10-25T16:47:13.270Z"
   },
   {
    "duration": 9,
    "start_time": "2024-10-25T16:47:13.278Z"
   },
   {
    "duration": 35,
    "start_time": "2024-10-25T16:47:13.289Z"
   },
   {
    "duration": 6,
    "start_time": "2024-10-25T16:47:13.326Z"
   },
   {
    "duration": 12,
    "start_time": "2024-10-25T16:47:13.333Z"
   },
   {
    "duration": 6,
    "start_time": "2024-10-25T16:47:13.346Z"
   },
   {
    "duration": 7,
    "start_time": "2024-10-25T16:47:13.354Z"
   },
   {
    "duration": 1184,
    "start_time": "2024-10-26T06:25:10.394Z"
   },
   {
    "duration": 224,
    "start_time": "2024-10-26T06:25:11.580Z"
   },
   {
    "duration": 13,
    "start_time": "2024-10-26T06:25:11.805Z"
   },
   {
    "duration": 799,
    "start_time": "2024-10-26T06:25:11.820Z"
   },
   {
    "duration": 20,
    "start_time": "2024-10-26T06:25:12.621Z"
   },
   {
    "duration": 5,
    "start_time": "2024-10-26T06:25:12.643Z"
   },
   {
    "duration": 135,
    "start_time": "2024-10-26T06:25:12.650Z"
   },
   {
    "duration": 115,
    "start_time": "2024-10-26T06:25:12.787Z"
   },
   {
    "duration": 35,
    "start_time": "2024-10-26T06:25:12.904Z"
   },
   {
    "duration": 39,
    "start_time": "2024-10-26T06:25:12.941Z"
   },
   {
    "duration": 60,
    "start_time": "2024-10-26T06:25:12.982Z"
   },
   {
    "duration": 126,
    "start_time": "2024-10-26T06:25:13.044Z"
   },
   {
    "duration": 981,
    "start_time": "2024-10-26T06:25:13.171Z"
   },
   {
    "duration": 76,
    "start_time": "2024-10-26T06:25:14.155Z"
   },
   {
    "duration": 484,
    "start_time": "2024-10-26T06:25:14.233Z"
   },
   {
    "duration": 28,
    "start_time": "2024-10-26T06:25:14.719Z"
   },
   {
    "duration": 3,
    "start_time": "2024-10-26T06:25:14.749Z"
   },
   {
    "duration": 16,
    "start_time": "2024-10-26T06:25:14.754Z"
   },
   {
    "duration": 50,
    "start_time": "2024-10-26T06:25:14.772Z"
   },
   {
    "duration": 26,
    "start_time": "2024-10-26T06:25:14.824Z"
   },
   {
    "duration": 31,
    "start_time": "2024-10-26T06:25:14.851Z"
   },
   {
    "duration": 82,
    "start_time": "2024-10-26T06:25:14.884Z"
   },
   {
    "duration": 9,
    "start_time": "2024-10-26T06:25:14.967Z"
   },
   {
    "duration": 18,
    "start_time": "2024-10-26T06:25:14.977Z"
   },
   {
    "duration": 51,
    "start_time": "2024-10-26T06:25:14.997Z"
   },
   {
    "duration": 40,
    "start_time": "2024-10-26T06:25:15.050Z"
   },
   {
    "duration": 98,
    "start_time": "2024-10-26T06:25:15.092Z"
   },
   {
    "duration": 6,
    "start_time": "2024-10-26T06:25:15.192Z"
   },
   {
    "duration": 36,
    "start_time": "2024-10-26T06:25:15.200Z"
   },
   {
    "duration": 9,
    "start_time": "2024-10-26T06:25:15.238Z"
   },
   {
    "duration": 23,
    "start_time": "2024-10-26T06:25:15.249Z"
   },
   {
    "duration": 38,
    "start_time": "2024-10-26T06:25:15.274Z"
   },
   {
    "duration": 6,
    "start_time": "2024-10-26T06:25:15.314Z"
   },
   {
    "duration": 27,
    "start_time": "2024-10-26T06:25:15.321Z"
   },
   {
    "duration": 35,
    "start_time": "2024-10-26T06:25:15.349Z"
   },
   {
    "duration": 9,
    "start_time": "2024-10-26T06:25:15.386Z"
   },
   {
    "duration": 8,
    "start_time": "2024-10-26T06:25:15.396Z"
   },
   {
    "duration": 12,
    "start_time": "2024-10-26T06:25:15.406Z"
   },
   {
    "duration": 8,
    "start_time": "2024-10-26T06:25:15.420Z"
   },
   {
    "duration": 7,
    "start_time": "2024-10-26T06:25:15.430Z"
   },
   {
    "duration": 8,
    "start_time": "2024-10-26T06:25:15.441Z"
   },
   {
    "duration": 7,
    "start_time": "2024-10-26T06:25:15.451Z"
   },
   {
    "duration": 8,
    "start_time": "2024-10-26T06:25:15.459Z"
   },
   {
    "duration": 9,
    "start_time": "2024-10-26T06:25:15.468Z"
   },
   {
    "duration": 44,
    "start_time": "2024-10-26T06:25:15.479Z"
   },
   {
    "duration": 6,
    "start_time": "2024-10-26T06:25:15.525Z"
   },
   {
    "duration": 8,
    "start_time": "2024-10-26T06:25:15.533Z"
   },
   {
    "duration": 8,
    "start_time": "2024-10-26T06:25:15.542Z"
   },
   {
    "duration": 8,
    "start_time": "2024-10-26T06:25:15.551Z"
   },
   {
    "duration": 1125,
    "start_time": "2024-10-26T06:33:32.955Z"
   },
   {
    "duration": 213,
    "start_time": "2024-10-26T06:33:34.082Z"
   },
   {
    "duration": 3,
    "start_time": "2024-10-26T06:33:34.297Z"
   },
   {
    "duration": 780,
    "start_time": "2024-10-26T06:33:34.302Z"
   },
   {
    "duration": 20,
    "start_time": "2024-10-26T06:33:35.083Z"
   },
   {
    "duration": 17,
    "start_time": "2024-10-26T06:33:35.105Z"
   },
   {
    "duration": 129,
    "start_time": "2024-10-26T06:33:35.123Z"
   },
   {
    "duration": 116,
    "start_time": "2024-10-26T06:33:35.253Z"
   },
   {
    "duration": 31,
    "start_time": "2024-10-26T06:33:35.371Z"
   },
   {
    "duration": 41,
    "start_time": "2024-10-26T06:33:35.404Z"
   },
   {
    "duration": 33,
    "start_time": "2024-10-26T06:33:35.446Z"
   },
   {
    "duration": 118,
    "start_time": "2024-10-26T06:33:35.480Z"
   },
   {
    "duration": 1001,
    "start_time": "2024-10-26T06:33:35.600Z"
   },
   {
    "duration": 74,
    "start_time": "2024-10-26T06:33:36.603Z"
   },
   {
    "duration": 420,
    "start_time": "2024-10-26T06:33:36.678Z"
   },
   {
    "duration": 35,
    "start_time": "2024-10-26T06:33:37.100Z"
   },
   {
    "duration": 3,
    "start_time": "2024-10-26T06:33:37.137Z"
   },
   {
    "duration": 12,
    "start_time": "2024-10-26T06:33:37.141Z"
   },
   {
    "duration": 35,
    "start_time": "2024-10-26T06:33:37.154Z"
   },
   {
    "duration": 45,
    "start_time": "2024-10-26T06:33:37.191Z"
   },
   {
    "duration": 30,
    "start_time": "2024-10-26T06:33:37.237Z"
   },
   {
    "duration": 77,
    "start_time": "2024-10-26T06:33:37.268Z"
   },
   {
    "duration": 9,
    "start_time": "2024-10-26T06:33:37.347Z"
   },
   {
    "duration": 20,
    "start_time": "2024-10-26T06:33:37.358Z"
   },
   {
    "duration": 57,
    "start_time": "2024-10-26T06:33:37.379Z"
   },
   {
    "duration": 35,
    "start_time": "2024-10-26T06:33:37.437Z"
   },
   {
    "duration": 97,
    "start_time": "2024-10-26T06:33:37.473Z"
   },
   {
    "duration": 5,
    "start_time": "2024-10-26T06:33:37.574Z"
   },
   {
    "duration": 17,
    "start_time": "2024-10-26T06:33:37.581Z"
   },
   {
    "duration": 19,
    "start_time": "2024-10-26T06:33:37.600Z"
   },
   {
    "duration": 39,
    "start_time": "2024-10-26T06:33:37.620Z"
   },
   {
    "duration": 44,
    "start_time": "2024-10-26T06:33:37.661Z"
   },
   {
    "duration": 8,
    "start_time": "2024-10-26T06:33:37.707Z"
   },
   {
    "duration": 10,
    "start_time": "2024-10-26T06:33:37.717Z"
   },
   {
    "duration": 8,
    "start_time": "2024-10-26T06:33:37.728Z"
   },
   {
    "duration": 6,
    "start_time": "2024-10-26T06:33:37.737Z"
   },
   {
    "duration": 6,
    "start_time": "2024-10-26T06:33:37.745Z"
   },
   {
    "duration": 22,
    "start_time": "2024-10-26T06:33:37.753Z"
   },
   {
    "duration": 9,
    "start_time": "2024-10-26T06:33:37.776Z"
   },
   {
    "duration": 26,
    "start_time": "2024-10-26T06:33:37.787Z"
   },
   {
    "duration": 25,
    "start_time": "2024-10-26T06:33:37.817Z"
   },
   {
    "duration": 18,
    "start_time": "2024-10-26T06:33:37.844Z"
   },
   {
    "duration": 32,
    "start_time": "2024-10-26T06:33:37.864Z"
   },
   {
    "duration": 10,
    "start_time": "2024-10-26T06:33:37.898Z"
   },
   {
    "duration": 22,
    "start_time": "2024-10-26T06:33:37.910Z"
   },
   {
    "duration": 9,
    "start_time": "2024-10-26T06:33:37.934Z"
   },
   {
    "duration": 11,
    "start_time": "2024-10-26T06:33:37.945Z"
   },
   {
    "duration": 19,
    "start_time": "2024-10-26T06:33:37.957Z"
   },
   {
    "duration": 43,
    "start_time": "2024-10-26T06:33:37.977Z"
   }
  ],
  "kernelspec": {
   "display_name": "Python 3 (ipykernel)",
   "language": "python",
   "name": "python3"
  },
  "language_info": {
   "codemirror_mode": {
    "name": "ipython",
    "version": 3
   },
   "file_extension": ".py",
   "mimetype": "text/x-python",
   "name": "python",
   "nbconvert_exporter": "python",
   "pygments_lexer": "ipython3",
   "version": "3.9.5"
  },
  "toc": {
   "base_numbering": 1,
   "nav_menu": {},
   "number_sections": true,
   "sideBar": true,
   "skip_h1_title": true,
   "title_cell": "Table of Contents",
   "title_sidebar": "Contents",
   "toc_cell": false,
   "toc_position": {
    "height": "calc(100% - 180px)",
    "left": "10px",
    "top": "150px",
    "width": "590.469px"
   },
   "toc_section_display": true,
   "toc_window_display": true
  }
 },
 "nbformat": 4,
 "nbformat_minor": 4
}
